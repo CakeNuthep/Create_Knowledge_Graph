{
  "nbformat": 4,
  "nbformat_minor": 0,
  "metadata": {
    "colab": {
      "name": "adct_extraction.ipynb",
      "provenance": [],
      "collapsed_sections": [],
      "toc_visible": true,
      "authorship_tag": "ABX9TyMYyW03zzeVbtApKzCAIdx5",
      "include_colab_link": true
    },
    "kernelspec": {
      "name": "python3",
      "display_name": "Python 3"
    },
    "language_info": {
      "name": "python"
    }
  },
  "cells": [
    {
      "cell_type": "markdown",
      "metadata": {
        "id": "view-in-github",
        "colab_type": "text"
      },
      "source": [
        "<a href=\"https://colab.research.google.com/github/CakeNuthep/Create_Knowledge_Graph/blob/main/adct_extraction.ipynb\" target=\"_parent\"><img src=\"https://colab.research.google.com/assets/colab-badge.svg\" alt=\"Open In Colab\"/></a>"
      ]
    },
    {
      "cell_type": "code",
      "metadata": {
        "colab": {
          "base_uri": "https://localhost:8080/"
        },
        "id": "z3t2x47e4r5I",
        "outputId": "7018ed24-1c25-4a43-d5ba-a1b22dd1a3b1"
      },
      "source": [
        "from google.colab import drive\n",
        "drive.mount('/content/drive')"
      ],
      "execution_count": 1,
      "outputs": [
        {
          "output_type": "stream",
          "text": [
            "Mounted at /content/drive\n"
          ],
          "name": "stdout"
        }
      ]
    },
    {
      "cell_type": "code",
      "metadata": {
        "id": "-kcdnmMP41dE"
      },
      "source": [
        "import pandas as pd"
      ],
      "execution_count": 2,
      "outputs": []
    },
    {
      "cell_type": "markdown",
      "metadata": {
        "id": "J6zfuorizePG"
      },
      "source": [
        "# Convert String to JSON"
      ]
    },
    {
      "cell_type": "code",
      "metadata": {
        "id": "FxFabOY_zfvp"
      },
      "source": [
        "path_file = '/content/drive/MyDrive/KnowledgeGraph/adct.json'"
      ],
      "execution_count": 3,
      "outputs": []
    },
    {
      "cell_type": "code",
      "metadata": {
        "id": "orijq4PyzqYu"
      },
      "source": [
        "f = open(path_file,\"r\",encoding='utf8')"
      ],
      "execution_count": 4,
      "outputs": []
    },
    {
      "cell_type": "code",
      "metadata": {
        "colab": {
          "base_uri": "https://localhost:8080/"
        },
        "id": "bHdoyXk5zrwy",
        "outputId": "5e751f3f-8d1c-4a5e-d38e-b67c2a0bcd99"
      },
      "source": [
        "f = open(path_file, \"r\",encoding=\"utf8\")\n",
        "count = 0\n",
        "content = []\n",
        "string_json = ''\n",
        "begin = '['\n",
        "end = ']'\n",
        "split = ','\n",
        "\n",
        "start_line = 0\n",
        "string_json += begin\n",
        "while(True):\n",
        "    # Read a line.\n",
        "    line = f.readline()\n",
        "    # When readline returns an empty string, the file is fully read.\n",
        "    if line == \"\":\n",
        "        print(\"::DONE::\")\n",
        "        break\n",
        "    if count != start_line:\n",
        "      string_json += split\n",
        "    string_json += line\n",
        "    content.append(line)\n",
        "    count +=1\n",
        "\n",
        "string_json += end"
      ],
      "execution_count": 5,
      "outputs": [
        {
          "output_type": "stream",
          "text": [
            "::DONE::\n"
          ],
          "name": "stdout"
        }
      ]
    },
    {
      "cell_type": "code",
      "metadata": {
        "colab": {
          "base_uri": "https://localhost:8080/",
          "height": 137
        },
        "id": "7XFFE-gxDKYb",
        "outputId": "d5f2b1ef-6d93-4cbc-b3e3-fb1ed00c724f"
      },
      "source": [
        "string_json[0:1000]"
      ],
      "execution_count": 6,
      "outputs": [
        {
          "output_type": "execute_result",
          "data": {
            "application/vnd.google.colaboratory.intrinsic+json": {
              "type": "string"
            },
            "text/plain": [
              "'[{\"_index\":\"adct\",\"_type\":\"adct\",\"_id\":\"GZdwgW0BVag6oCykn075\",\"_score\":1,\"_source\":{\"education\":\"North Carolina State University (NCSU), Raleigh, NC\\\\r\\\\nPh.D., Mathematics, May 2007\\\\r\\\\nM.S., Applied Mathematics, May 2005\\\\r\\\\nMethodist University (MU), Fayetteville, NC\\\\r\\\\nB.S., Mathematics and Financial Economics, Summa Cum Laude, May 2002\",\"work\":\"Suthathip Suanmali, Bundit Limmeechokchai, The Assessment of Biofuel Utilization Policy\\\\r\\\\non the Total Output and CO2 Emissions in Thailand, Journal of Engineering, Project, and Production\\\\r\\\\nManagement, 3(2): 57-64, 2013\\\\r\\\\nVeeris Ammarapala, Thanwadee Chinda, Pison Udomworarat, Terdsak Rongwiriyapanich,\\\\r\\\\nAmnart Khumpanit, Suthathip Suanmali, and Boonyarat Sampanwattanachai, Selection of\\\\r\\\\nWeigh Station in Thailand using Analytic Hierarchy Process, Songklanakarin Journal of Science\\\\r\\\\nand Technology, 3(1), 81-90, 2013\\\\r\\\\nKarnjana Sanglimsuwan, Suthathip Suanmali, Veeris Ammarapala, The Export Growth And\\\\r\\\\nRevealed Comparative Advantage Of'"
            ]
          },
          "metadata": {
            "tags": []
          },
          "execution_count": 6
        }
      ]
    },
    {
      "cell_type": "code",
      "metadata": {
        "id": "QAf6OQ7hztov"
      },
      "source": [
        "import json\n",
        "data = json.loads(string_json)"
      ],
      "execution_count": 7,
      "outputs": []
    },
    {
      "cell_type": "code",
      "metadata": {
        "colab": {
          "base_uri": "https://localhost:8080/"
        },
        "id": "vZID1-7czuM-",
        "outputId": "3ad87dfc-053a-4a44-861e-6bf388d05f0d"
      },
      "source": [
        "data[0:1]"
      ],
      "execution_count": 8,
      "outputs": [
        {
          "output_type": "execute_result",
          "data": {
            "text/plain": [
              "[{'_id': 'GZdwgW0BVag6oCykn075',\n",
              "  '_index': 'adct',\n",
              "  '_score': 1,\n",
              "  '_source': {'education': 'North Carolina State University (NCSU), Raleigh, NC\\r\\nPh.D., Mathematics, May 2007\\r\\nM.S., Applied Mathematics, May 2005\\r\\nMethodist University (MU), Fayetteville, NC\\r\\nB.S., Mathematics and Financial Economics, Summa Cum Laude, May 2002',\n",
              "   'email': 'ssuanma@gmail.com',\n",
              "   'etc': '',\n",
              "   'expertise': 'Applied Linear Algebras; Highway Assets Maintenance and Management System; Regional\\r\\nTrade Analysis; Cross Border Trade Facilitation; Willingness to Pay',\n",
              "   'name': 'ผศ.ดร. สุธาทิพย์ สวนมะลิ',\n",
              "   'position': '',\n",
              "   'pullDate': '2019-09-30T09:11:44.795Z',\n",
              "   'row': 2,\n",
              "   'sheet': 7,\n",
              "   'tel': 'T 02 501-3507 EXT 6006\\r\\nF 02 501-3507 EXT 6014',\n",
              "   'university': 'สถาบันเทคโนโลยีนานาชาติสิริธร',\n",
              "   'work': 'Suthathip Suanmali, Bundit Limmeechokchai, The Assessment of Biofuel Utilization Policy\\r\\non the Total Output and CO2 Emissions in Thailand, Journal of Engineering, Project, and Production\\r\\nManagement, 3(2): 57-64, 2013\\r\\nVeeris Ammarapala, Thanwadee Chinda, Pison Udomworarat, Terdsak Rongwiriyapanich,\\r\\nAmnart Khumpanit, Suthathip Suanmali, and Boonyarat Sampanwattanachai, Selection of\\r\\nWeigh Station in Thailand using Analytic Hierarchy Process, Songklanakarin Journal of Science\\r\\nand Technology, 3(1), 81-90, 2013\\r\\nKarnjana Sanglimsuwan, Suthathip Suanmali, Veeris Ammarapala, The Export Growth And\\r\\nRevealed Comparative Advantage Of Thailand To India’s Jewelry Sector, In Proceeding of the\\r\\n4th International Conference on Engineering, Project and Production Management, 23-25 October\\r\\n2013, Bangkok, Thailand\\r\\nSuthathip Suanmali, Karnjana Sanglimsuwan, Mananya Klanpoth, Boonyaporn\\r\\nJongmeepornsathitkul, Bandasak Pukkanavanich and Nipa Sakdakeitikul, The Assessment\\r\\nOf Household’s Preferences For Recycling Efforts: The Willingness To Pay Approach, In Proceeding\\r\\nof the 4th International Conference on Engineering, Project and Production Management,\\r\\n23-25 October 2013, Bangkok, Thailand'},\n",
              "  '_type': 'adct'}]"
            ]
          },
          "metadata": {
            "tags": []
          },
          "execution_count": 8
        }
      ]
    },
    {
      "cell_type": "code",
      "metadata": {
        "id": "m3yzhRoEzwuK"
      },
      "source": [
        "df_publish = pd.json_normalize(data)"
      ],
      "execution_count": 9,
      "outputs": []
    },
    {
      "cell_type": "code",
      "metadata": {
        "colab": {
          "base_uri": "https://localhost:8080/",
          "height": 858
        },
        "id": "MG2zoG2AzyPB",
        "outputId": "87228b2a-d391-4e61-df06-a9b60a42e1d3"
      },
      "source": [
        "df_publish"
      ],
      "execution_count": 10,
      "outputs": [
        {
          "output_type": "execute_result",
          "data": {
            "text/html": [
              "<div>\n",
              "<style scoped>\n",
              "    .dataframe tbody tr th:only-of-type {\n",
              "        vertical-align: middle;\n",
              "    }\n",
              "\n",
              "    .dataframe tbody tr th {\n",
              "        vertical-align: top;\n",
              "    }\n",
              "\n",
              "    .dataframe thead th {\n",
              "        text-align: right;\n",
              "    }\n",
              "</style>\n",
              "<table border=\"1\" class=\"dataframe\">\n",
              "  <thead>\n",
              "    <tr style=\"text-align: right;\">\n",
              "      <th></th>\n",
              "      <th>_index</th>\n",
              "      <th>_type</th>\n",
              "      <th>_id</th>\n",
              "      <th>_score</th>\n",
              "      <th>_source.education</th>\n",
              "      <th>_source.work</th>\n",
              "      <th>_source.university</th>\n",
              "      <th>_source.pullDate</th>\n",
              "      <th>_source.expertise</th>\n",
              "      <th>_source.etc</th>\n",
              "      <th>_source.name</th>\n",
              "      <th>_source.tel</th>\n",
              "      <th>_source.sheet</th>\n",
              "      <th>_source.position</th>\n",
              "      <th>_source.row</th>\n",
              "      <th>_source.email</th>\n",
              "    </tr>\n",
              "  </thead>\n",
              "  <tbody>\n",
              "    <tr>\n",
              "      <th>0</th>\n",
              "      <td>adct</td>\n",
              "      <td>adct</td>\n",
              "      <td>GZdwgW0BVag6oCykn075</td>\n",
              "      <td>1</td>\n",
              "      <td>North Carolina State University (NCSU), Raleig...</td>\n",
              "      <td>Suthathip Suanmali, Bundit Limmeechokchai, The...</td>\n",
              "      <td>สถาบันเทคโนโลยีนานาชาติสิริธร</td>\n",
              "      <td>2019-09-30T09:11:44.795Z</td>\n",
              "      <td>Applied Linear Algebras; Highway Assets Mainte...</td>\n",
              "      <td></td>\n",
              "      <td>ผศ.ดร. สุธาทิพย์ สวนมะลิ</td>\n",
              "      <td>T 02 501-3507 EXT 6006\\r\\nF 02 501-3507 EXT 6014</td>\n",
              "      <td>7</td>\n",
              "      <td></td>\n",
              "      <td>2</td>\n",
              "      <td>ssuanma@gmail.com</td>\n",
              "    </tr>\n",
              "    <tr>\n",
              "      <th>1</th>\n",
              "      <td>adct</td>\n",
              "      <td>adct</td>\n",
              "      <td>MJdwgW0BVag6oCykqk4p</td>\n",
              "      <td>1</td>\n",
              "      <td>GRADUATE SCHOOL OF THE UNIVERSITY OF TOKYO, To...</td>\n",
              "      <td>Sep’99 – Present\\r\\nSirindhorn International I...</td>\n",
              "      <td>สถาบันเทคโนโลยีนานาชาติสิริธร</td>\n",
              "      <td>2019-09-30T09:11:47.404Z</td>\n",
              "      <td></td>\n",
              "      <td></td>\n",
              "      <td>WAREE \\r\\nKONGPRAWECHNON</td>\n",
              "      <td>Telephone: (+662) 501-3505 Ext. 1808 Fax: (+66...</td>\n",
              "      <td>7</td>\n",
              "      <td></td>\n",
              "      <td>25</td>\n",
              "      <td>Email: chalie@siit.tu.ac.th</td>\n",
              "    </tr>\n",
              "    <tr>\n",
              "      <th>2</th>\n",
              "      <td>adct</td>\n",
              "      <td>adct</td>\n",
              "      <td>MpdwgW0BVag6oCykq04M</td>\n",
              "      <td>1</td>\n",
              "      <td>Kochi University of Technology\\r\\n(KUT) Kochi,...</td>\n",
              "      <td>Repcon Service Co.,Ltd. Bangkok, Thailand Tech...</td>\n",
              "      <td>สถาบันเทคโนโลยีนานาชาติสิริธร</td>\n",
              "      <td>2019-09-30T09:11:47.631Z</td>\n",
              "      <td>multi-binder concrete\\r\\n Mix proportion des...</td>\n",
              "      <td></td>\n",
              "      <td>Chalermchai Wanichlamlert</td>\n",
              "      <td></td>\n",
              "      <td>7</td>\n",
              "      <td></td>\n",
              "      <td>27</td>\n",
              "      <td>Email Address: \\r\\nchalermchai_w@siit.tu.ac.th</td>\n",
              "    </tr>\n",
              "    <tr>\n",
              "      <th>3</th>\n",
              "      <td>adct</td>\n",
              "      <td>adct</td>\n",
              "      <td>HJdwgW0BVag6oCykoU5b</td>\n",
              "      <td>1</td>\n",
              "      <td>Ph.D. The University of Texas at Arlington, Au...</td>\n",
              "      <td>2013 International Conference on Engineering, ...</td>\n",
              "      <td>สถาบันเทคโนโลยีนานาชาติสิริธร</td>\n",
              "      <td>2019-09-30T09:11:45.144Z</td>\n",
              "      <td>2003-present The Academy of International Busi...</td>\n",
              "      <td></td>\n",
              "      <td>Nattharika Rittippant, Ph.D.</td>\n",
              "      <td>Tel: (662)501-3505 Ext.2103 Fax: (662)501-3505...</td>\n",
              "      <td>7</td>\n",
              "      <td></td>\n",
              "      <td>5</td>\n",
              "      <td>E-mails: Natthari@siit.tu.ac.th</td>\n",
              "    </tr>\n",
              "    <tr>\n",
              "      <th>4</th>\n",
              "      <td>adct</td>\n",
              "      <td>adct</td>\n",
              "      <td>GpdwgW0BVag6oCykoE5g</td>\n",
              "      <td>1</td>\n",
              "      <td>1992-1998\\r\\n- Ph.D. (Management), Ritsumeikan...</td>\n",
              "      <td></td>\n",
              "      <td>สถาบันเทคโนโลยีนานาชาติสิริธร</td>\n",
              "      <td>2019-09-30T09:11:44.912Z</td>\n",
              "      <td>May 2003 - present, Assistant Professor, Sirin...</td>\n",
              "      <td></td>\n",
              "      <td>ผศ.ดร. พรพิมล จงไพศาล</td>\n",
              "      <td></td>\n",
              "      <td>7</td>\n",
              "      <td></td>\n",
              "      <td>3</td>\n",
              "      <td></td>\n",
              "    </tr>\n",
              "    <tr>\n",
              "      <th>...</th>\n",
              "      <td>...</td>\n",
              "      <td>...</td>\n",
              "      <td>...</td>\n",
              "      <td>...</td>\n",
              "      <td>...</td>\n",
              "      <td>...</td>\n",
              "      <td>...</td>\n",
              "      <td>...</td>\n",
              "      <td>...</td>\n",
              "      <td>...</td>\n",
              "      <td>...</td>\n",
              "      <td>...</td>\n",
              "      <td>...</td>\n",
              "      <td>...</td>\n",
              "      <td>...</td>\n",
              "      <td>...</td>\n",
              "    </tr>\n",
              "    <tr>\n",
              "      <th>700</th>\n",
              "      <td>adct</td>\n",
              "      <td>adct</td>\n",
              "      <td>HJdxgW0BVag6oCykjVCu</td>\n",
              "      <td>1</td>\n",
              "      <td></td>\n",
              "      <td></td>\n",
              "      <td>มหาวิทยาลัยนเรศวร1</td>\n",
              "      <td>2019-09-30T09:12:45.657Z</td>\n",
              "      <td></td>\n",
              "      <td></td>\n",
              "      <td>ดร.สุธนิตย์ พุทธพนม</td>\n",
              "      <td></td>\n",
              "      <td>13</td>\n",
              "      <td>มหาวิทยาลัยนเรศวร วิศวกรรมอุตสาหการ</td>\n",
              "      <td>50</td>\n",
              "      <td>sutanit@hotmail.com</td>\n",
              "    </tr>\n",
              "    <tr>\n",
              "      <th>701</th>\n",
              "      <td>adct</td>\n",
              "      <td>adct</td>\n",
              "      <td>HZdxgW0BVag6oCykjlAa</td>\n",
              "      <td>1</td>\n",
              "      <td></td>\n",
              "      <td></td>\n",
              "      <td>มหาวิทยาลัยนเรศวร1</td>\n",
              "      <td>2019-09-30T09:12:45.764Z</td>\n",
              "      <td></td>\n",
              "      <td></td>\n",
              "      <td>อาจารย์วัฒนชัย เยาวรัตน์</td>\n",
              "      <td></td>\n",
              "      <td>13</td>\n",
              "      <td>มหาวิทยาลัยนเรศวร วิศวกรรมอุตสาหการ</td>\n",
              "      <td>51</td>\n",
              "      <td>Jeab_pb45@hotmail.com</td>\n",
              "    </tr>\n",
              "    <tr>\n",
              "      <th>702</th>\n",
              "      <td>adct</td>\n",
              "      <td>adct</td>\n",
              "      <td>15dxgW0BVag6oCykb080</td>\n",
              "      <td>1</td>\n",
              "      <td></td>\n",
              "      <td></td>\n",
              "      <td>มหาลัยบูรพา</td>\n",
              "      <td>2019-09-30T09:12:37.851Z</td>\n",
              "      <td></td>\n",
              "      <td></td>\n",
              "      <td>ผศ.ดร. ภาวิณี ศักดิ์สุนทรศิริ</td>\n",
              "      <td></td>\n",
              "      <td>12</td>\n",
              "      <td>มหาวิทยาลัยบูรพา ภาควิชาวิศวกรรมเครื่องกล</td>\n",
              "      <td>81</td>\n",
              "      <td></td>\n",
              "    </tr>\n",
              "    <tr>\n",
              "      <th>703</th>\n",
              "      <td>adct</td>\n",
              "      <td>adct</td>\n",
              "      <td>5ZdxgW0BVag6oCykdU8y</td>\n",
              "      <td>1</td>\n",
              "      <td></td>\n",
              "      <td></td>\n",
              "      <td>มหาลัยบูรพา</td>\n",
              "      <td>2019-09-30T09:12:39.388Z</td>\n",
              "      <td></td>\n",
              "      <td></td>\n",
              "      <td>อ. ณัฐพันธ์ ถนอมสัตย์</td>\n",
              "      <td></td>\n",
              "      <td>12</td>\n",
              "      <td>มหาวิทยาลัยบูรพา ภาควิชาวิศวกรรมไฟฟ้า</td>\n",
              "      <td>95</td>\n",
              "      <td></td>\n",
              "    </tr>\n",
              "    <tr>\n",
              "      <th>704</th>\n",
              "      <td>adct</td>\n",
              "      <td>adct</td>\n",
              "      <td>yZdxgW0BVag6oCykaE-p</td>\n",
              "      <td>1</td>\n",
              "      <td></td>\n",
              "      <td></td>\n",
              "      <td>มหาลัยบูรพา</td>\n",
              "      <td>2019-09-30T09:12:36.177Z</td>\n",
              "      <td></td>\n",
              "      <td></td>\n",
              "      <td>อ.ดร. มัณฑนา รังสิโยภาส</td>\n",
              "      <td></td>\n",
              "      <td>12</td>\n",
              "      <td>มหาวิทยาลัยบูรพา ภาควิชาวิศวกรรมโยธา</td>\n",
              "      <td>67</td>\n",
              "      <td></td>\n",
              "    </tr>\n",
              "  </tbody>\n",
              "</table>\n",
              "<p>705 rows × 16 columns</p>\n",
              "</div>"
            ],
            "text/plain": [
              "    _index _type  ... _source.row                                   _source.email\n",
              "0     adct  adct  ...           2                               ssuanma@gmail.com\n",
              "1     adct  adct  ...          25                     Email: chalie@siit.tu.ac.th\n",
              "2     adct  adct  ...          27  Email Address: \\r\\nchalermchai_w@siit.tu.ac.th\n",
              "3     adct  adct  ...           5                 E-mails: Natthari@siit.tu.ac.th\n",
              "4     adct  adct  ...           3                                                \n",
              "..     ...   ...  ...         ...                                             ...\n",
              "700   adct  adct  ...          50                             sutanit@hotmail.com\n",
              "701   adct  adct  ...          51                           Jeab_pb45@hotmail.com\n",
              "702   adct  adct  ...          81                                                \n",
              "703   adct  adct  ...          95                                                \n",
              "704   adct  adct  ...          67                                                \n",
              "\n",
              "[705 rows x 16 columns]"
            ]
          },
          "metadata": {
            "tags": []
          },
          "execution_count": 10
        }
      ]
    },
    {
      "cell_type": "code",
      "metadata": {
        "id": "B_fNYaRY7Vrk"
      },
      "source": [
        "df_new = pd.concat([df_publish])"
      ],
      "execution_count": 11,
      "outputs": []
    },
    {
      "cell_type": "markdown",
      "metadata": {
        "id": "p9qtn3xxvw5l"
      },
      "source": [
        "# clean name"
      ]
    },
    {
      "cell_type": "code",
      "metadata": {
        "id": "CHUoD2WHoEw4"
      },
      "source": [
        "def front(name, title):\n",
        "    if name.find(title)>-1 and name.startswith(title):\n",
        "        a = []\n",
        "        b = ''\n",
        "        for i in name:\n",
        "            a.append(i)\n",
        "        for i in range(len(title)):\n",
        "            del a[0]\n",
        "        for i in a:\n",
        "            b = b+i\n",
        "    return b \n",
        "\n",
        "def behind(name, title):\n",
        "    if name.find(title)>-1 and name.endswith(title):\n",
        "        a = []\n",
        "        b = ''\n",
        "        for i in name:\n",
        "            a.append(i)\n",
        "        for i in range(name.rfind(title),len(name)):\n",
        "            del a[name.rfind(title)]\n",
        "        for i in a:\n",
        "            b = b+i\n",
        "    return b"
      ],
      "execution_count": 125,
      "outputs": []
    },
    {
      "cell_type": "code",
      "metadata": {
        "id": "umy7qNmvmT45"
      },
      "source": [
        "def deltitlefull(str):\n",
        "    a = str\n",
        "    b = []\n",
        "    b.append(a)\n",
        "    prefix = ''\n",
        "    for i in b:\n",
        "        if i in ('ว่าที่','จอมพล','พลเอก','พลโท','พลตรี','พลจัตวา','พันเอก','พันโท','พันตรี','ร้อยเอก','ร้อยโท','ร้อยตรี','จ่าสิบเอกพิเศษ','จ่าสิบเอก','จ่าสิบโท','จ่าสิบตรี','สิบเอก','สิบโท','สิบตรี','จอมพลเรือ','พลเรือเอก','พลเรือโท','พลเรือตรี','พลเรือจัตวา','นาวาเอก','นาวาโท','นาวาตรี','เรือเอก','เรือโท','เรือตรี','พันจ่าเอก','พันจ่าโท','พันจ่าตรี','จ่าเอก','จ่าโท','จ่าตรี','จอมพลอากาศ','พลอากาศเอก','พลอากาศโท','พลอากาศตรี','พลอากาศจัตวา','นาวาอากาศเอก','นาวาอากาศโท','นาวาอากาศตรี','เรืออากาศเอก','เรืออากาศโท','เรืออากาศตรี','พันจ่าอากาศเอก','พันจ่าอากาศโท','พันจ่าอากาศตรี','จ่าอากาศเอก','จ่าอากาศโท','จ่าอากาศตรี','พลตำรวจเอก','พลตำรวจโท','พลตำรวจตรี','พลตำรวจจัตวา','พันตำรวจเอก','พันตำรวจโท','พันตำรวจตรี','ร้อยตำรวจเอก','ร้อยตำรวจโท','ร้อยตำรวจตรี','ดาบตำรวจ','จ่าสิบตำรวจ','สิบตำรวจเอก','สิบตำรวจโท','สิบตำรวจตรี','หม่อมหลวง','ผู้ช่วยศาสตราจารย์','รองศาสตราจารย์','ศาสตราจารย์','อาจารย์','แพทย์หญิง','นายแพทย์','นาง','นางสาว','นาย'):\n",
        "            return a, prefix\n",
        "    c = ['ฯพณฯ']\n",
        "    c1 = ['ผู้ช่วยศาสตราจารย์พิเศษ','รองศาสตราจารย์พิเศษ','ศาสตราจารย์พิเศษ','อาจารย์พิเศษ','ผู้ช่วยศาสตราจารย์','รองศาสตราจารย์','ศาสตราจารย์กิตติคุณ','ศาสตราจารย์เกียรติยศ','ศาสตราจารย์','อาจารย์']\n",
        "    c2 = ['ว่าที่']\n",
        "    c3 = ['จอมพลพิเศษหญิง','พลเอกพิเศษหญิง','พลโทพิเศษหญิง','พลตรีพิเศษหญิง','พลจัตวาพิเศษหญิง','พันเอกพิเศษหญิง','พันโทพิเศษหญิง','พันตรีพิเศษหญิง','ร้อยเอกพิเศษหญิง','ร้อยโทพิเศษหญิง','ร้อยตรีพิเศษหญิง','จ่าสิบเอกพิเศษพิเศษหญิง','จ่าสิบเอกพิเศษหญิง','จ่าสิบโทพิเศษหญิง','จ่าสิบตรีพิเศษหญิง','สิบเอกพิเศษหญิง','สิบโทพิเศษหญิง','สิบตรีพิเศษหญิง','จอมพลเรือพิเศษหญิง','พลเรือเอกพิเศษหญิง','พลเรือโทพิเศษหญิง','พลเรือตรีพิเศษหญิง','พลเรือจัตวาพิเศษหญิง','นาวาเอกพิเศษหญิง','นาวาโทพิเศษหญิง','นาวาตรีพิเศษหญิง','เรือเอกพิเศษหญิง','เรือโทพิเศษหญิง','เรือตรีพิเศษหญิง','พันจ่าเอกพิเศษหญิง','พันจ่าโทพิเศษหญิง','พันจ่าตรีพิเศษหญิง','จ่าเอกพิเศษหญิง','จ่าโทพิเศษหญิง','จ่าตรีพิเศษหญิง','จอมพลอากาศพิเศษหญิง','พลอากาศเอกพิเศษหญิง','พลอากาศโทพิเศษหญิง','พลอากาศตรีพิเศษหญิง','พลอากาศจัตวาพิเศษหญิง','นาวาอากาศเอกพิเศษหญิง','นาวาอากาศโทพิเศษหญิง','นาวาอากาศตรีพิเศษหญิง','เรืออากาศเอกพิเศษหญิง','เรืออากาศโทพิเศษหญิง','เรืออากาศตรีพิเศษหญิง','พันจ่าอากาศเอกพิเศษหญิง','พันจ่าอากาศโทพิเศษหญิง','พันจ่าอากาศตรีพิเศษหญิง','จ่าอากาศเอกพิเศษหญิง','จ่าอากาศโทพิเศษหญิง','จ่าอากาศตรีพิเศษหญิง','พลตำรวจเอกพิเศษหญิง','พลตำรวจโทพิเศษหญิง','พลตำรวจตรีพิเศษหญิง','พลตำรวจจัตวาพิเศษหญิง','พันตำรวจเอกพิเศษหญิง','พันตำรวจโทพิเศษหญิง','พันตำรวจตรีพิเศษหญิง','ร้อยตำรวจเอกพิเศษหญิง','ร้อยตำรวจโทพิเศษหญิง','ร้อยตำรวจตรีพิเศษหญิง','ดาบตำรวจพิเศษหญิง','จ่าสิบตำรวจพิเศษหญิง','สิบตำรวจเอกพิเศษหญิง','สิบตำรวจโทพิเศษหญิง','สิบตำรวจตรีพิเศษหญิง','จอมพลพิเศษ','พลเอกพิเศษ','พลโทพิเศษ','พลตรีพิเศษ','พลจัตวาพิเศษ','พันเอกพิเศษ','พันโทพิเศษ','พันตรีพิเศษ','ร้อยเอกพิเศษ','ร้อยโทพิเศษ','ร้อยตรีพิเศษ','จ่าสิบเอกพิเศษพิเศษ','จ่าสิบเอกพิเศษ','จ่าสิบโทพิเศษ','จ่าสิบตรีพิเศษ','สิบเอกพิเศษ','สิบโทพิเศษ','สิบตรีพิเศษ','จอมพลเรือพิเศษ','พลเรือเอกพิเศษ','พลเรือโทพิเศษ','พลเรือตรีพิเศษ','พลเรือจัตวาพิเศษ','นาวาเอกพิเศษ','นาวาโทพิเศษ','นาวาตรีพิเศษ','เรือเอกพิเศษ','เรือโทพิเศษ','เรือตรีพิเศษ','พันจ่าเอกพิเศษ','พันจ่าโทพิเศษ','พันจ่าตรีพิเศษ','จ่าเอกพิเศษ','จ่าโทพิเศษ','จ่าตรีพิเศษ','จอมพลอากาศพิเศษ','พลอากาศเอกพิเศษ','พลอากาศโทพิเศษ','พลอากาศตรีพิเศษ','พลอากาศจัตวาพิเศษ','นาวาอากาศเอกพิเศษ','นาวาอากาศโทพิเศษ','นาวาอากาศตรีพิเศษ','เรืออากาศเอกพิเศษ','เรืออากาศโทพิเศษ','เรืออากาศตรีพิเศษ','พันจ่าอากาศเอกพิเศษ','พันจ่าอากาศโทพิเศษ','พันจ่าอากาศตรีพิเศษ','จ่าอากาศเอกพิเศษ','จ่าอากาศโทพิเศษ','จ่าอากาศตรีพิเศษ','พลตำรวจเอกพิเศษ','พลตำรวจโทพิเศษ','พลตำรวจตรีพิเศษ','พลตำรวจจัตวาพิเศษ','พันตำรวจเอกพิเศษ','พันตำรวจโทพิเศษ','พันตำรวจตรีพิเศษ','ร้อยตำรวจเอกพิเศษ','ร้อยตำรวจโทพิเศษ','ร้อยตำรวจตรีพิเศษ','ดาบตำรวจพิเศษ','จ่าสิบตำรวจพิเศษ','สิบตำรวจเอกพิเศษ','สิบตำรวจโทพิเศษ','สิบตำรวจตรีพิเศษ','จอมพลหญิง','พลเอกหญิง','พลโทหญิง','พลตรีหญิง','พลจัตวาหญิง','พันเอกหญิง','พันโทหญิง','พันตรีหญิง','ร้อยเอกหญิง','ร้อยโทหญิง','ร้อยตรีหญิง','จ่าสิบเอกพิเศษหญิง','จ่าสิบเอกหญิง','จ่าสิบโทหญิง','จ่าสิบตรีหญิง','สิบเอกหญิง','สิบโทหญิง','สิบตรีหญิง','จอมพลเรือหญิง','พลเรือเอกหญิง','พลเรือโทหญิง','พลเรือตรีหญิง','พลเรือจัตวาหญิง','นาวาเอกหญิง','นาวาโทหญิง','นาวาตรีหญิง','เรือเอกหญิง','เรือโทหญิง','เรือตรีหญิง','พันจ่าเอกหญิง','พันจ่าโทหญิง','พันจ่าตรีหญิง','จ่าเอกหญิง','จ่าโทหญิง','จ่าตรีหญิง','จอมพลอากาศหญิง','พลอากาศเอกหญิง','พลอากาศโทหญิง','พลอากาศตรีหญิง','พลอากาศจัตวาหญิง','นาวาอากาศเอกหญิง','นาวาอากาศโทหญิง','นาวาอากาศตรีหญิง','เรืออากาศเอกหญิง','เรืออากาศโทหญิง','เรืออากาศตรีหญิง','พันจ่าอากาศเอกหญิง','พันจ่าอากาศโทหญิง','พันจ่าอากาศตรีหญิง','จ่าอากาศเอกหญิง','จ่าอากาศโทหญิง','จ่าอากาศตรีหญิง','พลตำรวจเอกหญิง','พลตำรวจโทหญิง','พลตำรวจตรีหญิง','พลตำรวจจัตวาหญิง','พันตำรวจเอกหญิง','พันตำรวจโทหญิง','พันตำรวจตรีหญิง','ร้อยตำรวจเอกหญิง','ร้อยตำรวจโทหญิง','ร้อยตำรวจตรีหญิง','ดาบตำรวจหญิง','จ่าสิบตำรวจหญิง','สิบตำรวจเอกหญิง','สิบตำรวจโทหญิง','สิบตำรวจตรีหญิง','จอมพล','พลเอก','พลโท','พลตรี','พลจัตวา','พันเอก','พันโท','พันตรี','ร้อยเอก','ร้อยโท','ร้อยตรี','จ่าสิบเอกพิเศษ','จ่าสิบเอก','จ่าสิบโท','จ่าสิบตรี','สิบเอก','สิบโท','สิบตรี','จอมพลเรือ','พลเรือเอก','พลเรือโท','พลเรือตรี','พลเรือจัตวา','นาวาเอก','นาวาโท','นาวาตรี','เรือเอก','เรือโท','เรือตรี','พันจ่าเอก','พันจ่าโท','พันจ่าตรี','จ่าเอก','จ่าโท','จ่าตรี','จอมพลอากาศ','พลอากาศเอก','พลอากาศโท','พลอากาศตรี','พลอากาศจัตวา','นาวาอากาศเอก','นาวาอากาศโท','นาวาอากาศตรี','เรืออากาศเอก','เรืออากาศโท','เรืออากาศตรี','พันจ่าอากาศเอก','พันจ่าอากาศโท','พันจ่าอากาศตรี','จ่าอากาศเอก','จ่าอากาศโท','จ่าอากาศตรี','พลตำรวจเอก','พลตำรวจโท','พลตำรวจตรี','พลตำรวจจัตวา','พันตำรวจเอก','พันตำรวจโท','พันตำรวจตรี','ร้อยตำรวจเอก','ร้อยตำรวจโท','ร้อยตำรวจตรี','ดาบตำรวจ','จ่าสิบตำรวจ','สิบตำรวจเอก','สิบตำรวจโท','สิบตำรวจตรี']   \n",
        "    c4 = ['แพทย์หญิง','นายแพทย์','ทันตแพทย์หญิง','ทันตแพทย์','นางสาว','นาง','นาย']\n",
        "    c5 = ['หม่อมหลวง','คุณหญิง','ท่านหญิง','ท่านผู้หญิง','หม่อมราชวงศ์หญิง','หม่อมราชวงศ์','หม่อมเจ้าหญิง','หม่อมเจ้า']\n",
        "\n",
        "\n",
        "    for i in c:\n",
        "        if a.startswith(i) == True:\n",
        "            a = front(a,i)\n",
        "            prefix = i\n",
        "            break\n",
        "    for i in c1:\n",
        "        if a.startswith(i) == True:\n",
        "            a = front(a,i)\n",
        "            prefix = i\n",
        "            break\n",
        "    for i in c2:\n",
        "        if a.startswith(i) == True:\n",
        "            a = front(a,i)\n",
        "            prefix = i\n",
        "            break\n",
        "    for i in c3:\n",
        "        if a.startswith(i) == True:\n",
        "            a = front(a,i)\n",
        "            prefix = i\n",
        "            break\n",
        "    for i in c4:\n",
        "        if a.startswith(i) == True:\n",
        "            a = front(a,i)\n",
        "            prefix = i\n",
        "            break\n",
        "    for i in c5:\n",
        "        if a.startswith(i) == True:\n",
        "            a = front(a,i)\n",
        "            prefix = i\n",
        "            break\n",
        "    return a, prefix\n",
        "   \n",
        "def deltitleshort(str):\n",
        "    a = str\n",
        "    b = ''\n",
        "    s  = ['พล.อ.','พล.ท.','พล.ต','พล.จ.','พ.อ.','พ.ท.','พ.ต.','ร.อ.','ร.ท.','ร.ต.','จ.ส.อ.','จ.ส.ท.','จ.ส.ต.','ส.อ.','ส.ท.','ส.ต.','พล.ร.อ.','พล.ร.ท.','พล.ร.ต.','พล.ร.จ.','น.อ.','น.ท.','น.ต.','พ.จ.อ.','พ.จ.ท.','พ.จ.ต.','จ.อ.','จ.ท.','จ.ต.','พล.อ.อ.','พล.อ.ท.','พล.อ.ต.','พล.อ.จ.','พ.อ.อ.','พ.อ.ท.','พ.อ.ต.','พล.ต.อ.','พล.ต.ท.','พล.ต.ต.','พล.ต.จ.','พ.ต.อ.','พ.ต.ท.','พ.ต.ต.','ร.ต.อ.','ร.ต.ท.','ร.ต.ต.','ด.ต.','จ.ส.ต.','ส.ต.อ.','ส.ต.ท.','ส.ต.ต.','พญ.','นพ.','ดร.','น.ส.','ม.ล.','ม.ร.ว','ม.จ.','ผศ.','รศ.','ศ.','อ.']\n",
        "    s1 = ('พญ.','นพ.','ดร.','น.ส.','น.สพ.','สพ.ญ.','ภญ.','ภกญ.')\n",
        "    s2 = ('ผศ.','รศ.','ศ.','อ.')\n",
        "    s3 = ('ม.ล.','ม.ร.ว','ม.จ.')\n",
        "    for i in range(0,a.rfind('.')+1):\n",
        "        b = b+a[i]\n",
        "\n",
        "    prefix = ''\n",
        "    for i in s:\n",
        "        if b.endswith(i) == True:\n",
        "            a = front(a,b)\n",
        "            prefix = b\n",
        "            for i in s1:\n",
        "                if b.endswith(i) == True:\n",
        "                    return a, prefix\n",
        "            for i in s2:\n",
        "                if b.endswith(i) == True:\n",
        "                    if a.startswith('(พิเศษ)') == True:\n",
        "                        a = front(a,'(พิเศษ)')\n",
        "                        prefix += '(พิเศษ)'\n",
        "                        return a, prefix\n",
        "                    elif a.startswith('พิเศษ') == True:\n",
        "                        a = front(a,'พิเศษ')\n",
        "                        prefix += 'พิเศษ'\n",
        "                        return a, prefix\n",
        "                    else:\n",
        "                        return a, prefix\n",
        "            for i in s3:\n",
        "                if b.endswith(i) == True:\n",
        "                    if a.startswith('หญิง') == True:\n",
        "                        a = front(a,'หญิง')\n",
        "                        prefix += ('หญิง')\n",
        "                        return a, prefix\n",
        "                    elif a.startswith('(หญิง)') == True:\n",
        "                        a = front(a,'(หญิง)')\n",
        "                        prefix += '(หญิง)'\n",
        "                        return a, prefix\n",
        "            if a.startswith('(พิเศษ)') == True:\n",
        "                a = front(a,'(พิเศษ)')\n",
        "                prefix += '(พิเศษ)'\n",
        "            elif a.startswith('พิเศษ') == True:\n",
        "                a = front(a,'พิเศษ')\n",
        "                prefix += 'พิเศษ'\n",
        "            if a.startswith('หญิง') == True:\n",
        "                a = front(a,'หญิง')\n",
        "                prefix += 'หญิง'\n",
        "            elif a.startswith('(หญิง)') == True:\n",
        "                a = front(a,'(หญิง)')\n",
        "                prefix += '(หญิง)'\n",
        "            return a, prefix\n",
        "    else:\n",
        "        return a, prefix\n",
        "\n",
        "def delnumber(str):\n",
        "    p = ['0','1','2','3','4','5','6','7','8','9']\n",
        "    a = []\n",
        "    b = ''\n",
        "    j = 0\n",
        "    for i in str:\n",
        "        a.append(i)\n",
        "    while j < len(a):\n",
        "        if a[j] in p:\n",
        "            del a[j]\n",
        "            j = j-1\n",
        "        j = j+1   \n",
        "    for i in a:\n",
        "        b = b + i\n",
        "    return b\n",
        "\n",
        "def celanSpace(str):\n",
        "    str = \" \".join(str.split())\n",
        "    return str.strip()\n",
        "\n",
        "def delengtitle(str):\n",
        "    a = str\n",
        "    b= ''\n",
        "    c = ('Md.','MD.','md.','Mrs.','MRS.','mrs.','Ph.D.','Associate.','Assoc.','Asso.','Asst.','Assist.','Professor.','Prof.','Dr.','Mr.','Ms.','associate.','assoc.','asso.','asst.','assist.','professor.','prof.','dr.','mr.','ms.','ASSOCIATE.','ASSOC.','ASSO.','ASST.','ASSIST.','PROFESSOR.','PROF.','DR.','MR.','MS.')\n",
        "    for i in range(0,a.rfind('.')+1):\n",
        "        b += a[i]\n",
        "\n",
        "    prefix = ''\n",
        "    for i in c:\n",
        "        if b.endswith(i) == True:\n",
        "            # a = front(a,b)\n",
        "            a = a.replace(i,\"\")\n",
        "            prefix = i\n",
        "            return a, prefix\n",
        "    else:\n",
        "        return a, prefix"
      ],
      "execution_count": 240,
      "outputs": []
    },
    {
      "cell_type": "code",
      "metadata": {
        "id": "9rSXNIC8tCXG"
      },
      "source": [
        "def delAllPrefix(str):\n",
        "  str = delnumber(str)\n",
        "  str, prefix1 = deltitlefull(str)\n",
        "  str, prefix2 = deltitleshort(str)\n",
        "  str, prefix3 = delengtitle(str)\n",
        "  str = celanSpace(str)\n",
        "  prefix = prefix1+prefix2+prefix3\n",
        "  return str, prefix\n",
        "\n",
        "def cleanName(row):\n",
        "  clean_name, prefix = delAllPrefix(row['_source.name'])\n",
        "  clean_name = clean_name.replace(',','')\n",
        "  row['clean_name'] = clean_name\n",
        "  row['prefix'] = prefix\n",
        "  return row"
      ],
      "execution_count": 253,
      "outputs": []
    },
    {
      "cell_type": "code",
      "metadata": {
        "id": "OJ4t034Btjy5"
      },
      "source": [
        ""
      ],
      "execution_count": 253,
      "outputs": []
    },
    {
      "cell_type": "code",
      "metadata": {
        "colab": {
          "base_uri": "https://localhost:8080/",
          "height": 35
        },
        "id": "E-747JaKeCoZ",
        "outputId": "d962e5e8-df30-4963-f270-89f928597b47"
      },
      "source": [
        "front(\"พลเอกเค้ก\",\"พลเอก\")"
      ],
      "execution_count": 254,
      "outputs": [
        {
          "output_type": "execute_result",
          "data": {
            "application/vnd.google.colaboratory.intrinsic+json": {
              "type": "string"
            },
            "text/plain": [
              "'เค้ก'"
            ]
          },
          "metadata": {
            "tags": []
          },
          "execution_count": 254
        }
      ]
    },
    {
      "cell_type": "code",
      "metadata": {
        "colab": {
          "base_uri": "https://localhost:8080/"
        },
        "id": "Ae9Gvyofn2q-",
        "outputId": "a7b64d8a-26b3-4576-c549-45010d554398"
      },
      "source": [
        "deltitlefull(\"นาย ศุภชัย หนูเทพ\")"
      ],
      "execution_count": 255,
      "outputs": [
        {
          "output_type": "execute_result",
          "data": {
            "text/plain": [
              "(' ศุภชัย หนูเทพ', 'นาย')"
            ]
          },
          "metadata": {
            "tags": []
          },
          "execution_count": 255
        }
      ]
    },
    {
      "cell_type": "code",
      "metadata": {
        "colab": {
          "base_uri": "https://localhost:8080/"
        },
        "id": "HPKXbVTZgYUb",
        "outputId": "c762177a-b5a6-4666-9798-307f7784c848"
      },
      "source": [
        "deltitleshort(\"พญ.พล.อ. ศุภชัย หนูเทพ\")"
      ],
      "execution_count": 256,
      "outputs": [
        {
          "output_type": "execute_result",
          "data": {
            "text/plain": [
              "(' ศุภชัย หนูเทพ', 'พญ.พล.อ.')"
            ]
          },
          "metadata": {
            "tags": []
          },
          "execution_count": 256
        }
      ]
    },
    {
      "cell_type": "code",
      "metadata": {
        "colab": {
          "base_uri": "https://localhost:8080/"
        },
        "id": "xN4fYFyUm5PU",
        "outputId": "a2f2059a-d127-4573-fe99-afd5188e2cb1"
      },
      "source": [
        "delengtitle('mrs. ศุภชัย หนูเทพ')"
      ],
      "execution_count": 257,
      "outputs": [
        {
          "output_type": "execute_result",
          "data": {
            "text/plain": [
              "(' ศุภชัย หนูเทพ', 'mrs.')"
            ]
          },
          "metadata": {
            "tags": []
          },
          "execution_count": 257
        }
      ]
    },
    {
      "cell_type": "code",
      "metadata": {
        "colab": {
          "base_uri": "https://localhost:8080/",
          "height": 35
        },
        "id": "yO0elKlCqOVU",
        "outputId": "93476e0f-f5a9-4f71-ea25-4e2e2ff3f104"
      },
      "source": [
        "delnumber('2024 cake88')"
      ],
      "execution_count": 258,
      "outputs": [
        {
          "output_type": "execute_result",
          "data": {
            "application/vnd.google.colaboratory.intrinsic+json": {
              "type": "string"
            },
            "text/plain": [
              "' cake'"
            ]
          },
          "metadata": {
            "tags": []
          },
          "execution_count": 258
        }
      ]
    },
    {
      "cell_type": "code",
      "metadata": {
        "colab": {
          "base_uri": "https://localhost:8080/",
          "height": 35
        },
        "id": "Pbvu1yGqqDnJ",
        "outputId": "956b879a-6aec-41c6-9ac7-e43fea36ff80"
      },
      "source": [
        "celanSpace(' MRS. mm    mm m ')"
      ],
      "execution_count": 259,
      "outputs": [
        {
          "output_type": "execute_result",
          "data": {
            "application/vnd.google.colaboratory.intrinsic+json": {
              "type": "string"
            },
            "text/plain": [
              "'MRS. mm mm m'"
            ]
          },
          "metadata": {
            "tags": []
          },
          "execution_count": 259
        }
      ]
    },
    {
      "cell_type": "code",
      "metadata": {
        "colab": {
          "base_uri": "https://localhost:8080/"
        },
        "id": "juyeacZkuhw1",
        "outputId": "2894c801-03d6-4b22-feca-f8971a193563"
      },
      "source": [
        "delAllPrefix(\"นาย ศุภชัย หนูเทพ\")"
      ],
      "execution_count": 260,
      "outputs": [
        {
          "output_type": "execute_result",
          "data": {
            "text/plain": [
              "('ศุภชัย หนูเทพ', 'นาย')"
            ]
          },
          "metadata": {
            "tags": []
          },
          "execution_count": 260
        }
      ]
    },
    {
      "cell_type": "code",
      "metadata": {
        "id": "YPvwk2t7nsGs",
        "colab": {
          "base_uri": "https://localhost:8080/"
        },
        "outputId": "996cd5e3-0758-445b-c053-6ff321a16914"
      },
      "source": [
        "delAllPrefix('พญ.พล.อ. ศุภชัย หนูเทพ')"
      ],
      "execution_count": 261,
      "outputs": [
        {
          "output_type": "execute_result",
          "data": {
            "text/plain": [
              "('ศุภชัย หนูเทพ', 'พญ.พล.อ.')"
            ]
          },
          "metadata": {
            "tags": []
          },
          "execution_count": 261
        }
      ]
    },
    {
      "cell_type": "code",
      "metadata": {
        "colab": {
          "base_uri": "https://localhost:8080/"
        },
        "id": "3r24x__GvC5R",
        "outputId": "7d18b1e6-a5e4-4226-bc68-c14420bc9e89"
      },
      "source": [
        "delAllPrefix('mrs. ศุภชัย หนูเทพ 2021')"
      ],
      "execution_count": 262,
      "outputs": [
        {
          "output_type": "execute_result",
          "data": {
            "text/plain": [
              "('ศุภชัย หนูเทพ', 'mrs.')"
            ]
          },
          "metadata": {
            "tags": []
          },
          "execution_count": 262
        }
      ]
    },
    {
      "cell_type": "code",
      "metadata": {
        "id": "kcuQP4liv3MQ"
      },
      "source": [
        "df_new = df_new.apply(cleanName,axis=1)"
      ],
      "execution_count": 263,
      "outputs": []
    },
    {
      "cell_type": "code",
      "metadata": {
        "colab": {
          "base_uri": "https://localhost:8080/",
          "height": 858
        },
        "id": "l6cgCnkKxg65",
        "outputId": "d9ce2ee1-7bdf-4ffe-f018-e22f728c22ab"
      },
      "source": [
        "df_new"
      ],
      "execution_count": 264,
      "outputs": [
        {
          "output_type": "execute_result",
          "data": {
            "text/html": [
              "<div>\n",
              "<style scoped>\n",
              "    .dataframe tbody tr th:only-of-type {\n",
              "        vertical-align: middle;\n",
              "    }\n",
              "\n",
              "    .dataframe tbody tr th {\n",
              "        vertical-align: top;\n",
              "    }\n",
              "\n",
              "    .dataframe thead th {\n",
              "        text-align: right;\n",
              "    }\n",
              "</style>\n",
              "<table border=\"1\" class=\"dataframe\">\n",
              "  <thead>\n",
              "    <tr style=\"text-align: right;\">\n",
              "      <th></th>\n",
              "      <th>_index</th>\n",
              "      <th>_type</th>\n",
              "      <th>_id</th>\n",
              "      <th>_score</th>\n",
              "      <th>_source.education</th>\n",
              "      <th>_source.work</th>\n",
              "      <th>_source.university</th>\n",
              "      <th>_source.pullDate</th>\n",
              "      <th>_source.expertise</th>\n",
              "      <th>_source.etc</th>\n",
              "      <th>_source.name</th>\n",
              "      <th>_source.tel</th>\n",
              "      <th>_source.sheet</th>\n",
              "      <th>_source.position</th>\n",
              "      <th>_source.row</th>\n",
              "      <th>_source.email</th>\n",
              "      <th>clean_name</th>\n",
              "      <th>prefix</th>\n",
              "    </tr>\n",
              "  </thead>\n",
              "  <tbody>\n",
              "    <tr>\n",
              "      <th>0</th>\n",
              "      <td>adct</td>\n",
              "      <td>adct</td>\n",
              "      <td>GZdwgW0BVag6oCykn075</td>\n",
              "      <td>1</td>\n",
              "      <td>North Carolina State University (NCSU), Raleig...</td>\n",
              "      <td>Suthathip Suanmali, Bundit Limmeechokchai, The...</td>\n",
              "      <td>สถาบันเทคโนโลยีนานาชาติสิริธร</td>\n",
              "      <td>2019-09-30T09:11:44.795Z</td>\n",
              "      <td>Applied Linear Algebras; Highway Assets Mainte...</td>\n",
              "      <td></td>\n",
              "      <td>ผศ.ดร. สุธาทิพย์ สวนมะลิ</td>\n",
              "      <td>T 02 501-3507 EXT 6006\\r\\nF 02 501-3507 EXT 6014</td>\n",
              "      <td>7</td>\n",
              "      <td></td>\n",
              "      <td>2</td>\n",
              "      <td>ssuanma@gmail.com</td>\n",
              "      <td>สุธาทิพย์ สวนมะลิ</td>\n",
              "      <td>ผศ.ดร.</td>\n",
              "    </tr>\n",
              "    <tr>\n",
              "      <th>1</th>\n",
              "      <td>adct</td>\n",
              "      <td>adct</td>\n",
              "      <td>MJdwgW0BVag6oCykqk4p</td>\n",
              "      <td>1</td>\n",
              "      <td>GRADUATE SCHOOL OF THE UNIVERSITY OF TOKYO, To...</td>\n",
              "      <td>Sep’99 – Present\\r\\nSirindhorn International I...</td>\n",
              "      <td>สถาบันเทคโนโลยีนานาชาติสิริธร</td>\n",
              "      <td>2019-09-30T09:11:47.404Z</td>\n",
              "      <td></td>\n",
              "      <td></td>\n",
              "      <td>WAREE \\r\\nKONGPRAWECHNON</td>\n",
              "      <td>Telephone: (+662) 501-3505 Ext. 1808 Fax: (+66...</td>\n",
              "      <td>7</td>\n",
              "      <td></td>\n",
              "      <td>25</td>\n",
              "      <td>Email: chalie@siit.tu.ac.th</td>\n",
              "      <td>WAREE KONGPRAWECHNON</td>\n",
              "      <td></td>\n",
              "    </tr>\n",
              "    <tr>\n",
              "      <th>2</th>\n",
              "      <td>adct</td>\n",
              "      <td>adct</td>\n",
              "      <td>MpdwgW0BVag6oCykq04M</td>\n",
              "      <td>1</td>\n",
              "      <td>Kochi University of Technology\\r\\n(KUT) Kochi,...</td>\n",
              "      <td>Repcon Service Co.,Ltd. Bangkok, Thailand Tech...</td>\n",
              "      <td>สถาบันเทคโนโลยีนานาชาติสิริธร</td>\n",
              "      <td>2019-09-30T09:11:47.631Z</td>\n",
              "      <td>multi-binder concrete\\r\\n Mix proportion des...</td>\n",
              "      <td></td>\n",
              "      <td>Chalermchai Wanichlamlert</td>\n",
              "      <td></td>\n",
              "      <td>7</td>\n",
              "      <td></td>\n",
              "      <td>27</td>\n",
              "      <td>Email Address: \\r\\nchalermchai_w@siit.tu.ac.th</td>\n",
              "      <td>Chalermchai Wanichlamlert</td>\n",
              "      <td></td>\n",
              "    </tr>\n",
              "    <tr>\n",
              "      <th>3</th>\n",
              "      <td>adct</td>\n",
              "      <td>adct</td>\n",
              "      <td>HJdwgW0BVag6oCykoU5b</td>\n",
              "      <td>1</td>\n",
              "      <td>Ph.D. The University of Texas at Arlington, Au...</td>\n",
              "      <td>2013 International Conference on Engineering, ...</td>\n",
              "      <td>สถาบันเทคโนโลยีนานาชาติสิริธร</td>\n",
              "      <td>2019-09-30T09:11:45.144Z</td>\n",
              "      <td>2003-present The Academy of International Busi...</td>\n",
              "      <td></td>\n",
              "      <td>Nattharika Rittippant, Ph.D.</td>\n",
              "      <td>Tel: (662)501-3505 Ext.2103 Fax: (662)501-3505...</td>\n",
              "      <td>7</td>\n",
              "      <td></td>\n",
              "      <td>5</td>\n",
              "      <td>E-mails: Natthari@siit.tu.ac.th</td>\n",
              "      <td>Nattharika Rittippant</td>\n",
              "      <td>Ph.D.</td>\n",
              "    </tr>\n",
              "    <tr>\n",
              "      <th>4</th>\n",
              "      <td>adct</td>\n",
              "      <td>adct</td>\n",
              "      <td>GpdwgW0BVag6oCykoE5g</td>\n",
              "      <td>1</td>\n",
              "      <td>1992-1998\\r\\n- Ph.D. (Management), Ritsumeikan...</td>\n",
              "      <td></td>\n",
              "      <td>สถาบันเทคโนโลยีนานาชาติสิริธร</td>\n",
              "      <td>2019-09-30T09:11:44.912Z</td>\n",
              "      <td>May 2003 - present, Assistant Professor, Sirin...</td>\n",
              "      <td></td>\n",
              "      <td>ผศ.ดร. พรพิมล จงไพศาล</td>\n",
              "      <td></td>\n",
              "      <td>7</td>\n",
              "      <td></td>\n",
              "      <td>3</td>\n",
              "      <td></td>\n",
              "      <td>พรพิมล จงไพศาล</td>\n",
              "      <td>ผศ.ดร.</td>\n",
              "    </tr>\n",
              "    <tr>\n",
              "      <th>...</th>\n",
              "      <td>...</td>\n",
              "      <td>...</td>\n",
              "      <td>...</td>\n",
              "      <td>...</td>\n",
              "      <td>...</td>\n",
              "      <td>...</td>\n",
              "      <td>...</td>\n",
              "      <td>...</td>\n",
              "      <td>...</td>\n",
              "      <td>...</td>\n",
              "      <td>...</td>\n",
              "      <td>...</td>\n",
              "      <td>...</td>\n",
              "      <td>...</td>\n",
              "      <td>...</td>\n",
              "      <td>...</td>\n",
              "      <td>...</td>\n",
              "      <td>...</td>\n",
              "    </tr>\n",
              "    <tr>\n",
              "      <th>700</th>\n",
              "      <td>adct</td>\n",
              "      <td>adct</td>\n",
              "      <td>HJdxgW0BVag6oCykjVCu</td>\n",
              "      <td>1</td>\n",
              "      <td></td>\n",
              "      <td></td>\n",
              "      <td>มหาวิทยาลัยนเรศวร1</td>\n",
              "      <td>2019-09-30T09:12:45.657Z</td>\n",
              "      <td></td>\n",
              "      <td></td>\n",
              "      <td>ดร.สุธนิตย์ พุทธพนม</td>\n",
              "      <td></td>\n",
              "      <td>13</td>\n",
              "      <td>มหาวิทยาลัยนเรศวร วิศวกรรมอุตสาหการ</td>\n",
              "      <td>50</td>\n",
              "      <td>sutanit@hotmail.com</td>\n",
              "      <td>สุธนิตย์ พุทธพนม</td>\n",
              "      <td>ดร.</td>\n",
              "    </tr>\n",
              "    <tr>\n",
              "      <th>701</th>\n",
              "      <td>adct</td>\n",
              "      <td>adct</td>\n",
              "      <td>HZdxgW0BVag6oCykjlAa</td>\n",
              "      <td>1</td>\n",
              "      <td></td>\n",
              "      <td></td>\n",
              "      <td>มหาวิทยาลัยนเรศวร1</td>\n",
              "      <td>2019-09-30T09:12:45.764Z</td>\n",
              "      <td></td>\n",
              "      <td></td>\n",
              "      <td>อาจารย์วัฒนชัย เยาวรัตน์</td>\n",
              "      <td></td>\n",
              "      <td>13</td>\n",
              "      <td>มหาวิทยาลัยนเรศวร วิศวกรรมอุตสาหการ</td>\n",
              "      <td>51</td>\n",
              "      <td>Jeab_pb45@hotmail.com</td>\n",
              "      <td>วัฒนชัย เยาวรัตน์</td>\n",
              "      <td>อาจารย์</td>\n",
              "    </tr>\n",
              "    <tr>\n",
              "      <th>702</th>\n",
              "      <td>adct</td>\n",
              "      <td>adct</td>\n",
              "      <td>15dxgW0BVag6oCykb080</td>\n",
              "      <td>1</td>\n",
              "      <td></td>\n",
              "      <td></td>\n",
              "      <td>มหาลัยบูรพา</td>\n",
              "      <td>2019-09-30T09:12:37.851Z</td>\n",
              "      <td></td>\n",
              "      <td></td>\n",
              "      <td>ผศ.ดร. ภาวิณี ศักดิ์สุนทรศิริ</td>\n",
              "      <td></td>\n",
              "      <td>12</td>\n",
              "      <td>มหาวิทยาลัยบูรพา ภาควิชาวิศวกรรมเครื่องกล</td>\n",
              "      <td>81</td>\n",
              "      <td></td>\n",
              "      <td>ภาวิณี ศักดิ์สุนทรศิริ</td>\n",
              "      <td>ผศ.ดร.</td>\n",
              "    </tr>\n",
              "    <tr>\n",
              "      <th>703</th>\n",
              "      <td>adct</td>\n",
              "      <td>adct</td>\n",
              "      <td>5ZdxgW0BVag6oCykdU8y</td>\n",
              "      <td>1</td>\n",
              "      <td></td>\n",
              "      <td></td>\n",
              "      <td>มหาลัยบูรพา</td>\n",
              "      <td>2019-09-30T09:12:39.388Z</td>\n",
              "      <td></td>\n",
              "      <td></td>\n",
              "      <td>อ. ณัฐพันธ์ ถนอมสัตย์</td>\n",
              "      <td></td>\n",
              "      <td>12</td>\n",
              "      <td>มหาวิทยาลัยบูรพา ภาควิชาวิศวกรรมไฟฟ้า</td>\n",
              "      <td>95</td>\n",
              "      <td></td>\n",
              "      <td>ณัฐพันธ์ ถนอมสัตย์</td>\n",
              "      <td>อ.</td>\n",
              "    </tr>\n",
              "    <tr>\n",
              "      <th>704</th>\n",
              "      <td>adct</td>\n",
              "      <td>adct</td>\n",
              "      <td>yZdxgW0BVag6oCykaE-p</td>\n",
              "      <td>1</td>\n",
              "      <td></td>\n",
              "      <td></td>\n",
              "      <td>มหาลัยบูรพา</td>\n",
              "      <td>2019-09-30T09:12:36.177Z</td>\n",
              "      <td></td>\n",
              "      <td></td>\n",
              "      <td>อ.ดร. มัณฑนา รังสิโยภาส</td>\n",
              "      <td></td>\n",
              "      <td>12</td>\n",
              "      <td>มหาวิทยาลัยบูรพา ภาควิชาวิศวกรรมโยธา</td>\n",
              "      <td>67</td>\n",
              "      <td></td>\n",
              "      <td>มัณฑนา รังสิโยภาส</td>\n",
              "      <td>อ.ดร.</td>\n",
              "    </tr>\n",
              "  </tbody>\n",
              "</table>\n",
              "<p>705 rows × 18 columns</p>\n",
              "</div>"
            ],
            "text/plain": [
              "    _index _type  ...                 clean_name   prefix\n",
              "0     adct  adct  ...          สุธาทิพย์ สวนมะลิ   ผศ.ดร.\n",
              "1     adct  adct  ...       WAREE KONGPRAWECHNON         \n",
              "2     adct  adct  ...  Chalermchai Wanichlamlert         \n",
              "3     adct  adct  ...      Nattharika Rittippant    Ph.D.\n",
              "4     adct  adct  ...             พรพิมล จงไพศาล   ผศ.ดร.\n",
              "..     ...   ...  ...                        ...      ...\n",
              "700   adct  adct  ...           สุธนิตย์ พุทธพนม      ดร.\n",
              "701   adct  adct  ...          วัฒนชัย เยาวรัตน์  อาจารย์\n",
              "702   adct  adct  ...     ภาวิณี ศักดิ์สุนทรศิริ   ผศ.ดร.\n",
              "703   adct  adct  ...         ณัฐพันธ์ ถนอมสัตย์       อ.\n",
              "704   adct  adct  ...          มัณฑนา รังสิโยภาส    อ.ดร.\n",
              "\n",
              "[705 rows x 18 columns]"
            ]
          },
          "metadata": {
            "tags": []
          },
          "execution_count": 264
        }
      ]
    },
    {
      "cell_type": "markdown",
      "metadata": {
        "id": "1N3R-rca8H0-"
      },
      "source": [
        "# Create Author Table"
      ]
    },
    {
      "cell_type": "code",
      "metadata": {
        "id": "wpcrs4Gz3S37"
      },
      "source": [
        "uniq_name = df_new['clean_name'].unique()"
      ],
      "execution_count": 265,
      "outputs": []
    },
    {
      "cell_type": "code",
      "metadata": {
        "colab": {
          "base_uri": "https://localhost:8080/"
        },
        "id": "T9h5CrFF3UuL",
        "outputId": "5f97096c-55c7-4571-a12f-46c51e6c29a6"
      },
      "source": [
        "uniq_name"
      ],
      "execution_count": 266,
      "outputs": [
        {
          "output_type": "execute_result",
          "data": {
            "text/plain": [
              "array(['สุธาทิพย์ สวนมะลิ', 'WAREE KONGPRAWECHNON',\n",
              "       'Chalermchai Wanichlamlert', 'Nattharika Rittippant',\n",
              "       'พรพิมล จงไพศาล', 'Raktipong Sahamitmongkol', 'กฤษ เฉยไสย',\n",
              "       'Banlue Srisuchinwong PhD', 'Chalie Charoenlarpnopparut',\n",
              "       'สุรสิทธิ์ ปิยะศิลป์', 'ต้นคิด จันทรัศมี', 'ทวิวัชร วีระแกล้ว',\n",
              "       'สุวัฒน์ กุลธนปรีดา', 'บุญชัย วัจจะตรากุล', 'พงษ์ศิริ จรุยนนท์',\n",
              "       'สุรเจษฎ์ สุขไชยพร', 'กุลธิดา โรจน์วิบูลย์ชัย', 'วสุ เชาว์พานนท์',\n",
              "       'พิเชษฐ์ ช่อผกา', 'ทสพล เขตเจนการ', 'จิรภัทร์ อนันต์ภัทรชัย',\n",
              "       'ปวัตน์ ชูศิลป์', 'นิรุทธ์ ชลายนานนท์', 'นินนาท ราชประดิษฐ์',\n",
              "       'ศลิษา วีรพันธุ์', 'ฐนียา เภอบางเข็ม', 'ภาณุ พุทธวงศ์',\n",
              "       'ชูพงศ์ ช่วยเพ็ญ', 'ปัญญวัณ ลำเพาพงศ์', 'ศรินทร์ทิพย์ แทนธานี',\n",
              "       'Meng Jing', 'ประภาส วันทอง', 'อุดมเกียรติ นนทแก้ว',\n",
              "       'จักร จันทลักขณา', 'Arto Nurmikko', 'พัชรี เทพนิมิตร',\n",
              "       'ปูมยศ วัลลิกุล', 'สุชาติ เซี่ยงฉิน', 'อรวรรณ โรจน์วิรุฬห์',\n",
              "       'กิตติศักดิ์ คู่วรัญญู', 'วิชัย จันทรักษา', 'สุคม ลิปิเลิศ',\n",
              "       'วรรณรัช สันติอมรทัต', 'จักรพันธ์ สัวบุตร', 'สุวัฒน์ เณรโต',\n",
              "       'สุรชัย โกเมนธรรมโสภณ', 'ประชุม คำพุฒ', 'เกษรินทร์ พูลทรัพย์',\n",
              "       'สุวิมล วงศ์สกุลเภสัช', 'วีรวัฒน์ ปัตทวีคงคา', 'เดวิดอาร์เธอร์ซัน',\n",
              "       'อัมรินทร์ ดีมะการ', 'วิศรุต จันทระ', 'กวินธร สัยเจริญ',\n",
              "       'ธีรสิทธิ์ เกษตรเกษม', 'Josef Mittlemann', 'Ravi Pendse',\n",
              "       'ณัฐวุฒิ ขวัญแก้ว', 'ศิริวัฒน์ พูนวศิน',\n",
              "       'ศิริโรจน์ ศิริสุขประเสริฐ', 'สันติ อัศวศรีพงศ์ธร',\n",
              "       'ชัยวัฒน์ ชัยกุล', 'วิชัย สุระพัฒน์', 'Nitin Padture',\n",
              "       'Daniel Loveless', 'Xin Liang', 'Tao Liu', 'มงคล ลี้ประกอบบุญ',\n",
              "       'Mark Abkowitz', 'Do-Joong Lee', 'Joonhee Lee', 'Pradeep Guduru',\n",
              "       'Christopher Bull', 'Kevin Brown', 'Mohammad Hassan Ghaed',\n",
              "       'Martha Gialampouki', 'Vadivelnadar K. Ponnulakshmi', 'Wenwen Wu',\n",
              "       'เจตวีย์ ภัครัชพันธุ์', 'ขวัญเรือน ทันประสงค์', 'อภิรดี เสนะเปรม',\n",
              "       'อุศนา ตัณฑุลเวศม์', 'ศิริพงศ์ อติพันธ์', 'เวชพงศ์ ชุติชูเดช',\n",
              "       'ปวเรศ ชมเดช', 'สุรชัย รดาการ', 'พิพล บุญจันต๊ะ', 'วินัย เพชร์สุข',\n",
              "       'ยุทธศักดิ์ อุราธรรมกุล', 'เสนีย์ ตั้งสถิตย์',\n",
              "       \"Joseph (Jose') Manuel Calo\", 'ทวีเดช ศิริธนาพิพัฒน์',\n",
              "       'ธำรงค์ พุทธาพิทักษ์ผล', 'อัญชนา วงษ์โต', 'Jacob Rosenstein',\n",
              "       'Jimmy Xu', 'Katharina Galor', 'Ilker Ozden', 'Vijay Sethuraman',\n",
              "       'Thomas Powers', 'Raymond Roberts', 'Seunghyun Kim',\n",
              "       'ชาญเวช ศีลพิพัฒน์', 'ประพจน์ ขุนทอง', 'ปรีชา วรรณภูมิ',\n",
              "       'พิชัย กฤชไมตรี', 'คุณยุต เอี่ยมสอาด', 'อรรถพร วิเศษสินธุ์',\n",
              "       'ศรีสุดา แซ่อึ้ง', 'ธีรวัฒน์ สมสิริกาญจนคุณ', 'เอนก ชมวงษ์',\n",
              "       'สุพจน์ ศิริเสนาพันธ์', 'สมเสียง จันทาสี', 'อดิศักดิ์ นาวเหนียว',\n",
              "       'เอมม่า อาสนจินดา', 'กฤษฎาณชลี กาญจนศรี', 'ทวีชัย สำราญวานิช',\n",
              "       'อาณัติ ดีพัฒนา', 'วิโรจน์ เรืองประเทืองสุข', 'ชัยวัฒน์ กันหารี',\n",
              "       'จิตติ พัทธวณิช', 'ญาณิศา ละอองอุทัย', 'วรสิทธิ์ กาญจนกิจเกษม',\n",
              "       'พุทธา จีนครัว', 'วิรุณศักดิ์ สันติเพ็ชร์',\n",
              "       'กาญจนพันธุ์ สุขวิชชัย', 'ทรงศักดิ์ สุธาสุประดิษฐ',\n",
              "       'กวิน สนธิเพิ่มพูน', 'สมลักษณ์ วรรณฤมล กีเยลาโรว่า',\n",
              "       'นิคม กลมเกลี้ยง', 'กุลยา กนกจารุวิจิตร', 'วิลาวัลย์ คณิตชัยเดชา',\n",
              "       'รัฐภูมิ ปริชาตปรีชา', 'พงษ์ธร จุฬพันธ์ทอง', 'สรัณกร เหมะวิบูลย์',\n",
              "       'อุดมฤกษ์ ปานพลอย', 'กานต์ ลี่วัฒนายิ่งยง', 'วิสาข์ เจ่าสกุล',\n",
              "       'ดลเดช ตั้งตระการพงษ์', 'อิศราวุธ ประเสริฐสังข์',\n",
              "       'ภาณุวัฒน์ ด่านกลาง', 'อานุภาพ บุญส่งศรีกุล', 'สัญชัย เอียดปราบ',\n",
              "       'Pisal Yenradee D.Eng.', 'Prapun Suksompong', 'สงบ คำค้อ',\n",
              "       'ชาญยุทธ โกลิตะวงษ์', 'สว่างทิตย์ ศรีกิจสุวรรณ',\n",
              "       'บุญญฤทธิ์ อุยยานนวาระ', 'สิริวิชญ์ เตชะเจษฎารังษี',\n",
              "       'PARNTHEP JULNIPITAWONG', 'นภัสถ์ ไตรโรจน์', 'อัครพันธ์ วงศ์กังแห',\n",
              "       'สุวิทย์ กิระวิทยา', 'อาทิตย์ ฤทธิ์เลื่อน', 'สุภัทรา ปลื้มกมล',\n",
              "       'กันต์ไชย ธนาพรรวีกิตติ์', 'ปฤษทัศว์ ศีตะปันย์',\n",
              "       'วีทิต วรรณเลิศลักษณ์', 'จิระเดช เกิดศรี', 'THUNYASETH SETHAPUT',\n",
              "       'BOONTAWEE SUNTISRIVARAPORN', 'ชัยภัทร เครีอหงส์',\n",
              "       'คมสันต์ กาญจนสิทธิ์', 'CHUNG-HAO (JOHN) HSU',\n",
              "       'วลาดิมิร์ คูปริอานอฟ', 'ขวัญนิธิ คำเมือง', 'วรนารถ แสงฉาย',\n",
              "       'สุรชัย องกิตติกุล', 'อุปถัมภ์ นาครักษ์', 'อนันต์ชัย อยู่แก้ว',\n",
              "       'มัทนี สงวนเสริมศรี', 'ธีระศักดิ์ หุดากร', 'มานพ สีเหลือง',\n",
              "       'วรพล เกียรติกิตติพงษ์', 'ภาณุ บูรณจารุกร', 'ทศพล ตรีรุจิราภาพงศ์',\n",
              "       'ศิษฎา สิมารักษ์', 'WARODOM WERAPUN', 'ฉกาจกิจ แท่นชัยกุล',\n",
              "       'ปณัฐพงศ์ บุญนวล', 'เสาวลักษณ์ ตองกลิ่น', 'นพวรรณ โม้ทอง',\n",
              "       'ประกาศ ทองประไพ', 'Elizabeth Dworska', 'Graham Hemingway',\n",
              "       'ประสงค์ วงศ์วิชา', 'อาทิตย์ เนรมิตตกพงศ์', 'Phil Davis',\n",
              "       'Sue Prendergast', 'ชินะวัฒน์ มุกตพันธุ์', 'Bill Patterson',\n",
              "       'Jiajue Chai', 'Janet Blume', 'Allan Bower', 'Clyde Briant',\n",
              "       'Axel van de Walle', 'Petia Vlahovska', 'Alexander Zaslavsky',\n",
              "       'Daniel Bacher', 'Michael Jibitsky', 'Arpiar Kaloustian',\n",
              "       'Abhishek Dubey', 'Hector Garces', 'Wenpeng Zhu',\n",
              "       'Enkeleida Lushi', 'David Koester', 'วัชรี วีรคเชนทร์',\n",
              "       'ตฤณ แสงสุวรรณ', 'Sture K. F. Karlsson', 'เปรื่องบุญ จักกะพาก',\n",
              "       'ปัญญา เหล่าอนันต์ธนา', 'จันทนี รุ่งเรืองพิทยากุล',\n",
              "       'Haneesh Kesari', 'Brian W. Sheldon', 'ธนากร ฆ้องเดช',\n",
              "       'สุจิตรา ดวงพัตรา', 'พิสุทธิ์ รพีศักดิ์', 'Jeffrey Morgan',\n",
              "       'Shouheng Sun', 'Ljubomir Miljacic', 'Ramsharan Rangarajan',\n",
              "       'G. Tayhas R. Palmore', 'Marc Richman', 'Jerome Weiner',\n",
              "       'Joseph Fontaine', 'ทิพวัลย์ หวั่นอินตา', 'มิติ รุจานุรักษ์',\n",
              "       'Edith Mathiowitz', 'ประกอบ สุรวัฒนาวรรณ',\n",
              "       'สัจจาทิพย์ ทัศนียพันธุ์', 'กีรติ แสงแจ่ม', 'เอกรัฐ สุวรรณกูฏ',\n",
              "       'ไชยวัฒน์ กล่ำพล', 'สมสุข เตชสมบูรณ์สุข', 'พงศ์ธร พรหมบุตร',\n",
              "       'นงลักษณ์ งามเจริญ', 'ปิยฉัตร วัฒนชัย', 'เอกไท วิโรจน์สกุลชัย',\n",
              "       'เฉลิมพล เปล่งสะอาด', 'สมพงษ์ พิเชฐภิญโญ',\n",
              "       'สร้อยพัทธา สร้อยสุวรรณ', 'โรสมารินทร์ สุขเกษม',\n",
              "       'Maurice Glicksman', 'Danny Warshay', 'Marek Wojtowicz',\n",
              "       'Jason Harry', 'David Joseph Odeh', 'David Cooper',\n",
              "       'อภิชาต แจ้งบำรุง', 'จิระชัย มิ่งบรรเจิดสุข',\n",
              "       'ภาณุมาศ อรุณเดชาวัฒน์', 'ทวีศักดิ์ แตะกระโทก', 'กรกฎ นุสิทธิ์',\n",
              "       'ศิริชัย ตันรัตนวงศ์', 'วิรุฬห์ ศรีบริรักษ์', 'กำพล ทรัพย์สมบูรณ์',\n",
              "       'บรรหาญ ลิลา', 'จันทร์ฑา นาควชิรตระกูล', 'เกษม พิพัฒน์ปัญญานุกูล',\n",
              "       'อานนท์ วงษ์แก้ว', 'ปารีชา รัตนศิริ', 'วัชรินทร์ ดงบัง',\n",
              "       'อนุพนธ์ พิมพ์ช่วย', 'วิศณุ บุญรอด', 'กฤษดา ประสพชัยชนะ',\n",
              "       'ชาญยุทธ กาฬกาญจน์', 'บุญพล มีไชโย', 'ธราธร บุญศรี',\n",
              "       'วิศว์ ศรีพวาทกุล', 'นาวี เจี่ยดารง', 'Jirachai Buddhakulsomsiri',\n",
              "       'Chawalit Jeenanunta', 'Thananchai Leephakpreeda',\n",
              "       'Pisit Chanvarasuth', 'อัญชลี แสงซ้าย', 'ทินกร คำแสน',\n",
              "       'ภัควัฒน์ แสนเจริญ', 'สมพร เรืองสินชัยวานิช', 'สุชาติ แย้มแม่น',\n",
              "       'พลิศวร์ รัตนสวัสดิ์', 'พิสุทธิ์ อภิชยกุล', 'ชูวงศ์ ชัยสุข',\n",
              "       'ทิพย์วารี หว่างเจริญศักดิ์', 'ชำนาญ ขุมทรัพย์',\n",
              "       'มนต์ชัย ดวงปัญญา', 'ยศวีย์ แก้วมณี', 'อุษณีย์ กิตกาธร',\n",
              "       'รัตน บริสุทธิกุล', 'วีรยุทธ เลิศบำรุงสุข', 'อมเรศ บกสุวรรณ',\n",
              "       'อาจารย์ ธรรมรัฏฐ์ สมิตะลัมพะ', 'ณัฐ ธัชยะพงษ์',\n",
              "       'ประจวบ กล่อมจิตร', 'อภิชาต วสุธาพิทักษ์', 'วันชัย ลีลากวีวงศ์',\n",
              "       'ธรรมวิชช์ ประเสริฐ', 'ณัฐพล ศิริสว่าง', 'บุญชัย ผึ้งไผ่งาม',\n",
              "       'จินดารัตน์ มณีเจริญ', 'ศิริรัตน์ วัชรวิชานันท์',\n",
              "       'โอกร เมฆาสุวรรณดำรง', 'Daniel Balasubramanian', 'David DeLapp',\n",
              "       'Rossane DeLapp', 'พุทธพล ทองอินทร์ดำ', 'รำพึง ชัยหลีเจริญ',\n",
              "       'ศุภกร ศิรพจนกุล', 'John Kinnebrew', 'Douglas Adams',\n",
              "       'นิยม พินิจการ', 'Karen Haberstroh', 'Bruce Caswell',\n",
              "       'Ankit Srivastava', 'Christian Franck', 'Tuhina Adit Maark',\n",
              "       'Jennifer Franck', 'Patrick McHugh', 'Brian Burke',\n",
              "       'David Carchedi', 'Gregory Jay M.D. PhD', 'Chad Jenkins',\n",
              "       'Naba Karan', 'Brian Corkum', 'Ann Hanna', 'Martin Maxey',\n",
              "       'Yiyi Yang', 'Daegyoum Kim', 'Jin Ho Kim', 'Liang Guo',\n",
              "       'R. Iris Bahar', 'Robert Hurt', 'Kyung-Suk Kim',\n",
              "       'สมใจ ขจรชืพพันธุ์งาม', 'Mark Fuller', 'ศุภสิทธิ์ รอดขวัญ',\n",
              "       'วิทิต ฉัตรรัตนกุลชัย', 'Akram Dallalah', 'ปองวิทย์ ศิริโพธิ์',\n",
              "       'ธัญญะ เกียรติวัฒน์', 'พีรพล เวชสุวรรณมณี',\n",
              "       'พัชราภรณ์ บุณยวานิชกุล', 'พีระยศ แสนโภชน์', 'ปานจิต ดำรงกุลกำจร',\n",
              "       'ณัฏฐกา หอมทรัพย์', 'ดุสิต ธนเพทาย', 'ณัฐวุฒิ ชินธเนศ',\n",
              "       'Richard Dobbins', 'L.B. Freund', 'Laurenz Hermann', 'Ted Morse',\n",
              "       'Allan Pearson', 'Donald Stanford', 'วรฐ คูหิรัญ',\n",
              "       'สุวิทย์ เจิมสวัสดิพงษ์', 'ชัชพล ชังชู', 'เกรียงไกร อัศวมาศบันลือ',\n",
              "       'จินดา คุ้มงาน', 'ชินภัทร ทิพโยภาส', 'บัณฑร จิตต์สุภาพ',\n",
              "       'นรรัตน์ วัฒนมงคล', 'ปาจรีย์ ทองสนิท', 'เล็ก วันทา',\n",
              "       'ปรณัฐ วิสุวรรณ', 'สมาน เจริญกิจพูลผล', 'มนตรี พิรุณเกษตร',\n",
              "       'เอกชัย สุธีรศักดิ์', 'ณยศ คุรุกิจโกศล', 'วีรพร พงศ์ติณบุตร',\n",
              "       'โชคชัย ชื่นวัฒนาประณิธิ', 'เฉลิมภัณฑ์ ฟองสมุทร',\n",
              "       'สุรเมศวร์ พิริยะวัฒน์', 'ปราโมทย์ ลายประดิษฐ์', 'อภิรัฐ ลิ่มมณี',\n",
              "       'โกวิท มาศรัตน', 'เสฎฐกรณ์ อุปเสน', 'สิทธิภัสร์ เอื้ออภิวัชร์',\n",
              "       'วัชระ เครือรัฐติกาล', 'นพรัตน์ สีหะวงษ์', 'กุลยศ อุดมวงศ์เส',\n",
              "       'ศิริกาญจน์ ขันสัมฤทธิ์', 'สุชาดา อิศราภรณ์', 'ปิยนันท์ บุญพยัคฆ์',\n",
              "       'ภมรรัตน์ จันธรรม', 'ปฐมศก วิไลพล', 'ขวัญชัย ไกรทอง',\n",
              "       'รัตนา การุญบุญญานันท์', 'ศุภชัย วาสนานนท์', 'วิชุดา เมตตานันท',\n",
              "       'ธนพล เพ็ญรัตน์', 'อภิชัย ฤตวิรุฬห์', 'โพธิ์งาม สมกุล',\n",
              "       'ศิวะพงศ์ เพ็ชรสงค์', 'ฐิติวัฒน์ สืบสุวงศ์', 'Toshiaki Kondo',\n",
              "       'Somsak Kittipiyakul', 'Curriculum Vitae', 'นันทกานต์ วงศ์เกษม',\n",
              "       'Warangkana Saengsoy', 'Nirattaya Khamsemanan Ph.D',\n",
              "       'เพชร เจียรนัยศิลาวงศ์', 'ณัฏฐวรรธ ธนประดิษฐ์กูล', 'พนมกร ขวาของ',\n",
              "       'สุเมธ เหมะวัฒนะชัย', 'กนก วีรวงศ์', 'ธันวา ศรีประโมง',\n",
              "       'ถาวร ธีรเวชญาณ', 'ศิษฐ์ภัณฑ์ แคนลา', 'กษมา ศิริสมบูรณ์',\n",
              "       'เดชาพันธ์ รัฐศาสนศาสตร์', 'จตุพล ตั้งปกาศิต',\n",
              "       'วีระศักดิ์ ละอองจันทร์', 'ศุภสิทธิ พงศ์ศิวะสถิตย์',\n",
              "       'สมพิศ ตันตวรนาท', 'กำธรเกียรติ มุสิเกต', 'สุขุม โฆษิตชัยมงคล',\n",
              "       'ธิบดินทร์ แสงสว่าง', 'จันทนา สังวรโยธิน', 'กัญจนา ทองสนิท',\n",
              "       'วรฤทัย ชูเทียร', 'มนตรี พิพัฒน์ไพบูลย์', 'มัลลิกา ถาบุตร',\n",
              "       'Lisa Bliss', 'ธนา ราษฎร์ภักดี', 'ปฏิพัทธ์ หงษ์สุวรรณ',\n",
              "       'สุจินต์ วุฒิชัยวัฒน์', 'ไพฑูรย์ กิติสุนทร', 'นพพณ เลิศชูวงศา',\n",
              "       'พรวสา วงษ์ปัญญา', 'สุภกิจ รูปขันธ์', 'อภิชาติ หีดนาคราม',\n",
              "       'วศิมน พาณิชพัฒนกุล', 'Kenneth Breuer', 'Angus Kingon',\n",
              "       'Jonathan Galli', 'Larry Howard', 'Michael James', 'David Paine',\n",
              "       'Huajian Gao', 'David Henann', 'Anthony McCormick',\n",
              "       'Jerry Daniels', 'Sean C. Deoni', 'Pedro F. Felzenszwalb',\n",
              "       'Ronald Dunn', 'Kai Yan', 'Rod Beresford', 'Paul Waltz',\n",
              "       'Marcelo Dias', 'Benjamin Lyons', 'J.J. Trey Crisco',\n",
              "       'John Donoghue', 'Caroline Klivans', 'Diane Hoffman-Kim',\n",
              "       'Selim Suner', 'Jay Tang', 'Gang Xiao', 'Gabriel Taubin',\n",
              "       'Rick Fleeter', 'Andrew Gabor', 'Steven Petteruti', 'Jon Cohen',\n",
              "       'William Curtin', 'Vladan Mlinar', 'Joseph Mundy', 'Sherief Reda',\n",
              "       'Peter Damian Richardson', 'Andrew Peterson', 'Gustavo Fernandes',\n",
              "       'Nico Frick', 'Jim Rice', 'Emre Sari', 'John Simeral',\n",
              "       'Indrek Kulaots', 'William Patterson', 'Anita Shukla',\n",
              "       'วินัย พฤกษะวัน', 'Rodney Clifton', 'วันเช็ง สิทธิกิจโยธิน',\n",
              "       'วุฒิชัย กปิลกาญจน์', 'สันติ ลักษิตานนท์', 'อารยา ศักดิ์บูรณาเพชร',\n",
              "       'เกียรติยุทธ กวีญาณ', 'ปาริชาต เชยพิม', 'ลัคน์ จันทนภาพ',\n",
              "       'กุลภวา จามรมาน', 'ปฐมาภรณ์ ศรีผดุงธรรม', 'ยศวีร์ วีระกำแหง',\n",
              "       'วรวรรณ ศรีฉัตราภิมุข', 'ชูเกียรติ การะเกตุ', 'สมหญิง ไทยนิมิต',\n",
              "       'มงคล รักษาพัชรวงศ์', 'วชิระ จงบุรี', 'Vivek Shenoy', 'Ian Wong',\n",
              "       'William Wolovich', 'ธงชัย ศรีวิริยรัตน์', 'ทนงศักดิ์ เทพสนธิ',\n",
              "       'วรางค์รัตน์ จันทสาโร', 'ธเนศ อรุณศรีโสภณ', 'วรัตถา อุทยารัตน์',\n",
              "       'เกตุชนา บุญฤทธิ์', 'ชัยธำรง พงศ์พัฒนศิริ',\n",
              "       'ไพลิน เงาตระการวิวัฒน์', 'วรรณวรางค์ รัตนานิคม',\n",
              "       'จักรวาล คุณะดิลก', 'ชาญชัย พลตรี', 'ธนาวดี เพชรยศ',\n",
              "       'บัญชา อริยะจรรยา', 'ฉวีกาญจน์ สันทัสนะโชค', 'เชิดพงษ์ สีดาว',\n",
              "       'เจริญ ชินวานิชย์เจริญ', 'ชุลีพรย์ ป่าไร่', 'กิตติพงศ์ บุญโล่ง',\n",
              "       'วิทวัส แจ้งเอี่ยม', 'วชิรา ดาวสุด', 'อุทัย ประสพชิงชนะ',\n",
              "       'สุรชาติ เหล็กงาม', 'เจษฎา สายใจ', 'กฤษณา พูลสวัสดิ์',\n",
              "       'อาภาภรณ์ จันทร์ปิรักษ์', 'ธนวัฒน์ พลพิทักษ์ชัย',\n",
              "       'ภัคพงศ์ จันทเปรมจิตต์', 'วรางค์ลักษณ์ ซ่อนกลิ่น', 'พัชรี ธีระเอก',\n",
              "       'วรเชษฐ์ ภิรมย์ภักดิ์', 'สมเจต ศุภรังสรรค์', 'วิศรุดา ศุภรังสรรค์',\n",
              "       'จันทนา ปัญญาวราภรณ์', 'ปิยะนันท์ เจริญสวรรค์', 'วิเชียร ชาลี',\n",
              "       'ไพบูลย์ ลิ้มปิติพานิชย์', 'ปิยะฉัตร ฉัตรตันใจ',\n",
              "       'สุจินต์ บุรีรัตน์', 'วิบูลย์ ชื่นแขก', 'Steven Gordon',\n",
              "       'NGUYEN DUY HUNG', 'เพิ่มศักดิ์ ศิริพละ',\n",
              "       'ไพบูลย์ ศรีอรุโณทัย (Ph. D.)', 'Alice Sharp',\n",
              "       'ยงยุทธ ชนบดีเฉลิมรุ่ง', 'กอปร ศรีนาวิน', 'ชวิศ ศรีจันทร์',\n",
              "       'วรลักษณ์ คงเด่นฟ้า', 'พนัส นัถฤทธิ์', 'วีรวัฒน์ ขาวสุข',\n",
              "       'พิเชษฐ์ สนิทเหลือ', 'นิติพงศ์ โสภณพงศ์พิพัฒน์', 'สาโรช พูลเทพ',\n",
              "       'ปองพันธ์ โอทกานนท์', 'ธณิกานต์ ธงชัย', 'ประกร รามกุล',\n",
              "       'สุรัตน์ ปัญญาแก้ว', 'จารุตม์ คุณานพดล', 'ปรเมศร์ อารมย์ดี',\n",
              "       'ปิติศานต์ กร้ำมาตร', 'นิรชร นกแก้ว', 'มาโนช รุจิภากร',\n",
              "       'อธิป เหลืองไพโรจน์', 'สุธาสินี เนรมิตตกพงศ์', 'กันยรัตน์ โหละสุต',\n",
              "       'ธเนศ เสถียรนาม', 'ดลฤดี หอมดี', 'สมใจ ขจรชีพพันธุ์งาม',\n",
              "       'ธรวิภา พวงเพ็ชร (หัวหน้าภาควิชาฯ)', 'สิทธิโชค ผูกพันธุ์',\n",
              "       'นำพล มหายศนันท์', 'อำพันธ์ จันทร์เพ็งเพ็ญ', 'ฐาปนีย์ พัชรวิชญ์',\n",
              "       'สารัมภ์ บุญมี', 'กุลจรี ตันตยกุล', 'กุลยา สาริชีวิน',\n",
              "       'สุธี ปิยะพิพัฒน์', 'วโรดม วีระพันธ์', 'Larry Larson',\n",
              "       'Junhwan Jeon', 'Hyokyung Sung', 'Zachary Saleeba',\n",
              "       'Charlie Vickers', 'Mick Howell', 'Ill Ryu', 'Xin Su',\n",
              "       'Leigh Hochberg', 'Benjamin Kimia', 'Sharvan Kumar',\n",
              "       'ยุทนา ไผทรัตน์', 'ณัฐวุฒิ ธาราวดี', 'Rashid Zia',\n",
              "       'Harvey Silverman', 'Eric Suuberg', 'Julie Marton',\n",
              "       'Sharon Swartz', 'Stefanie Tellex', 'Domenico Pacifici',\n",
              "       'Nabil Lawandy', 'Kareen Coulombe', 'Eric Chason',\n",
              "       'Anubhav Tripathi', 'Barrett Hazeltine', 'Robert Petteruti',\n",
              "       'Ming Yin', 'David Durfee', 'Ian Gonsher', 'George Hradil',\n",
              "       'Joseph Liu', 'Shreyas Mandre', 'Hyewon Kim', 'Seokki Kim',\n",
              "       'Jennifer Casasanto', 'Peter Horvath', 'Alan Needleman',\n",
              "       'ชัยยากร จันทร์สุวรรณ์', 'นัยสันต์ อภิวัฒนลังการ',\n",
              "       'ดุลย์พิเชษฐ์ ฤกษ์ปรีดาพงศ์', 'ธนพัฒน์ เกิดสุข',\n",
              "       'ชวลิต กิตติชัยการ', 'สุรพล พฤกษพานิช', 'เด่นชัย วรเศวต',\n",
              "       'กรรมมันต์ ชูประเสริฐ', 'วิชัย ศิวะโกศิษฐ', 'ธงชัย หฤทัยสดใส',\n",
              "       'สุเนตร พรานนท์สถิตย์', 'พูนลาภ ลามศรีจันทร์',\n",
              "       'เอกชัย ไพศาลกิตติสกุล', 'มนต์ชัย สุระรัตน์ชัย',\n",
              "       'นวทัศน์ ก้องสมุทร', 'ชนินทร์ ตรงจิตภักดี', 'สุรี จิตโสภิณ',\n",
              "       'ประมุข จันสุริยวงศ์', 'ศักดาเรศ พรมยะกลาง',\n",
              "       'ศรีจิตรา เจริญลาภนพรัตน์', 'วุฒิพงศ์ อารีกุล',\n",
              "       'Sebastjan Glinsek', 'Michael Francis', 'สมบัติ ชื่นชูกลิ่น',\n",
              "       'พวงรัตน์ ขจิตวิชยานุกูล', 'พัทรพงษ์ อาสนจินดา', 'มยุรี เทศผล',\n",
              "       'ปิติ โรจน์วรรณสินธุ์', 'เพชร์รัตน์ ลิ้มสุปรียารัตน์',\n",
              "       'ภัคพงศ์ หอมเนียม', 'ดุษฎี สถิรเศรษฐทวี', 'ภูพงษ์ พงษ์เจริญ',\n",
              "       'ศรีสัจจา วิทยศักดิ์', 'อมรชัย ใจยงค์', 'ณัฐศักดิ์ บุญมี',\n",
              "       'ศุภศิลป์ ทวีศักดิ์', 'เอกรัตน์ วงษ์แก้ว', 'แดง แซ่เบ๊',\n",
              "       'สสิกรณณ์ เหลืองวิชชเจริญ', 'ธรรมนูญ รัศมีมาสเมือง',\n",
              "       'สยาม ยิ้มศิริ', 'อำพล เตโชวาณิชย์', 'ปฏิภาณ บุญรวม',\n",
              "       'ฤภูวัลย์ จันทรสา', 'เที่ยง ชีวะเกตุ', 'นพคุณ บุญกระพือ',\n",
              "       'เกียรติไกร อายุวัฒน์', 'นส.พรรณทิพย์ ชั่งทอง',\n",
              "       'ทิพย์วิมล แตะกระโทก', 'สุธนิตย์ พุทธพนม', 'วัฒนชัย เยาวรัตน์',\n",
              "       'ภาวิณี ศักดิ์สุนทรศิริ', 'ณัฐพันธ์ ถนอมสัตย์',\n",
              "       'มัณฑนา รังสิโยภาส'], dtype=object)"
            ]
          },
          "metadata": {
            "tags": []
          },
          "execution_count": 266
        }
      ]
    },
    {
      "cell_type": "code",
      "metadata": {
        "id": "dIgK0LYb3Wnt"
      },
      "source": [
        "df_unique_name = pd.DataFrame(uniq_name,columns=['clean_name'])"
      ],
      "execution_count": 267,
      "outputs": []
    },
    {
      "cell_type": "code",
      "metadata": {
        "colab": {
          "base_uri": "https://localhost:8080/",
          "height": 402
        },
        "id": "5m5y0htK3YP7",
        "outputId": "254eb8f0-496b-41b7-d7f7-e6e8abdbaeac"
      },
      "source": [
        "df_unique_name"
      ],
      "execution_count": 268,
      "outputs": [
        {
          "output_type": "execute_result",
          "data": {
            "text/html": [
              "<div>\n",
              "<style scoped>\n",
              "    .dataframe tbody tr th:only-of-type {\n",
              "        vertical-align: middle;\n",
              "    }\n",
              "\n",
              "    .dataframe tbody tr th {\n",
              "        vertical-align: top;\n",
              "    }\n",
              "\n",
              "    .dataframe thead th {\n",
              "        text-align: right;\n",
              "    }\n",
              "</style>\n",
              "<table border=\"1\" class=\"dataframe\">\n",
              "  <thead>\n",
              "    <tr style=\"text-align: right;\">\n",
              "      <th></th>\n",
              "      <th>clean_name</th>\n",
              "    </tr>\n",
              "  </thead>\n",
              "  <tbody>\n",
              "    <tr>\n",
              "      <th>0</th>\n",
              "      <td>สุธาทิพย์ สวนมะลิ</td>\n",
              "    </tr>\n",
              "    <tr>\n",
              "      <th>1</th>\n",
              "      <td>WAREE KONGPRAWECHNON</td>\n",
              "    </tr>\n",
              "    <tr>\n",
              "      <th>2</th>\n",
              "      <td>Chalermchai Wanichlamlert</td>\n",
              "    </tr>\n",
              "    <tr>\n",
              "      <th>3</th>\n",
              "      <td>Nattharika Rittippant</td>\n",
              "    </tr>\n",
              "    <tr>\n",
              "      <th>4</th>\n",
              "      <td>พรพิมล จงไพศาล</td>\n",
              "    </tr>\n",
              "    <tr>\n",
              "      <th>...</th>\n",
              "      <td>...</td>\n",
              "    </tr>\n",
              "    <tr>\n",
              "      <th>660</th>\n",
              "      <td>สุธนิตย์ พุทธพนม</td>\n",
              "    </tr>\n",
              "    <tr>\n",
              "      <th>661</th>\n",
              "      <td>วัฒนชัย เยาวรัตน์</td>\n",
              "    </tr>\n",
              "    <tr>\n",
              "      <th>662</th>\n",
              "      <td>ภาวิณี ศักดิ์สุนทรศิริ</td>\n",
              "    </tr>\n",
              "    <tr>\n",
              "      <th>663</th>\n",
              "      <td>ณัฐพันธ์ ถนอมสัตย์</td>\n",
              "    </tr>\n",
              "    <tr>\n",
              "      <th>664</th>\n",
              "      <td>มัณฑนา รังสิโยภาส</td>\n",
              "    </tr>\n",
              "  </tbody>\n",
              "</table>\n",
              "<p>665 rows × 1 columns</p>\n",
              "</div>"
            ],
            "text/plain": [
              "                    clean_name\n",
              "0            สุธาทิพย์ สวนมะลิ\n",
              "1         WAREE KONGPRAWECHNON\n",
              "2    Chalermchai Wanichlamlert\n",
              "3        Nattharika Rittippant\n",
              "4               พรพิมล จงไพศาล\n",
              "..                         ...\n",
              "660           สุธนิตย์ พุทธพนม\n",
              "661          วัฒนชัย เยาวรัตน์\n",
              "662     ภาวิณี ศักดิ์สุนทรศิริ\n",
              "663         ณัฐพันธ์ ถนอมสัตย์\n",
              "664          มัณฑนา รังสิโยภาส\n",
              "\n",
              "[665 rows x 1 columns]"
            ]
          },
          "metadata": {
            "tags": []
          },
          "execution_count": 268
        }
      ]
    },
    {
      "cell_type": "code",
      "metadata": {
        "id": "sJ1u9QHg3LaQ"
      },
      "source": [
        "start_id = 547926\n",
        "df_unique_name['id'] = df_unique_name.index + start_id"
      ],
      "execution_count": 269,
      "outputs": []
    },
    {
      "cell_type": "code",
      "metadata": {
        "colab": {
          "base_uri": "https://localhost:8080/",
          "height": 402
        },
        "id": "FJRhQNuQ3aMC",
        "outputId": "b99b1455-393b-4862-da7c-064f163d1b72"
      },
      "source": [
        "df_unique_name"
      ],
      "execution_count": 270,
      "outputs": [
        {
          "output_type": "execute_result",
          "data": {
            "text/html": [
              "<div>\n",
              "<style scoped>\n",
              "    .dataframe tbody tr th:only-of-type {\n",
              "        vertical-align: middle;\n",
              "    }\n",
              "\n",
              "    .dataframe tbody tr th {\n",
              "        vertical-align: top;\n",
              "    }\n",
              "\n",
              "    .dataframe thead th {\n",
              "        text-align: right;\n",
              "    }\n",
              "</style>\n",
              "<table border=\"1\" class=\"dataframe\">\n",
              "  <thead>\n",
              "    <tr style=\"text-align: right;\">\n",
              "      <th></th>\n",
              "      <th>clean_name</th>\n",
              "      <th>id</th>\n",
              "    </tr>\n",
              "  </thead>\n",
              "  <tbody>\n",
              "    <tr>\n",
              "      <th>0</th>\n",
              "      <td>สุธาทิพย์ สวนมะลิ</td>\n",
              "      <td>547926</td>\n",
              "    </tr>\n",
              "    <tr>\n",
              "      <th>1</th>\n",
              "      <td>WAREE KONGPRAWECHNON</td>\n",
              "      <td>547927</td>\n",
              "    </tr>\n",
              "    <tr>\n",
              "      <th>2</th>\n",
              "      <td>Chalermchai Wanichlamlert</td>\n",
              "      <td>547928</td>\n",
              "    </tr>\n",
              "    <tr>\n",
              "      <th>3</th>\n",
              "      <td>Nattharika Rittippant</td>\n",
              "      <td>547929</td>\n",
              "    </tr>\n",
              "    <tr>\n",
              "      <th>4</th>\n",
              "      <td>พรพิมล จงไพศาล</td>\n",
              "      <td>547930</td>\n",
              "    </tr>\n",
              "    <tr>\n",
              "      <th>...</th>\n",
              "      <td>...</td>\n",
              "      <td>...</td>\n",
              "    </tr>\n",
              "    <tr>\n",
              "      <th>660</th>\n",
              "      <td>สุธนิตย์ พุทธพนม</td>\n",
              "      <td>548586</td>\n",
              "    </tr>\n",
              "    <tr>\n",
              "      <th>661</th>\n",
              "      <td>วัฒนชัย เยาวรัตน์</td>\n",
              "      <td>548587</td>\n",
              "    </tr>\n",
              "    <tr>\n",
              "      <th>662</th>\n",
              "      <td>ภาวิณี ศักดิ์สุนทรศิริ</td>\n",
              "      <td>548588</td>\n",
              "    </tr>\n",
              "    <tr>\n",
              "      <th>663</th>\n",
              "      <td>ณัฐพันธ์ ถนอมสัตย์</td>\n",
              "      <td>548589</td>\n",
              "    </tr>\n",
              "    <tr>\n",
              "      <th>664</th>\n",
              "      <td>มัณฑนา รังสิโยภาส</td>\n",
              "      <td>548590</td>\n",
              "    </tr>\n",
              "  </tbody>\n",
              "</table>\n",
              "<p>665 rows × 2 columns</p>\n",
              "</div>"
            ],
            "text/plain": [
              "                    clean_name      id\n",
              "0            สุธาทิพย์ สวนมะลิ  547926\n",
              "1         WAREE KONGPRAWECHNON  547927\n",
              "2    Chalermchai Wanichlamlert  547928\n",
              "3        Nattharika Rittippant  547929\n",
              "4               พรพิมล จงไพศาล  547930\n",
              "..                         ...     ...\n",
              "660           สุธนิตย์ พุทธพนม  548586\n",
              "661          วัฒนชัย เยาวรัตน์  548587\n",
              "662     ภาวิณี ศักดิ์สุนทรศิริ  548588\n",
              "663         ณัฐพันธ์ ถนอมสัตย์  548589\n",
              "664          มัณฑนา รังสิโยภาส  548590\n",
              "\n",
              "[665 rows x 2 columns]"
            ]
          },
          "metadata": {
            "tags": []
          },
          "execution_count": 270
        }
      ]
    },
    {
      "cell_type": "code",
      "metadata": {
        "id": "9TXy3VgRyzV5"
      },
      "source": [
        ""
      ],
      "execution_count": 270,
      "outputs": []
    },
    {
      "cell_type": "markdown",
      "metadata": {
        "id": "C3pxYJNm3DmF"
      },
      "source": [
        "# df_author"
      ]
    },
    {
      "cell_type": "code",
      "metadata": {
        "id": "ht-D_K5233Fk"
      },
      "source": [
        "def is_english(str):\n",
        "    for i in str:\n",
        "        if i in ('A','B','C','D','E','F','G','H','I','J','K','L','M','N','O','P','Q','R','S','T','U','V','W','X','Y','Z','a','b','c','d','e','f','g','h','i','j','k','l','m','n','o','p','q','r','s','t','u','v','w','x','y','z'):\n",
        "            return True\n",
        "    else:    \n",
        "        return False\n",
        "\n",
        "def is_thai(str):\n",
        "    for i in str:\n",
        "        if i in ('ก','ข','ฃ','ค','ฅ','ฆ','ง','จ','ฉ','ช','ซ','ฌ','ญ','ฎ','ฏ','ฐ','ฑ','ฒ','ณ','ด','ต','ถ','ท','ธ','น','บ','ป','ผ','ฝ','พ','ฟ','ภ','ม','ย','ร','ล','ว','ศ','ษ','ส','ห','ฬ','อ','ฮ'):\n",
        "            return True\n",
        "    else:\n",
        "        return False\n",
        "\n",
        "def language(text):\n",
        "    if is_english(text):\n",
        "      return 'eng'\n",
        "    elif is_thai(text):\n",
        "      return 'th'\n",
        "    else:\n",
        "      return 'other'\n",
        "\n",
        "def strip_row(text):\n",
        "    text = text.strip()\n",
        "    text = ' '.join(text.split())\n",
        "    return text\n",
        "\n",
        "def first_name(list_text):\n",
        "    name = ''\n",
        "    if len(list_text) > 0:\n",
        "      name = strip_row(list_text[0])\n",
        "    return name\n",
        "\n",
        "def check_first_author(row):\n",
        "    if pd.isna(row['first_name']):\n",
        "      return 'no'\n",
        "    elif pd.isna(row['new_name']):\n",
        "      return 'no'\n",
        "    elif row['first_name'] == '':\n",
        "      return 'no'\n",
        "    elif row['first_name'] == row['new_name']:\n",
        "      return 'yes'\n",
        "    else:\n",
        "      return 'no'"
      ],
      "execution_count": 271,
      "outputs": []
    },
    {
      "cell_type": "code",
      "metadata": {
        "id": "FFnKwflVg6mR"
      },
      "source": [
        "df_unique_name = df_unique_name.rename(columns={\"clean_name\": \"authFullName\"})"
      ],
      "execution_count": 272,
      "outputs": []
    },
    {
      "cell_type": "code",
      "metadata": {
        "colab": {
          "base_uri": "https://localhost:8080/",
          "height": 402
        },
        "id": "GJI3vmEKyFnd",
        "outputId": "3f8cad00-aa68-43bf-b2eb-0bcd9e29f569"
      },
      "source": [
        "df_unique_name"
      ],
      "execution_count": 273,
      "outputs": [
        {
          "output_type": "execute_result",
          "data": {
            "text/html": [
              "<div>\n",
              "<style scoped>\n",
              "    .dataframe tbody tr th:only-of-type {\n",
              "        vertical-align: middle;\n",
              "    }\n",
              "\n",
              "    .dataframe tbody tr th {\n",
              "        vertical-align: top;\n",
              "    }\n",
              "\n",
              "    .dataframe thead th {\n",
              "        text-align: right;\n",
              "    }\n",
              "</style>\n",
              "<table border=\"1\" class=\"dataframe\">\n",
              "  <thead>\n",
              "    <tr style=\"text-align: right;\">\n",
              "      <th></th>\n",
              "      <th>authFullName</th>\n",
              "      <th>id</th>\n",
              "    </tr>\n",
              "  </thead>\n",
              "  <tbody>\n",
              "    <tr>\n",
              "      <th>0</th>\n",
              "      <td>สุธาทิพย์ สวนมะลิ</td>\n",
              "      <td>547926</td>\n",
              "    </tr>\n",
              "    <tr>\n",
              "      <th>1</th>\n",
              "      <td>WAREE KONGPRAWECHNON</td>\n",
              "      <td>547927</td>\n",
              "    </tr>\n",
              "    <tr>\n",
              "      <th>2</th>\n",
              "      <td>Chalermchai Wanichlamlert</td>\n",
              "      <td>547928</td>\n",
              "    </tr>\n",
              "    <tr>\n",
              "      <th>3</th>\n",
              "      <td>Nattharika Rittippant</td>\n",
              "      <td>547929</td>\n",
              "    </tr>\n",
              "    <tr>\n",
              "      <th>4</th>\n",
              "      <td>พรพิมล จงไพศาล</td>\n",
              "      <td>547930</td>\n",
              "    </tr>\n",
              "    <tr>\n",
              "      <th>...</th>\n",
              "      <td>...</td>\n",
              "      <td>...</td>\n",
              "    </tr>\n",
              "    <tr>\n",
              "      <th>660</th>\n",
              "      <td>สุธนิตย์ พุทธพนม</td>\n",
              "      <td>548586</td>\n",
              "    </tr>\n",
              "    <tr>\n",
              "      <th>661</th>\n",
              "      <td>วัฒนชัย เยาวรัตน์</td>\n",
              "      <td>548587</td>\n",
              "    </tr>\n",
              "    <tr>\n",
              "      <th>662</th>\n",
              "      <td>ภาวิณี ศักดิ์สุนทรศิริ</td>\n",
              "      <td>548588</td>\n",
              "    </tr>\n",
              "    <tr>\n",
              "      <th>663</th>\n",
              "      <td>ณัฐพันธ์ ถนอมสัตย์</td>\n",
              "      <td>548589</td>\n",
              "    </tr>\n",
              "    <tr>\n",
              "      <th>664</th>\n",
              "      <td>มัณฑนา รังสิโยภาส</td>\n",
              "      <td>548590</td>\n",
              "    </tr>\n",
              "  </tbody>\n",
              "</table>\n",
              "<p>665 rows × 2 columns</p>\n",
              "</div>"
            ],
            "text/plain": [
              "                  authFullName      id\n",
              "0            สุธาทิพย์ สวนมะลิ  547926\n",
              "1         WAREE KONGPRAWECHNON  547927\n",
              "2    Chalermchai Wanichlamlert  547928\n",
              "3        Nattharika Rittippant  547929\n",
              "4               พรพิมล จงไพศาล  547930\n",
              "..                         ...     ...\n",
              "660           สุธนิตย์ พุทธพนม  548586\n",
              "661          วัฒนชัย เยาวรัตน์  548587\n",
              "662     ภาวิณี ศักดิ์สุนทรศิริ  548588\n",
              "663         ณัฐพันธ์ ถนอมสัตย์  548589\n",
              "664          มัณฑนา รังสิโยภาส  548590\n",
              "\n",
              "[665 rows x 2 columns]"
            ]
          },
          "metadata": {
            "tags": []
          },
          "execution_count": 273
        }
      ]
    },
    {
      "cell_type": "code",
      "metadata": {
        "id": "QpFk-t0Qg-wJ"
      },
      "source": [
        "df_unique_name['language'] = df_unique_name['authFullName'].apply(language)"
      ],
      "execution_count": 274,
      "outputs": []
    },
    {
      "cell_type": "code",
      "metadata": {
        "id": "YJmxlZ-phAHR"
      },
      "source": [
        "result_author_thai = df_unique_name[df_unique_name['language']=='th']\n",
        "\n",
        "result_author_eng = df_unique_name[df_unique_name['language']=='eng']\n",
        "\n",
        "result_author_other = df_unique_name[df_unique_name['language']=='other']"
      ],
      "execution_count": 275,
      "outputs": []
    },
    {
      "cell_type": "code",
      "metadata": {
        "colab": {
          "base_uri": "https://localhost:8080/",
          "height": 402
        },
        "id": "Qkl1oUqKhLLq",
        "outputId": "dfc2112f-a7e2-4696-e0e1-eae6b5fa3f47"
      },
      "source": [
        "result_author_thai"
      ],
      "execution_count": 276,
      "outputs": [
        {
          "output_type": "execute_result",
          "data": {
            "text/html": [
              "<div>\n",
              "<style scoped>\n",
              "    .dataframe tbody tr th:only-of-type {\n",
              "        vertical-align: middle;\n",
              "    }\n",
              "\n",
              "    .dataframe tbody tr th {\n",
              "        vertical-align: top;\n",
              "    }\n",
              "\n",
              "    .dataframe thead th {\n",
              "        text-align: right;\n",
              "    }\n",
              "</style>\n",
              "<table border=\"1\" class=\"dataframe\">\n",
              "  <thead>\n",
              "    <tr style=\"text-align: right;\">\n",
              "      <th></th>\n",
              "      <th>authFullName</th>\n",
              "      <th>id</th>\n",
              "      <th>language</th>\n",
              "    </tr>\n",
              "  </thead>\n",
              "  <tbody>\n",
              "    <tr>\n",
              "      <th>0</th>\n",
              "      <td>สุธาทิพย์ สวนมะลิ</td>\n",
              "      <td>547926</td>\n",
              "      <td>th</td>\n",
              "    </tr>\n",
              "    <tr>\n",
              "      <th>4</th>\n",
              "      <td>พรพิมล จงไพศาล</td>\n",
              "      <td>547930</td>\n",
              "      <td>th</td>\n",
              "    </tr>\n",
              "    <tr>\n",
              "      <th>6</th>\n",
              "      <td>กฤษ เฉยไสย</td>\n",
              "      <td>547932</td>\n",
              "      <td>th</td>\n",
              "    </tr>\n",
              "    <tr>\n",
              "      <th>9</th>\n",
              "      <td>สุรสิทธิ์ ปิยะศิลป์</td>\n",
              "      <td>547935</td>\n",
              "      <td>th</td>\n",
              "    </tr>\n",
              "    <tr>\n",
              "      <th>10</th>\n",
              "      <td>ต้นคิด จันทรัศมี</td>\n",
              "      <td>547936</td>\n",
              "      <td>th</td>\n",
              "    </tr>\n",
              "    <tr>\n",
              "      <th>...</th>\n",
              "      <td>...</td>\n",
              "      <td>...</td>\n",
              "      <td>...</td>\n",
              "    </tr>\n",
              "    <tr>\n",
              "      <th>660</th>\n",
              "      <td>สุธนิตย์ พุทธพนม</td>\n",
              "      <td>548586</td>\n",
              "      <td>th</td>\n",
              "    </tr>\n",
              "    <tr>\n",
              "      <th>661</th>\n",
              "      <td>วัฒนชัย เยาวรัตน์</td>\n",
              "      <td>548587</td>\n",
              "      <td>th</td>\n",
              "    </tr>\n",
              "    <tr>\n",
              "      <th>662</th>\n",
              "      <td>ภาวิณี ศักดิ์สุนทรศิริ</td>\n",
              "      <td>548588</td>\n",
              "      <td>th</td>\n",
              "    </tr>\n",
              "    <tr>\n",
              "      <th>663</th>\n",
              "      <td>ณัฐพันธ์ ถนอมสัตย์</td>\n",
              "      <td>548589</td>\n",
              "      <td>th</td>\n",
              "    </tr>\n",
              "    <tr>\n",
              "      <th>664</th>\n",
              "      <td>มัณฑนา รังสิโยภาส</td>\n",
              "      <td>548590</td>\n",
              "      <td>th</td>\n",
              "    </tr>\n",
              "  </tbody>\n",
              "</table>\n",
              "<p>453 rows × 3 columns</p>\n",
              "</div>"
            ],
            "text/plain": [
              "               authFullName      id language\n",
              "0         สุธาทิพย์ สวนมะลิ  547926       th\n",
              "4            พรพิมล จงไพศาล  547930       th\n",
              "6                กฤษ เฉยไสย  547932       th\n",
              "9       สุรสิทธิ์ ปิยะศิลป์  547935       th\n",
              "10         ต้นคิด จันทรัศมี  547936       th\n",
              "..                      ...     ...      ...\n",
              "660        สุธนิตย์ พุทธพนม  548586       th\n",
              "661       วัฒนชัย เยาวรัตน์  548587       th\n",
              "662  ภาวิณี ศักดิ์สุนทรศิริ  548588       th\n",
              "663      ณัฐพันธ์ ถนอมสัตย์  548589       th\n",
              "664       มัณฑนา รังสิโยภาส  548590       th\n",
              "\n",
              "[453 rows x 3 columns]"
            ]
          },
          "metadata": {
            "tags": []
          },
          "execution_count": 276
        }
      ]
    },
    {
      "cell_type": "code",
      "metadata": {
        "colab": {
          "base_uri": "https://localhost:8080/",
          "height": 402
        },
        "id": "Ddy41cUvhMYx",
        "outputId": "d01d451f-ae18-4ab0-8434-cbfa6cfe7849"
      },
      "source": [
        "result_author_eng"
      ],
      "execution_count": 277,
      "outputs": [
        {
          "output_type": "execute_result",
          "data": {
            "text/html": [
              "<div>\n",
              "<style scoped>\n",
              "    .dataframe tbody tr th:only-of-type {\n",
              "        vertical-align: middle;\n",
              "    }\n",
              "\n",
              "    .dataframe tbody tr th {\n",
              "        vertical-align: top;\n",
              "    }\n",
              "\n",
              "    .dataframe thead th {\n",
              "        text-align: right;\n",
              "    }\n",
              "</style>\n",
              "<table border=\"1\" class=\"dataframe\">\n",
              "  <thead>\n",
              "    <tr style=\"text-align: right;\">\n",
              "      <th></th>\n",
              "      <th>authFullName</th>\n",
              "      <th>id</th>\n",
              "      <th>language</th>\n",
              "    </tr>\n",
              "  </thead>\n",
              "  <tbody>\n",
              "    <tr>\n",
              "      <th>1</th>\n",
              "      <td>WAREE KONGPRAWECHNON</td>\n",
              "      <td>547927</td>\n",
              "      <td>eng</td>\n",
              "    </tr>\n",
              "    <tr>\n",
              "      <th>2</th>\n",
              "      <td>Chalermchai Wanichlamlert</td>\n",
              "      <td>547928</td>\n",
              "      <td>eng</td>\n",
              "    </tr>\n",
              "    <tr>\n",
              "      <th>3</th>\n",
              "      <td>Nattharika Rittippant</td>\n",
              "      <td>547929</td>\n",
              "      <td>eng</td>\n",
              "    </tr>\n",
              "    <tr>\n",
              "      <th>5</th>\n",
              "      <td>Raktipong Sahamitmongkol</td>\n",
              "      <td>547931</td>\n",
              "      <td>eng</td>\n",
              "    </tr>\n",
              "    <tr>\n",
              "      <th>7</th>\n",
              "      <td>Banlue Srisuchinwong PhD</td>\n",
              "      <td>547933</td>\n",
              "      <td>eng</td>\n",
              "    </tr>\n",
              "    <tr>\n",
              "      <th>...</th>\n",
              "      <td>...</td>\n",
              "      <td>...</td>\n",
              "      <td>...</td>\n",
              "    </tr>\n",
              "    <tr>\n",
              "      <th>608</th>\n",
              "      <td>Jennifer Casasanto</td>\n",
              "      <td>548534</td>\n",
              "      <td>eng</td>\n",
              "    </tr>\n",
              "    <tr>\n",
              "      <th>609</th>\n",
              "      <td>Peter Horvath</td>\n",
              "      <td>548535</td>\n",
              "      <td>eng</td>\n",
              "    </tr>\n",
              "    <tr>\n",
              "      <th>610</th>\n",
              "      <td>Alan Needleman</td>\n",
              "      <td>548536</td>\n",
              "      <td>eng</td>\n",
              "    </tr>\n",
              "    <tr>\n",
              "      <th>632</th>\n",
              "      <td>Sebastjan Glinsek</td>\n",
              "      <td>548558</td>\n",
              "      <td>eng</td>\n",
              "    </tr>\n",
              "    <tr>\n",
              "      <th>633</th>\n",
              "      <td>Michael Francis</td>\n",
              "      <td>548559</td>\n",
              "      <td>eng</td>\n",
              "    </tr>\n",
              "  </tbody>\n",
              "</table>\n",
              "<p>212 rows × 3 columns</p>\n",
              "</div>"
            ],
            "text/plain": [
              "                  authFullName      id language\n",
              "1         WAREE KONGPRAWECHNON  547927      eng\n",
              "2    Chalermchai Wanichlamlert  547928      eng\n",
              "3        Nattharika Rittippant  547929      eng\n",
              "5     Raktipong Sahamitmongkol  547931      eng\n",
              "7     Banlue Srisuchinwong PhD  547933      eng\n",
              "..                         ...     ...      ...\n",
              "608         Jennifer Casasanto  548534      eng\n",
              "609              Peter Horvath  548535      eng\n",
              "610             Alan Needleman  548536      eng\n",
              "632          Sebastjan Glinsek  548558      eng\n",
              "633            Michael Francis  548559      eng\n",
              "\n",
              "[212 rows x 3 columns]"
            ]
          },
          "metadata": {
            "tags": []
          },
          "execution_count": 277
        }
      ]
    },
    {
      "cell_type": "code",
      "metadata": {
        "colab": {
          "base_uri": "https://localhost:8080/",
          "height": 47
        },
        "id": "FWyXI05HLer6",
        "outputId": "4f86caae-31ba-475f-fafc-083a235c7fce"
      },
      "source": [
        "result_author_other"
      ],
      "execution_count": 278,
      "outputs": [
        {
          "output_type": "execute_result",
          "data": {
            "text/html": [
              "<div>\n",
              "<style scoped>\n",
              "    .dataframe tbody tr th:only-of-type {\n",
              "        vertical-align: middle;\n",
              "    }\n",
              "\n",
              "    .dataframe tbody tr th {\n",
              "        vertical-align: top;\n",
              "    }\n",
              "\n",
              "    .dataframe thead th {\n",
              "        text-align: right;\n",
              "    }\n",
              "</style>\n",
              "<table border=\"1\" class=\"dataframe\">\n",
              "  <thead>\n",
              "    <tr style=\"text-align: right;\">\n",
              "      <th></th>\n",
              "      <th>authFullName</th>\n",
              "      <th>id</th>\n",
              "      <th>language</th>\n",
              "    </tr>\n",
              "  </thead>\n",
              "  <tbody>\n",
              "  </tbody>\n",
              "</table>\n",
              "</div>"
            ],
            "text/plain": [
              "Empty DataFrame\n",
              "Columns: [authFullName, id, language]\n",
              "Index: []"
            ]
          },
          "metadata": {
            "tags": []
          },
          "execution_count": 278
        }
      ]
    },
    {
      "cell_type": "markdown",
      "metadata": {
        "id": "pcQy8-UfzXW_"
      },
      "source": [
        "# Create Auth Detail"
      ]
    },
    {
      "cell_type": "code",
      "metadata": {
        "id": "JXBypLeeLu6G"
      },
      "source": [
        "result_all = pd.merge(df_new,\n",
        "                       df_unique_name,\n",
        "                       left_on='clean_name',\n",
        "                       right_on='authFullName',\n",
        "                       how='left')"
      ],
      "execution_count": 282,
      "outputs": []
    },
    {
      "cell_type": "code",
      "metadata": {
        "colab": {
          "base_uri": "https://localhost:8080/"
        },
        "id": "M86z9aowB6S3",
        "outputId": "35d40745-d18c-4570-a901-f33d871c80a4"
      },
      "source": [
        "result_all.columns"
      ],
      "execution_count": 283,
      "outputs": [
        {
          "output_type": "execute_result",
          "data": {
            "text/plain": [
              "Index(['_index', '_type', '_id', '_score', '_source.education', '_source.work',\n",
              "       '_source.university', '_source.pullDate', '_source.expertise',\n",
              "       '_source.etc', '_source.name', '_source.tel', '_source.sheet',\n",
              "       '_source.position', '_source.row', '_source.email', 'clean_name',\n",
              "       'prefix', 'authFullName', 'id', 'language'],\n",
              "      dtype='object')"
            ]
          },
          "metadata": {
            "tags": []
          },
          "execution_count": 283
        }
      ]
    },
    {
      "cell_type": "code",
      "metadata": {
        "id": "8TFhHV4f_ynX"
      },
      "source": [
        "auth_detail = result_all"
      ],
      "execution_count": 284,
      "outputs": []
    },
    {
      "cell_type": "code",
      "metadata": {
        "id": "RcdAdis48PaX"
      },
      "source": [
        "auth_detail = auth_detail.rename(columns={\"id\": \"auth_ID\",\"language\":\"author_lang\", \"_source.tel\":\"tel\", \"_source.email\":\"email\",\"prefix\":\"titleName\"})"
      ],
      "execution_count": 285,
      "outputs": []
    },
    {
      "cell_type": "code",
      "metadata": {
        "colab": {
          "base_uri": "https://localhost:8080/"
        },
        "id": "hxkgmxYpL8E1",
        "outputId": "df6c2117-c588-45ab-9158-4dada6b19713"
      },
      "source": [
        "auth_detail.columns"
      ],
      "execution_count": 286,
      "outputs": [
        {
          "output_type": "execute_result",
          "data": {
            "text/plain": [
              "Index(['_index', '_type', '_id', '_score', '_source.education', '_source.work',\n",
              "       '_source.university', '_source.pullDate', '_source.expertise',\n",
              "       '_source.etc', '_source.name', 'tel', '_source.sheet',\n",
              "       '_source.position', '_source.row', 'email', 'clean_name', 'titleName',\n",
              "       'authFullName', 'auth_ID', 'author_lang'],\n",
              "      dtype='object')"
            ]
          },
          "metadata": {
            "tags": []
          },
          "execution_count": 286
        }
      ]
    },
    {
      "cell_type": "code",
      "metadata": {
        "id": "eYLchpsP8UJi"
      },
      "source": [
        "auth_detail = auth_detail.drop(['_index', '_type','_id', '_score','_source.education',\n",
        "       '_source.work','_source.university','_source.pullDate','_source.expertise','_source.etc',\n",
        "       '_source.name','clean_name','_source.sheet','_source.position','_source.row','authFullName'],axis=1)"
      ],
      "execution_count": 287,
      "outputs": []
    },
    {
      "cell_type": "code",
      "metadata": {
        "id": "SWNjdz_18Wv7"
      },
      "source": [
        "## auth_detail['id'] = ''\n",
        "# auth_detail['auth_ID'] = ''\n",
        "# auth_detail['author_lang'] = ''\n",
        "# auth_detail['titleName'] = ''\n",
        "# auth_detail['tel'] = ''\n",
        "# auth_detail['email'] = ''\n",
        "auth_detail['subject'] = ''\n",
        "auth_detail['department'] = ''"
      ],
      "execution_count": 288,
      "outputs": []
    },
    {
      "cell_type": "code",
      "metadata": {
        "colab": {
          "base_uri": "https://localhost:8080/"
        },
        "id": "5Pn6l1ft8ZJO",
        "outputId": "dd32be60-45f3-4467-bd77-47b1cf32df8f"
      },
      "source": [
        "all_column =  [\"auth_ID\",\"author_lang\",\"titleName\",\"tel\",\"email\",\"subject\",\"department\"]\n",
        "len(all_column)"
      ],
      "execution_count": 289,
      "outputs": [
        {
          "output_type": "execute_result",
          "data": {
            "text/plain": [
              "7"
            ]
          },
          "metadata": {
            "tags": []
          },
          "execution_count": 289
        }
      ]
    },
    {
      "cell_type": "code",
      "metadata": {
        "colab": {
          "base_uri": "https://localhost:8080/"
        },
        "id": "YyLeVN_A8bhJ",
        "outputId": "d5236295-4182-4f21-e670-ba9396387983"
      },
      "source": [
        "len(auth_detail.columns)"
      ],
      "execution_count": 291,
      "outputs": [
        {
          "output_type": "execute_result",
          "data": {
            "text/plain": [
              "7"
            ]
          },
          "metadata": {
            "tags": []
          },
          "execution_count": 291
        }
      ]
    },
    {
      "cell_type": "code",
      "metadata": {
        "colab": {
          "base_uri": "https://localhost:8080/"
        },
        "id": "Rs8BUD_8OEkg",
        "outputId": "e775a2dd-fda2-4f15-d88b-c61809f660cd"
      },
      "source": [
        "auth_detail.columns"
      ],
      "execution_count": 292,
      "outputs": [
        {
          "output_type": "execute_result",
          "data": {
            "text/plain": [
              "Index(['tel', 'email', 'titleName', 'auth_ID', 'author_lang', 'subject',\n",
              "       'department'],\n",
              "      dtype='object')"
            ]
          },
          "metadata": {
            "tags": []
          },
          "execution_count": 292
        }
      ]
    },
    {
      "cell_type": "code",
      "metadata": {
        "id": "TCY9ySgG8d3y"
      },
      "source": [
        "auth_detail = auth_detail[all_column]"
      ],
      "execution_count": 293,
      "outputs": []
    },
    {
      "cell_type": "code",
      "metadata": {
        "colab": {
          "base_uri": "https://localhost:8080/",
          "height": 402
        },
        "id": "2tyQMbt98ede",
        "outputId": "fcedf65e-f2c2-4fb4-c116-fd3dbaa2ae1a"
      },
      "source": [
        "auth_detail"
      ],
      "execution_count": 294,
      "outputs": [
        {
          "output_type": "execute_result",
          "data": {
            "text/html": [
              "<div>\n",
              "<style scoped>\n",
              "    .dataframe tbody tr th:only-of-type {\n",
              "        vertical-align: middle;\n",
              "    }\n",
              "\n",
              "    .dataframe tbody tr th {\n",
              "        vertical-align: top;\n",
              "    }\n",
              "\n",
              "    .dataframe thead th {\n",
              "        text-align: right;\n",
              "    }\n",
              "</style>\n",
              "<table border=\"1\" class=\"dataframe\">\n",
              "  <thead>\n",
              "    <tr style=\"text-align: right;\">\n",
              "      <th></th>\n",
              "      <th>auth_ID</th>\n",
              "      <th>author_lang</th>\n",
              "      <th>titleName</th>\n",
              "      <th>tel</th>\n",
              "      <th>email</th>\n",
              "      <th>subject</th>\n",
              "      <th>department</th>\n",
              "    </tr>\n",
              "  </thead>\n",
              "  <tbody>\n",
              "    <tr>\n",
              "      <th>0</th>\n",
              "      <td>547926</td>\n",
              "      <td>th</td>\n",
              "      <td>ผศ.ดร.</td>\n",
              "      <td>T 02 501-3507 EXT 6006\\r\\nF 02 501-3507 EXT 6014</td>\n",
              "      <td>ssuanma@gmail.com</td>\n",
              "      <td></td>\n",
              "      <td></td>\n",
              "    </tr>\n",
              "    <tr>\n",
              "      <th>1</th>\n",
              "      <td>547927</td>\n",
              "      <td>eng</td>\n",
              "      <td></td>\n",
              "      <td>Telephone: (+662) 501-3505 Ext. 1808 Fax: (+66...</td>\n",
              "      <td>Email: chalie@siit.tu.ac.th</td>\n",
              "      <td></td>\n",
              "      <td></td>\n",
              "    </tr>\n",
              "    <tr>\n",
              "      <th>2</th>\n",
              "      <td>547928</td>\n",
              "      <td>eng</td>\n",
              "      <td></td>\n",
              "      <td></td>\n",
              "      <td>Email Address: \\r\\nchalermchai_w@siit.tu.ac.th</td>\n",
              "      <td></td>\n",
              "      <td></td>\n",
              "    </tr>\n",
              "    <tr>\n",
              "      <th>3</th>\n",
              "      <td>547929</td>\n",
              "      <td>eng</td>\n",
              "      <td>Ph.D.</td>\n",
              "      <td>Tel: (662)501-3505 Ext.2103 Fax: (662)501-3505...</td>\n",
              "      <td>E-mails: Natthari@siit.tu.ac.th</td>\n",
              "      <td></td>\n",
              "      <td></td>\n",
              "    </tr>\n",
              "    <tr>\n",
              "      <th>4</th>\n",
              "      <td>547930</td>\n",
              "      <td>th</td>\n",
              "      <td>ผศ.ดร.</td>\n",
              "      <td></td>\n",
              "      <td></td>\n",
              "      <td></td>\n",
              "      <td></td>\n",
              "    </tr>\n",
              "    <tr>\n",
              "      <th>...</th>\n",
              "      <td>...</td>\n",
              "      <td>...</td>\n",
              "      <td>...</td>\n",
              "      <td>...</td>\n",
              "      <td>...</td>\n",
              "      <td>...</td>\n",
              "      <td>...</td>\n",
              "    </tr>\n",
              "    <tr>\n",
              "      <th>700</th>\n",
              "      <td>548586</td>\n",
              "      <td>th</td>\n",
              "      <td>ดร.</td>\n",
              "      <td></td>\n",
              "      <td>sutanit@hotmail.com</td>\n",
              "      <td></td>\n",
              "      <td></td>\n",
              "    </tr>\n",
              "    <tr>\n",
              "      <th>701</th>\n",
              "      <td>548587</td>\n",
              "      <td>th</td>\n",
              "      <td>อาจารย์</td>\n",
              "      <td></td>\n",
              "      <td>Jeab_pb45@hotmail.com</td>\n",
              "      <td></td>\n",
              "      <td></td>\n",
              "    </tr>\n",
              "    <tr>\n",
              "      <th>702</th>\n",
              "      <td>548588</td>\n",
              "      <td>th</td>\n",
              "      <td>ผศ.ดร.</td>\n",
              "      <td></td>\n",
              "      <td></td>\n",
              "      <td></td>\n",
              "      <td></td>\n",
              "    </tr>\n",
              "    <tr>\n",
              "      <th>703</th>\n",
              "      <td>548589</td>\n",
              "      <td>th</td>\n",
              "      <td>อ.</td>\n",
              "      <td></td>\n",
              "      <td></td>\n",
              "      <td></td>\n",
              "      <td></td>\n",
              "    </tr>\n",
              "    <tr>\n",
              "      <th>704</th>\n",
              "      <td>548590</td>\n",
              "      <td>th</td>\n",
              "      <td>อ.ดร.</td>\n",
              "      <td></td>\n",
              "      <td></td>\n",
              "      <td></td>\n",
              "      <td></td>\n",
              "    </tr>\n",
              "  </tbody>\n",
              "</table>\n",
              "<p>705 rows × 7 columns</p>\n",
              "</div>"
            ],
            "text/plain": [
              "     auth_ID author_lang  ... subject department\n",
              "0     547926          th  ...                   \n",
              "1     547927         eng  ...                   \n",
              "2     547928         eng  ...                   \n",
              "3     547929         eng  ...                   \n",
              "4     547930          th  ...                   \n",
              "..       ...         ...  ...     ...        ...\n",
              "700   548586          th  ...                   \n",
              "701   548587          th  ...                   \n",
              "702   548588          th  ...                   \n",
              "703   548589          th  ...                   \n",
              "704   548590          th  ...                   \n",
              "\n",
              "[705 rows x 7 columns]"
            ]
          },
          "metadata": {
            "tags": []
          },
          "execution_count": 294
        }
      ]
    },
    {
      "cell_type": "markdown",
      "metadata": {
        "id": "wNlJdxH3zo5p"
      },
      "source": [
        "# Create Auth Education"
      ]
    },
    {
      "cell_type": "code",
      "metadata": {
        "id": "rxwjUY7eOesQ"
      },
      "source": [
        "auth_education = result_all"
      ],
      "execution_count": 295,
      "outputs": []
    },
    {
      "cell_type": "code",
      "metadata": {
        "colab": {
          "base_uri": "https://localhost:8080/"
        },
        "id": "gLARfhFdO6iZ",
        "outputId": "a43544f3-67f8-461b-a7f6-cc2e533e8916"
      },
      "source": [
        "auth_education.columns"
      ],
      "execution_count": 296,
      "outputs": [
        {
          "output_type": "execute_result",
          "data": {
            "text/plain": [
              "Index(['_index', '_type', '_id', '_score', '_source.education', '_source.work',\n",
              "       '_source.university', '_source.pullDate', '_source.expertise',\n",
              "       '_source.etc', '_source.name', '_source.tel', '_source.sheet',\n",
              "       '_source.position', '_source.row', '_source.email', 'clean_name',\n",
              "       'prefix', 'authFullName', 'id', 'language'],\n",
              "      dtype='object')"
            ]
          },
          "metadata": {
            "tags": []
          },
          "execution_count": 296
        }
      ]
    },
    {
      "cell_type": "code",
      "metadata": {
        "id": "3jCx-5DsOesU"
      },
      "source": [
        "auth_education = auth_education.rename(columns={\"id\": \"auth_ID\",\"language\":\"author_lang\", \"_source.education\":\"education_detail\" })"
      ],
      "execution_count": 297,
      "outputs": []
    },
    {
      "cell_type": "code",
      "metadata": {
        "colab": {
          "base_uri": "https://localhost:8080/"
        },
        "id": "M1RNlAhpOesU",
        "outputId": "07cee385-6795-4014-901b-1207dd6ac2e7"
      },
      "source": [
        "auth_education.columns"
      ],
      "execution_count": 298,
      "outputs": [
        {
          "output_type": "execute_result",
          "data": {
            "text/plain": [
              "Index(['_index', '_type', '_id', '_score', 'education_detail', '_source.work',\n",
              "       '_source.university', '_source.pullDate', '_source.expertise',\n",
              "       '_source.etc', '_source.name', '_source.tel', '_source.sheet',\n",
              "       '_source.position', '_source.row', '_source.email', 'clean_name',\n",
              "       'prefix', 'authFullName', 'auth_ID', 'author_lang'],\n",
              "      dtype='object')"
            ]
          },
          "metadata": {
            "tags": []
          },
          "execution_count": 298
        }
      ]
    },
    {
      "cell_type": "code",
      "metadata": {
        "id": "nV1_33CTOesU"
      },
      "source": [
        "auth_education = auth_education.drop(['_index', '_type','_id', '_score',\n",
        "       '_source.work','_source.university','_source.pullDate','_source.expertise','_source.etc',\n",
        "       '_source.name','_source.tel','_source.sheet','_source.position','_source.row','_source.email',\n",
        "       'clean_name','prefix','authFullName'],axis=1)"
      ],
      "execution_count": 299,
      "outputs": []
    },
    {
      "cell_type": "code",
      "metadata": {
        "id": "WRFYyZrHOesV"
      },
      "source": [
        "## auth_education['id'] = ''\n",
        "# auth_education['auth_ID'] = ''\n",
        "# auth_education['author_lang'] = ''\n",
        "# auth_education['education_detail'] = ''"
      ],
      "execution_count": 300,
      "outputs": []
    },
    {
      "cell_type": "code",
      "metadata": {
        "colab": {
          "base_uri": "https://localhost:8080/"
        },
        "id": "MVy_4NKEOesV",
        "outputId": "1f37f405-01d2-4177-8d49-e00131d43f0e"
      },
      "source": [
        "all_column =  [\"auth_ID\",\"author_lang\",\"education_detail\"]\n",
        "len(all_column)"
      ],
      "execution_count": 301,
      "outputs": [
        {
          "output_type": "execute_result",
          "data": {
            "text/plain": [
              "3"
            ]
          },
          "metadata": {
            "tags": []
          },
          "execution_count": 301
        }
      ]
    },
    {
      "cell_type": "code",
      "metadata": {
        "colab": {
          "base_uri": "https://localhost:8080/"
        },
        "id": "48SNNkDXOesV",
        "outputId": "25f8177e-65b0-4608-c0cf-54ab2a60e132"
      },
      "source": [
        "len(auth_education.columns)"
      ],
      "execution_count": 302,
      "outputs": [
        {
          "output_type": "execute_result",
          "data": {
            "text/plain": [
              "3"
            ]
          },
          "metadata": {
            "tags": []
          },
          "execution_count": 302
        }
      ]
    },
    {
      "cell_type": "code",
      "metadata": {
        "colab": {
          "base_uri": "https://localhost:8080/"
        },
        "id": "Jjk-YiByOesW",
        "outputId": "84a1c469-764c-4fb6-b212-537b62cbf805"
      },
      "source": [
        "auth_education.columns"
      ],
      "execution_count": 303,
      "outputs": [
        {
          "output_type": "execute_result",
          "data": {
            "text/plain": [
              "Index(['education_detail', 'auth_ID', 'author_lang'], dtype='object')"
            ]
          },
          "metadata": {
            "tags": []
          },
          "execution_count": 303
        }
      ]
    },
    {
      "cell_type": "code",
      "metadata": {
        "id": "A8NOhOGsOesW"
      },
      "source": [
        "auth_education = auth_education[all_column]"
      ],
      "execution_count": 304,
      "outputs": []
    },
    {
      "cell_type": "code",
      "metadata": {
        "colab": {
          "base_uri": "https://localhost:8080/",
          "height": 402
        },
        "id": "VHdTlgEPOesW",
        "outputId": "fce47073-2a8a-4594-960d-d23db6516ff2"
      },
      "source": [
        "auth_education"
      ],
      "execution_count": 305,
      "outputs": [
        {
          "output_type": "execute_result",
          "data": {
            "text/html": [
              "<div>\n",
              "<style scoped>\n",
              "    .dataframe tbody tr th:only-of-type {\n",
              "        vertical-align: middle;\n",
              "    }\n",
              "\n",
              "    .dataframe tbody tr th {\n",
              "        vertical-align: top;\n",
              "    }\n",
              "\n",
              "    .dataframe thead th {\n",
              "        text-align: right;\n",
              "    }\n",
              "</style>\n",
              "<table border=\"1\" class=\"dataframe\">\n",
              "  <thead>\n",
              "    <tr style=\"text-align: right;\">\n",
              "      <th></th>\n",
              "      <th>auth_ID</th>\n",
              "      <th>author_lang</th>\n",
              "      <th>education_detail</th>\n",
              "    </tr>\n",
              "  </thead>\n",
              "  <tbody>\n",
              "    <tr>\n",
              "      <th>0</th>\n",
              "      <td>547926</td>\n",
              "      <td>th</td>\n",
              "      <td>North Carolina State University (NCSU), Raleig...</td>\n",
              "    </tr>\n",
              "    <tr>\n",
              "      <th>1</th>\n",
              "      <td>547927</td>\n",
              "      <td>eng</td>\n",
              "      <td>GRADUATE SCHOOL OF THE UNIVERSITY OF TOKYO, To...</td>\n",
              "    </tr>\n",
              "    <tr>\n",
              "      <th>2</th>\n",
              "      <td>547928</td>\n",
              "      <td>eng</td>\n",
              "      <td>Kochi University of Technology\\r\\n(KUT) Kochi,...</td>\n",
              "    </tr>\n",
              "    <tr>\n",
              "      <th>3</th>\n",
              "      <td>547929</td>\n",
              "      <td>eng</td>\n",
              "      <td>Ph.D. The University of Texas at Arlington, Au...</td>\n",
              "    </tr>\n",
              "    <tr>\n",
              "      <th>4</th>\n",
              "      <td>547930</td>\n",
              "      <td>th</td>\n",
              "      <td>1992-1998\\r\\n- Ph.D. (Management), Ritsumeikan...</td>\n",
              "    </tr>\n",
              "    <tr>\n",
              "      <th>...</th>\n",
              "      <td>...</td>\n",
              "      <td>...</td>\n",
              "      <td>...</td>\n",
              "    </tr>\n",
              "    <tr>\n",
              "      <th>700</th>\n",
              "      <td>548586</td>\n",
              "      <td>th</td>\n",
              "      <td></td>\n",
              "    </tr>\n",
              "    <tr>\n",
              "      <th>701</th>\n",
              "      <td>548587</td>\n",
              "      <td>th</td>\n",
              "      <td></td>\n",
              "    </tr>\n",
              "    <tr>\n",
              "      <th>702</th>\n",
              "      <td>548588</td>\n",
              "      <td>th</td>\n",
              "      <td></td>\n",
              "    </tr>\n",
              "    <tr>\n",
              "      <th>703</th>\n",
              "      <td>548589</td>\n",
              "      <td>th</td>\n",
              "      <td></td>\n",
              "    </tr>\n",
              "    <tr>\n",
              "      <th>704</th>\n",
              "      <td>548590</td>\n",
              "      <td>th</td>\n",
              "      <td></td>\n",
              "    </tr>\n",
              "  </tbody>\n",
              "</table>\n",
              "<p>705 rows × 3 columns</p>\n",
              "</div>"
            ],
            "text/plain": [
              "     auth_ID author_lang                                   education_detail\n",
              "0     547926          th  North Carolina State University (NCSU), Raleig...\n",
              "1     547927         eng  GRADUATE SCHOOL OF THE UNIVERSITY OF TOKYO, To...\n",
              "2     547928         eng  Kochi University of Technology\\r\\n(KUT) Kochi,...\n",
              "3     547929         eng  Ph.D. The University of Texas at Arlington, Au...\n",
              "4     547930          th  1992-1998\\r\\n- Ph.D. (Management), Ritsumeikan...\n",
              "..       ...         ...                                                ...\n",
              "700   548586          th                                                   \n",
              "701   548587          th                                                   \n",
              "702   548588          th                                                   \n",
              "703   548589          th                                                   \n",
              "704   548590          th                                                   \n",
              "\n",
              "[705 rows x 3 columns]"
            ]
          },
          "metadata": {
            "tags": []
          },
          "execution_count": 305
        }
      ]
    },
    {
      "cell_type": "code",
      "metadata": {
        "id": "iX9usl0dz9Pf"
      },
      "source": [
        ""
      ],
      "execution_count": 305,
      "outputs": []
    },
    {
      "cell_type": "markdown",
      "metadata": {
        "id": "xFGWGpPsLHx2"
      },
      "source": [
        "# Author Expert"
      ]
    },
    {
      "cell_type": "code",
      "metadata": {
        "id": "hmZEtFDFP4td"
      },
      "source": [
        "auth_expert = result_all"
      ],
      "execution_count": 306,
      "outputs": []
    },
    {
      "cell_type": "code",
      "metadata": {
        "colab": {
          "base_uri": "https://localhost:8080/"
        },
        "id": "c_d42cDiP4tf",
        "outputId": "ff4ad2ed-7bd3-4afa-cbc1-b100fe4d9605"
      },
      "source": [
        "auth_expert.columns"
      ],
      "execution_count": 307,
      "outputs": [
        {
          "output_type": "execute_result",
          "data": {
            "text/plain": [
              "Index(['_index', '_type', '_id', '_score', '_source.education', '_source.work',\n",
              "       '_source.university', '_source.pullDate', '_source.expertise',\n",
              "       '_source.etc', '_source.name', '_source.tel', '_source.sheet',\n",
              "       '_source.position', '_source.row', '_source.email', 'clean_name',\n",
              "       'prefix', 'authFullName', 'id', 'language'],\n",
              "      dtype='object')"
            ]
          },
          "metadata": {
            "tags": []
          },
          "execution_count": 307
        }
      ]
    },
    {
      "cell_type": "code",
      "metadata": {
        "id": "ZTlKimc7P4tg"
      },
      "source": [
        "auth_expert = auth_expert.rename(columns={\"id\": \"auth_ID\",\"language\":\"author_lang\", \"_source.expertise\":\"expertise\" })"
      ],
      "execution_count": 308,
      "outputs": []
    },
    {
      "cell_type": "code",
      "metadata": {
        "colab": {
          "base_uri": "https://localhost:8080/"
        },
        "id": "Z8EQ_QZMP4tg",
        "outputId": "b92eb569-45a1-4e08-d1c0-fd03c02fdc4c"
      },
      "source": [
        "auth_expert.columns"
      ],
      "execution_count": 309,
      "outputs": [
        {
          "output_type": "execute_result",
          "data": {
            "text/plain": [
              "Index(['_index', '_type', '_id', '_score', '_source.education', '_source.work',\n",
              "       '_source.university', '_source.pullDate', 'expertise', '_source.etc',\n",
              "       '_source.name', '_source.tel', '_source.sheet', '_source.position',\n",
              "       '_source.row', '_source.email', 'clean_name', 'prefix', 'authFullName',\n",
              "       'auth_ID', 'author_lang'],\n",
              "      dtype='object')"
            ]
          },
          "metadata": {
            "tags": []
          },
          "execution_count": 309
        }
      ]
    },
    {
      "cell_type": "code",
      "metadata": {
        "id": "I4ehZFqqP4tg"
      },
      "source": [
        "auth_expert = auth_expert.drop(['_index', '_type','_id', '_score', '_source.education',\n",
        "       '_source.work','_source.university','_source.pullDate','_source.etc',\n",
        "       '_source.name','_source.tel','_source.sheet','_source.position','_source.row','_source.email',\n",
        "       'clean_name','prefix','authFullName'],axis=1)"
      ],
      "execution_count": 310,
      "outputs": []
    },
    {
      "cell_type": "code",
      "metadata": {
        "id": "m9xM4EWsP4th"
      },
      "source": [
        "## auth_expert['id'] = ''\n",
        "# auth_expert['auth_ID'] = ''\n",
        "# auth_expert['author_lang'] = ''\n",
        "auth_expert['subject'] = ''\n",
        "# auth_expert['expertise'] = ''"
      ],
      "execution_count": 311,
      "outputs": []
    },
    {
      "cell_type": "code",
      "metadata": {
        "colab": {
          "base_uri": "https://localhost:8080/"
        },
        "id": "K55IRkSRP4th",
        "outputId": "96123827-8b76-45a5-f0f1-751abcec0efc"
      },
      "source": [
        "all_column =  [\"auth_ID\",\"author_lang\",\"subject\",\"expertise\"]\n",
        "len(all_column)"
      ],
      "execution_count": 312,
      "outputs": [
        {
          "output_type": "execute_result",
          "data": {
            "text/plain": [
              "4"
            ]
          },
          "metadata": {
            "tags": []
          },
          "execution_count": 312
        }
      ]
    },
    {
      "cell_type": "code",
      "metadata": {
        "colab": {
          "base_uri": "https://localhost:8080/"
        },
        "id": "Spzf1EimP4th",
        "outputId": "2a75c312-d5af-4ec7-e8b9-874d8b00d119"
      },
      "source": [
        "len(auth_expert.columns)"
      ],
      "execution_count": 313,
      "outputs": [
        {
          "output_type": "execute_result",
          "data": {
            "text/plain": [
              "4"
            ]
          },
          "metadata": {
            "tags": []
          },
          "execution_count": 313
        }
      ]
    },
    {
      "cell_type": "code",
      "metadata": {
        "colab": {
          "base_uri": "https://localhost:8080/"
        },
        "id": "eVXG624xP4ti",
        "outputId": "45c06824-c5cd-403e-b098-7363101d4ade"
      },
      "source": [
        "auth_expert.columns"
      ],
      "execution_count": 314,
      "outputs": [
        {
          "output_type": "execute_result",
          "data": {
            "text/plain": [
              "Index(['expertise', 'auth_ID', 'author_lang', 'subject'], dtype='object')"
            ]
          },
          "metadata": {
            "tags": []
          },
          "execution_count": 314
        }
      ]
    },
    {
      "cell_type": "code",
      "metadata": {
        "id": "-sxvteU8P4tj"
      },
      "source": [
        "auth_expert = auth_expert[all_column]"
      ],
      "execution_count": 315,
      "outputs": []
    },
    {
      "cell_type": "code",
      "metadata": {
        "colab": {
          "base_uri": "https://localhost:8080/",
          "height": 402
        },
        "id": "e15Ab6OFP4tj",
        "outputId": "d4686d7b-6636-4bb4-fce1-6cfd4943ec50"
      },
      "source": [
        "auth_expert"
      ],
      "execution_count": 316,
      "outputs": [
        {
          "output_type": "execute_result",
          "data": {
            "text/html": [
              "<div>\n",
              "<style scoped>\n",
              "    .dataframe tbody tr th:only-of-type {\n",
              "        vertical-align: middle;\n",
              "    }\n",
              "\n",
              "    .dataframe tbody tr th {\n",
              "        vertical-align: top;\n",
              "    }\n",
              "\n",
              "    .dataframe thead th {\n",
              "        text-align: right;\n",
              "    }\n",
              "</style>\n",
              "<table border=\"1\" class=\"dataframe\">\n",
              "  <thead>\n",
              "    <tr style=\"text-align: right;\">\n",
              "      <th></th>\n",
              "      <th>auth_ID</th>\n",
              "      <th>author_lang</th>\n",
              "      <th>subject</th>\n",
              "      <th>expertise</th>\n",
              "    </tr>\n",
              "  </thead>\n",
              "  <tbody>\n",
              "    <tr>\n",
              "      <th>0</th>\n",
              "      <td>547926</td>\n",
              "      <td>th</td>\n",
              "      <td></td>\n",
              "      <td>Applied Linear Algebras; Highway Assets Mainte...</td>\n",
              "    </tr>\n",
              "    <tr>\n",
              "      <th>1</th>\n",
              "      <td>547927</td>\n",
              "      <td>eng</td>\n",
              "      <td></td>\n",
              "      <td></td>\n",
              "    </tr>\n",
              "    <tr>\n",
              "      <th>2</th>\n",
              "      <td>547928</td>\n",
              "      <td>eng</td>\n",
              "      <td></td>\n",
              "      <td>multi-binder concrete\\r\\n Mix proportion des...</td>\n",
              "    </tr>\n",
              "    <tr>\n",
              "      <th>3</th>\n",
              "      <td>547929</td>\n",
              "      <td>eng</td>\n",
              "      <td></td>\n",
              "      <td>2003-present The Academy of International Busi...</td>\n",
              "    </tr>\n",
              "    <tr>\n",
              "      <th>4</th>\n",
              "      <td>547930</td>\n",
              "      <td>th</td>\n",
              "      <td></td>\n",
              "      <td>May 2003 - present, Assistant Professor, Sirin...</td>\n",
              "    </tr>\n",
              "    <tr>\n",
              "      <th>...</th>\n",
              "      <td>...</td>\n",
              "      <td>...</td>\n",
              "      <td>...</td>\n",
              "      <td>...</td>\n",
              "    </tr>\n",
              "    <tr>\n",
              "      <th>700</th>\n",
              "      <td>548586</td>\n",
              "      <td>th</td>\n",
              "      <td></td>\n",
              "      <td></td>\n",
              "    </tr>\n",
              "    <tr>\n",
              "      <th>701</th>\n",
              "      <td>548587</td>\n",
              "      <td>th</td>\n",
              "      <td></td>\n",
              "      <td></td>\n",
              "    </tr>\n",
              "    <tr>\n",
              "      <th>702</th>\n",
              "      <td>548588</td>\n",
              "      <td>th</td>\n",
              "      <td></td>\n",
              "      <td></td>\n",
              "    </tr>\n",
              "    <tr>\n",
              "      <th>703</th>\n",
              "      <td>548589</td>\n",
              "      <td>th</td>\n",
              "      <td></td>\n",
              "      <td></td>\n",
              "    </tr>\n",
              "    <tr>\n",
              "      <th>704</th>\n",
              "      <td>548590</td>\n",
              "      <td>th</td>\n",
              "      <td></td>\n",
              "      <td></td>\n",
              "    </tr>\n",
              "  </tbody>\n",
              "</table>\n",
              "<p>705 rows × 4 columns</p>\n",
              "</div>"
            ],
            "text/plain": [
              "     auth_ID  ...                                          expertise\n",
              "0     547926  ...  Applied Linear Algebras; Highway Assets Mainte...\n",
              "1     547927  ...                                                   \n",
              "2     547928  ...   multi-binder concrete\\r\\n Mix proportion des...\n",
              "3     547929  ...  2003-present The Academy of International Busi...\n",
              "4     547930  ...  May 2003 - present, Assistant Professor, Sirin...\n",
              "..       ...  ...                                                ...\n",
              "700   548586  ...                                                   \n",
              "701   548587  ...                                                   \n",
              "702   548588  ...                                                   \n",
              "703   548589  ...                                                   \n",
              "704   548590  ...                                                   \n",
              "\n",
              "[705 rows x 4 columns]"
            ]
          },
          "metadata": {
            "tags": []
          },
          "execution_count": 316
        }
      ]
    },
    {
      "cell_type": "markdown",
      "metadata": {
        "id": "JUMUWkc1gJ8P"
      },
      "source": [
        "# Author Organization\n"
      ]
    },
    {
      "cell_type": "code",
      "metadata": {
        "id": "PrEFLkNsgPgS"
      },
      "source": [
        "auth_organization = result_all"
      ],
      "execution_count": 317,
      "outputs": []
    },
    {
      "cell_type": "code",
      "metadata": {
        "colab": {
          "base_uri": "https://localhost:8080/"
        },
        "id": "2HiQ_WQ_gPgS",
        "outputId": "c32c4025-340f-4de5-a356-5ae57bb5c339"
      },
      "source": [
        "auth_organization.columns"
      ],
      "execution_count": 318,
      "outputs": [
        {
          "output_type": "execute_result",
          "data": {
            "text/plain": [
              "Index(['_index', '_type', '_id', '_score', '_source.education', '_source.work',\n",
              "       '_source.university', '_source.pullDate', '_source.expertise',\n",
              "       '_source.etc', '_source.name', '_source.tel', '_source.sheet',\n",
              "       '_source.position', '_source.row', '_source.email', 'clean_name',\n",
              "       'prefix', 'authFullName', 'id', 'language'],\n",
              "      dtype='object')"
            ]
          },
          "metadata": {
            "tags": []
          },
          "execution_count": 318
        }
      ]
    },
    {
      "cell_type": "code",
      "metadata": {
        "id": "kpU6u6VtgPgT"
      },
      "source": [
        "auth_organization = auth_organization.rename(columns={\"id\": \"auth_ID\",\"language\":\"author_lang\", \"_source.university\":\"orgName\" })"
      ],
      "execution_count": 319,
      "outputs": []
    },
    {
      "cell_type": "code",
      "metadata": {
        "colab": {
          "base_uri": "https://localhost:8080/"
        },
        "id": "1cjUWoVlgPgT",
        "outputId": "f3e15e94-fd24-4acf-f9d8-404df1b94a2b"
      },
      "source": [
        "auth_organization.columns"
      ],
      "execution_count": 320,
      "outputs": [
        {
          "output_type": "execute_result",
          "data": {
            "text/plain": [
              "Index(['_index', '_type', '_id', '_score', '_source.education', '_source.work',\n",
              "       'orgName', '_source.pullDate', '_source.expertise', '_source.etc',\n",
              "       '_source.name', '_source.tel', '_source.sheet', '_source.position',\n",
              "       '_source.row', '_source.email', 'clean_name', 'prefix', 'authFullName',\n",
              "       'auth_ID', 'author_lang'],\n",
              "      dtype='object')"
            ]
          },
          "metadata": {
            "tags": []
          },
          "execution_count": 320
        }
      ]
    },
    {
      "cell_type": "code",
      "metadata": {
        "id": "3dto4a64gPgU"
      },
      "source": [
        "auth_organization = auth_organization.drop(['_index', '_type','_id', '_score', '_source.education',\n",
        "       '_source.work','_source.pullDate','_source.expertise','_source.etc',\n",
        "       '_source.name','_source.tel','_source.sheet','_source.position','_source.row','_source.email',\n",
        "       'clean_name','prefix','authFullName'],axis=1)"
      ],
      "execution_count": 321,
      "outputs": []
    },
    {
      "cell_type": "code",
      "metadata": {
        "id": "92eazJHGgPgU"
      },
      "source": [
        "## auth_organization['id'] = ''\n",
        "# auth_organization['auth_ID'] = ''\n",
        "# auth_organization['author_lang'] = ''\n",
        "# auth_organization['orgName'] = ''\n",
        "auth_organization['department'] = ''"
      ],
      "execution_count": 322,
      "outputs": []
    },
    {
      "cell_type": "code",
      "metadata": {
        "colab": {
          "base_uri": "https://localhost:8080/"
        },
        "id": "TV_NlfvqgPgU",
        "outputId": "2310fb64-cef0-4d69-ca34-5efc483e33c8"
      },
      "source": [
        "all_column =  [\"auth_ID\",\"author_lang\",\"orgName\",\"department\"]\n",
        "len(all_column)"
      ],
      "execution_count": 323,
      "outputs": [
        {
          "output_type": "execute_result",
          "data": {
            "text/plain": [
              "4"
            ]
          },
          "metadata": {
            "tags": []
          },
          "execution_count": 323
        }
      ]
    },
    {
      "cell_type": "code",
      "metadata": {
        "colab": {
          "base_uri": "https://localhost:8080/"
        },
        "id": "xT37PC9DgPgU",
        "outputId": "04f2a397-c635-4f3c-b0f1-fbd1c5816fa0"
      },
      "source": [
        "len(auth_organization.columns)"
      ],
      "execution_count": 324,
      "outputs": [
        {
          "output_type": "execute_result",
          "data": {
            "text/plain": [
              "4"
            ]
          },
          "metadata": {
            "tags": []
          },
          "execution_count": 324
        }
      ]
    },
    {
      "cell_type": "code",
      "metadata": {
        "colab": {
          "base_uri": "https://localhost:8080/"
        },
        "id": "HEQkzF71gPgV",
        "outputId": "b3f2e78c-1f33-4c44-c39e-b0ed541c6f79"
      },
      "source": [
        "auth_organization.columns"
      ],
      "execution_count": 325,
      "outputs": [
        {
          "output_type": "execute_result",
          "data": {
            "text/plain": [
              "Index(['orgName', 'auth_ID', 'author_lang', 'department'], dtype='object')"
            ]
          },
          "metadata": {
            "tags": []
          },
          "execution_count": 325
        }
      ]
    },
    {
      "cell_type": "code",
      "metadata": {
        "id": "ypfwTZC5gPgV"
      },
      "source": [
        "auth_organization = auth_organization[all_column]"
      ],
      "execution_count": 326,
      "outputs": []
    },
    {
      "cell_type": "code",
      "metadata": {
        "colab": {
          "base_uri": "https://localhost:8080/",
          "height": 402
        },
        "id": "ndET7T3mgPgV",
        "outputId": "e9ba5113-5c74-4183-9994-c834bb8021f5"
      },
      "source": [
        "auth_organization"
      ],
      "execution_count": 327,
      "outputs": [
        {
          "output_type": "execute_result",
          "data": {
            "text/html": [
              "<div>\n",
              "<style scoped>\n",
              "    .dataframe tbody tr th:only-of-type {\n",
              "        vertical-align: middle;\n",
              "    }\n",
              "\n",
              "    .dataframe tbody tr th {\n",
              "        vertical-align: top;\n",
              "    }\n",
              "\n",
              "    .dataframe thead th {\n",
              "        text-align: right;\n",
              "    }\n",
              "</style>\n",
              "<table border=\"1\" class=\"dataframe\">\n",
              "  <thead>\n",
              "    <tr style=\"text-align: right;\">\n",
              "      <th></th>\n",
              "      <th>auth_ID</th>\n",
              "      <th>author_lang</th>\n",
              "      <th>orgName</th>\n",
              "      <th>department</th>\n",
              "    </tr>\n",
              "  </thead>\n",
              "  <tbody>\n",
              "    <tr>\n",
              "      <th>0</th>\n",
              "      <td>547926</td>\n",
              "      <td>th</td>\n",
              "      <td>สถาบันเทคโนโลยีนานาชาติสิริธร</td>\n",
              "      <td></td>\n",
              "    </tr>\n",
              "    <tr>\n",
              "      <th>1</th>\n",
              "      <td>547927</td>\n",
              "      <td>eng</td>\n",
              "      <td>สถาบันเทคโนโลยีนานาชาติสิริธร</td>\n",
              "      <td></td>\n",
              "    </tr>\n",
              "    <tr>\n",
              "      <th>2</th>\n",
              "      <td>547928</td>\n",
              "      <td>eng</td>\n",
              "      <td>สถาบันเทคโนโลยีนานาชาติสิริธร</td>\n",
              "      <td></td>\n",
              "    </tr>\n",
              "    <tr>\n",
              "      <th>3</th>\n",
              "      <td>547929</td>\n",
              "      <td>eng</td>\n",
              "      <td>สถาบันเทคโนโลยีนานาชาติสิริธร</td>\n",
              "      <td></td>\n",
              "    </tr>\n",
              "    <tr>\n",
              "      <th>4</th>\n",
              "      <td>547930</td>\n",
              "      <td>th</td>\n",
              "      <td>สถาบันเทคโนโลยีนานาชาติสิริธร</td>\n",
              "      <td></td>\n",
              "    </tr>\n",
              "    <tr>\n",
              "      <th>...</th>\n",
              "      <td>...</td>\n",
              "      <td>...</td>\n",
              "      <td>...</td>\n",
              "      <td>...</td>\n",
              "    </tr>\n",
              "    <tr>\n",
              "      <th>700</th>\n",
              "      <td>548586</td>\n",
              "      <td>th</td>\n",
              "      <td>มหาวิทยาลัยนเรศวร1</td>\n",
              "      <td></td>\n",
              "    </tr>\n",
              "    <tr>\n",
              "      <th>701</th>\n",
              "      <td>548587</td>\n",
              "      <td>th</td>\n",
              "      <td>มหาวิทยาลัยนเรศวร1</td>\n",
              "      <td></td>\n",
              "    </tr>\n",
              "    <tr>\n",
              "      <th>702</th>\n",
              "      <td>548588</td>\n",
              "      <td>th</td>\n",
              "      <td>มหาลัยบูรพา</td>\n",
              "      <td></td>\n",
              "    </tr>\n",
              "    <tr>\n",
              "      <th>703</th>\n",
              "      <td>548589</td>\n",
              "      <td>th</td>\n",
              "      <td>มหาลัยบูรพา</td>\n",
              "      <td></td>\n",
              "    </tr>\n",
              "    <tr>\n",
              "      <th>704</th>\n",
              "      <td>548590</td>\n",
              "      <td>th</td>\n",
              "      <td>มหาลัยบูรพา</td>\n",
              "      <td></td>\n",
              "    </tr>\n",
              "  </tbody>\n",
              "</table>\n",
              "<p>705 rows × 4 columns</p>\n",
              "</div>"
            ],
            "text/plain": [
              "     auth_ID author_lang                        orgName department\n",
              "0     547926          th  สถาบันเทคโนโลยีนานาชาติสิริธร           \n",
              "1     547927         eng  สถาบันเทคโนโลยีนานาชาติสิริธร           \n",
              "2     547928         eng  สถาบันเทคโนโลยีนานาชาติสิริธร           \n",
              "3     547929         eng  สถาบันเทคโนโลยีนานาชาติสิริธร           \n",
              "4     547930          th  สถาบันเทคโนโลยีนานาชาติสิริธร           \n",
              "..       ...         ...                            ...        ...\n",
              "700   548586          th             มหาวิทยาลัยนเรศวร1           \n",
              "701   548587          th             มหาวิทยาลัยนเรศวร1           \n",
              "702   548588          th                    มหาลัยบูรพา           \n",
              "703   548589          th                    มหาลัยบูรพา           \n",
              "704   548590          th                    มหาลัยบูรพา           \n",
              "\n",
              "[705 rows x 4 columns]"
            ]
          },
          "metadata": {
            "tags": []
          },
          "execution_count": 327
        }
      ]
    },
    {
      "cell_type": "markdown",
      "metadata": {
        "id": "744S4twePpj1"
      },
      "source": [
        "# Export"
      ]
    },
    {
      "cell_type": "code",
      "metadata": {
        "id": "HkP4DpJEhPrR"
      },
      "source": [
        "# author\n",
        "\n",
        "result_author_thai[['id','authFullName']].to_csv('adct_author_thai.csv')\n",
        "result_author_eng[['id','authFullName']].to_csv('adct_author_eng.csv')\n",
        "result_author_other[['id','authFullName']].to_csv('adct_author_other.csv')"
      ],
      "execution_count": 328,
      "outputs": []
    },
    {
      "cell_type": "code",
      "metadata": {
        "id": "B8hX15d_8zim"
      },
      "source": [
        "# author detail\n",
        "auth_detail.index.name = 'id'\n",
        "auth_education.index.name = 'id'\n",
        "auth_expert.index.name = 'id'\n",
        "auth_organization.name = 'id'\n",
        "\n",
        "auth_detail.to_csv('adct_author_detail.csv')\n",
        "auth_education.to_csv('adct_author_education.csv')\n",
        "auth_expert.to_csv('adct_author_expert.csv')\n",
        "auth_organization.to_csv('adct_author_organize.csv')"
      ],
      "execution_count": 329,
      "outputs": []
    },
    {
      "cell_type": "code",
      "metadata": {
        "id": "-imHGJqsajPT"
      },
      "source": [
        ""
      ],
      "execution_count": null,
      "outputs": []
    }
  ]
}