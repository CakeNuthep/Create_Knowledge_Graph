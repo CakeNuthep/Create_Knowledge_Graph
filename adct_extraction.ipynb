{
  "nbformat": 4,
  "nbformat_minor": 0,
  "metadata": {
    "colab": {
      "name": "adct_extraction.ipynb",
      "provenance": [],
      "collapsed_sections": [],
      "toc_visible": true,
      "authorship_tag": "ABX9TyOsTQICBKB/RyUHBH78XmjL",
      "include_colab_link": true
    },
    "kernelspec": {
      "name": "python3",
      "display_name": "Python 3"
    },
    "language_info": {
      "name": "python"
    }
  },
  "cells": [
    {
      "cell_type": "markdown",
      "metadata": {
        "id": "view-in-github",
        "colab_type": "text"
      },
      "source": [
        "<a href=\"https://colab.research.google.com/github/CakeNuthep/Create_Knowledge_Graph/blob/main/adct_extraction.ipynb\" target=\"_parent\"><img src=\"https://colab.research.google.com/assets/colab-badge.svg\" alt=\"Open In Colab\"/></a>"
      ]
    },
    {
      "cell_type": "code",
      "metadata": {
        "colab": {
          "base_uri": "https://localhost:8080/"
        },
        "id": "z3t2x47e4r5I",
        "outputId": "e45e1368-013c-4c94-cdc7-9e0d77cf31c3"
      },
      "source": [
        "from google.colab import drive\n",
        "drive.mount('/content/drive')"
      ],
      "execution_count": 15,
      "outputs": [
        {
          "output_type": "stream",
          "text": [
            "Drive already mounted at /content/drive; to attempt to forcibly remount, call drive.mount(\"/content/drive\", force_remount=True).\n"
          ],
          "name": "stdout"
        }
      ]
    },
    {
      "cell_type": "code",
      "metadata": {
        "id": "-kcdnmMP41dE"
      },
      "source": [
        "import pandas as pd"
      ],
      "execution_count": 16,
      "outputs": []
    },
    {
      "cell_type": "markdown",
      "metadata": {
        "id": "J6zfuorizePG"
      },
      "source": [
        "# Convert String to JSON"
      ]
    },
    {
      "cell_type": "code",
      "metadata": {
        "id": "FxFabOY_zfvp"
      },
      "source": [
        "path_file = '/content/drive/MyDrive/KnowledgeGraph/adct.json'"
      ],
      "execution_count": 168,
      "outputs": []
    },
    {
      "cell_type": "code",
      "metadata": {
        "id": "orijq4PyzqYu"
      },
      "source": [
        "f = open(path_file,\"r\",encoding='utf8')"
      ],
      "execution_count": 169,
      "outputs": []
    },
    {
      "cell_type": "code",
      "metadata": {
        "colab": {
          "base_uri": "https://localhost:8080/"
        },
        "id": "bHdoyXk5zrwy",
        "outputId": "a59adcc3-f40b-43ba-8766-316050056ed2"
      },
      "source": [
        "f = open(path_file, \"r\",encoding=\"utf8\")\n",
        "count = 0\n",
        "content = []\n",
        "string_json = ''\n",
        "begin = '['\n",
        "end = ']'\n",
        "split = ','\n",
        "\n",
        "start_line = 0\n",
        "string_json += begin\n",
        "while(True):\n",
        "    # Read a line.\n",
        "    line = f.readline()\n",
        "    # When readline returns an empty string, the file is fully read.\n",
        "    if line == \"\":\n",
        "        print(\"::DONE::\")\n",
        "        break\n",
        "    if count != start_line:\n",
        "      string_json += split\n",
        "    string_json += line\n",
        "    content.append(line)\n",
        "    count +=1\n",
        "\n",
        "string_json += end"
      ],
      "execution_count": 170,
      "outputs": [
        {
          "output_type": "stream",
          "text": [
            "::DONE::\n"
          ],
          "name": "stdout"
        }
      ]
    },
    {
      "cell_type": "code",
      "metadata": {
        "colab": {
          "base_uri": "https://localhost:8080/",
          "height": 137
        },
        "id": "7XFFE-gxDKYb",
        "outputId": "ae6cc19b-ddad-4949-b7cc-09875fca406f"
      },
      "source": [
        "string_json[0:1000]"
      ],
      "execution_count": 171,
      "outputs": [
        {
          "output_type": "execute_result",
          "data": {
            "application/vnd.google.colaboratory.intrinsic+json": {
              "type": "string"
            },
            "text/plain": [
              "'[{\"_index\":\"adct\",\"_type\":\"adct\",\"_id\":\"GZdwgW0BVag6oCykn075\",\"_score\":1,\"_source\":{\"education\":\"North Carolina State University (NCSU), Raleigh, NC\\\\r\\\\nPh.D., Mathematics, May 2007\\\\r\\\\nM.S., Applied Mathematics, May 2005\\\\r\\\\nMethodist University (MU), Fayetteville, NC\\\\r\\\\nB.S., Mathematics and Financial Economics, Summa Cum Laude, May 2002\",\"work\":\"Suthathip Suanmali, Bundit Limmeechokchai, The Assessment of Biofuel Utilization Policy\\\\r\\\\non the Total Output and CO2 Emissions in Thailand, Journal of Engineering, Project, and Production\\\\r\\\\nManagement, 3(2): 57-64, 2013\\\\r\\\\nVeeris Ammarapala, Thanwadee Chinda, Pison Udomworarat, Terdsak Rongwiriyapanich,\\\\r\\\\nAmnart Khumpanit, Suthathip Suanmali, and Boonyarat Sampanwattanachai, Selection of\\\\r\\\\nWeigh Station in Thailand using Analytic Hierarchy Process, Songklanakarin Journal of Science\\\\r\\\\nand Technology, 3(1), 81-90, 2013\\\\r\\\\nKarnjana Sanglimsuwan, Suthathip Suanmali, Veeris Ammarapala, The Export Growth And\\\\r\\\\nRevealed Comparative Advantage Of'"
            ]
          },
          "metadata": {
            "tags": []
          },
          "execution_count": 171
        }
      ]
    },
    {
      "cell_type": "code",
      "metadata": {
        "id": "QAf6OQ7hztov"
      },
      "source": [
        "import json\n",
        "data = json.loads(string_json)"
      ],
      "execution_count": 172,
      "outputs": []
    },
    {
      "cell_type": "code",
      "metadata": {
        "colab": {
          "base_uri": "https://localhost:8080/"
        },
        "id": "vZID1-7czuM-",
        "outputId": "85dd1068-9565-4be9-ced2-eff7e4ad2019"
      },
      "source": [
        "data[0:1]"
      ],
      "execution_count": 173,
      "outputs": [
        {
          "output_type": "execute_result",
          "data": {
            "text/plain": [
              "[{'_id': 'GZdwgW0BVag6oCykn075',\n",
              "  '_index': 'adct',\n",
              "  '_score': 1,\n",
              "  '_source': {'education': 'North Carolina State University (NCSU), Raleigh, NC\\r\\nPh.D., Mathematics, May 2007\\r\\nM.S., Applied Mathematics, May 2005\\r\\nMethodist University (MU), Fayetteville, NC\\r\\nB.S., Mathematics and Financial Economics, Summa Cum Laude, May 2002',\n",
              "   'email': 'ssuanma@gmail.com',\n",
              "   'etc': '',\n",
              "   'expertise': 'Applied Linear Algebras; Highway Assets Maintenance and Management System; Regional\\r\\nTrade Analysis; Cross Border Trade Facilitation; Willingness to Pay',\n",
              "   'name': 'ผศ.ดร. สุธาทิพย์ สวนมะลิ',\n",
              "   'position': '',\n",
              "   'pullDate': '2019-09-30T09:11:44.795Z',\n",
              "   'row': 2,\n",
              "   'sheet': 7,\n",
              "   'tel': 'T 02 501-3507 EXT 6006\\r\\nF 02 501-3507 EXT 6014',\n",
              "   'university': 'สถาบันเทคโนโลยีนานาชาติสิริธร',\n",
              "   'work': 'Suthathip Suanmali, Bundit Limmeechokchai, The Assessment of Biofuel Utilization Policy\\r\\non the Total Output and CO2 Emissions in Thailand, Journal of Engineering, Project, and Production\\r\\nManagement, 3(2): 57-64, 2013\\r\\nVeeris Ammarapala, Thanwadee Chinda, Pison Udomworarat, Terdsak Rongwiriyapanich,\\r\\nAmnart Khumpanit, Suthathip Suanmali, and Boonyarat Sampanwattanachai, Selection of\\r\\nWeigh Station in Thailand using Analytic Hierarchy Process, Songklanakarin Journal of Science\\r\\nand Technology, 3(1), 81-90, 2013\\r\\nKarnjana Sanglimsuwan, Suthathip Suanmali, Veeris Ammarapala, The Export Growth And\\r\\nRevealed Comparative Advantage Of Thailand To India’s Jewelry Sector, In Proceeding of the\\r\\n4th International Conference on Engineering, Project and Production Management, 23-25 October\\r\\n2013, Bangkok, Thailand\\r\\nSuthathip Suanmali, Karnjana Sanglimsuwan, Mananya Klanpoth, Boonyaporn\\r\\nJongmeepornsathitkul, Bandasak Pukkanavanich and Nipa Sakdakeitikul, The Assessment\\r\\nOf Household’s Preferences For Recycling Efforts: The Willingness To Pay Approach, In Proceeding\\r\\nof the 4th International Conference on Engineering, Project and Production Management,\\r\\n23-25 October 2013, Bangkok, Thailand'},\n",
              "  '_type': 'adct'}]"
            ]
          },
          "metadata": {
            "tags": []
          },
          "execution_count": 173
        }
      ]
    },
    {
      "cell_type": "code",
      "metadata": {
        "id": "m3yzhRoEzwuK"
      },
      "source": [
        "df_publish = pd.json_normalize(data)"
      ],
      "execution_count": 174,
      "outputs": []
    },
    {
      "cell_type": "code",
      "metadata": {
        "colab": {
          "base_uri": "https://localhost:8080/",
          "height": 858
        },
        "id": "MG2zoG2AzyPB",
        "outputId": "9a715ac5-a916-4a1f-8b3b-3f381324464d"
      },
      "source": [
        "df_publish"
      ],
      "execution_count": 175,
      "outputs": [
        {
          "output_type": "execute_result",
          "data": {
            "text/html": [
              "<div>\n",
              "<style scoped>\n",
              "    .dataframe tbody tr th:only-of-type {\n",
              "        vertical-align: middle;\n",
              "    }\n",
              "\n",
              "    .dataframe tbody tr th {\n",
              "        vertical-align: top;\n",
              "    }\n",
              "\n",
              "    .dataframe thead th {\n",
              "        text-align: right;\n",
              "    }\n",
              "</style>\n",
              "<table border=\"1\" class=\"dataframe\">\n",
              "  <thead>\n",
              "    <tr style=\"text-align: right;\">\n",
              "      <th></th>\n",
              "      <th>_index</th>\n",
              "      <th>_type</th>\n",
              "      <th>_id</th>\n",
              "      <th>_score</th>\n",
              "      <th>_source.education</th>\n",
              "      <th>_source.work</th>\n",
              "      <th>_source.university</th>\n",
              "      <th>_source.pullDate</th>\n",
              "      <th>_source.expertise</th>\n",
              "      <th>_source.etc</th>\n",
              "      <th>_source.name</th>\n",
              "      <th>_source.tel</th>\n",
              "      <th>_source.sheet</th>\n",
              "      <th>_source.position</th>\n",
              "      <th>_source.row</th>\n",
              "      <th>_source.email</th>\n",
              "    </tr>\n",
              "  </thead>\n",
              "  <tbody>\n",
              "    <tr>\n",
              "      <th>0</th>\n",
              "      <td>adct</td>\n",
              "      <td>adct</td>\n",
              "      <td>GZdwgW0BVag6oCykn075</td>\n",
              "      <td>1</td>\n",
              "      <td>North Carolina State University (NCSU), Raleig...</td>\n",
              "      <td>Suthathip Suanmali, Bundit Limmeechokchai, The...</td>\n",
              "      <td>สถาบันเทคโนโลยีนานาชาติสิริธร</td>\n",
              "      <td>2019-09-30T09:11:44.795Z</td>\n",
              "      <td>Applied Linear Algebras; Highway Assets Mainte...</td>\n",
              "      <td></td>\n",
              "      <td>ผศ.ดร. สุธาทิพย์ สวนมะลิ</td>\n",
              "      <td>T 02 501-3507 EXT 6006\\r\\nF 02 501-3507 EXT 6014</td>\n",
              "      <td>7</td>\n",
              "      <td></td>\n",
              "      <td>2</td>\n",
              "      <td>ssuanma@gmail.com</td>\n",
              "    </tr>\n",
              "    <tr>\n",
              "      <th>1</th>\n",
              "      <td>adct</td>\n",
              "      <td>adct</td>\n",
              "      <td>MJdwgW0BVag6oCykqk4p</td>\n",
              "      <td>1</td>\n",
              "      <td>GRADUATE SCHOOL OF THE UNIVERSITY OF TOKYO, To...</td>\n",
              "      <td>Sep’99 – Present\\r\\nSirindhorn International I...</td>\n",
              "      <td>สถาบันเทคโนโลยีนานาชาติสิริธร</td>\n",
              "      <td>2019-09-30T09:11:47.404Z</td>\n",
              "      <td></td>\n",
              "      <td></td>\n",
              "      <td>WAREE \\r\\nKONGPRAWECHNON</td>\n",
              "      <td>Telephone: (+662) 501-3505 Ext. 1808 Fax: (+66...</td>\n",
              "      <td>7</td>\n",
              "      <td></td>\n",
              "      <td>25</td>\n",
              "      <td>Email: chalie@siit.tu.ac.th</td>\n",
              "    </tr>\n",
              "    <tr>\n",
              "      <th>2</th>\n",
              "      <td>adct</td>\n",
              "      <td>adct</td>\n",
              "      <td>MpdwgW0BVag6oCykq04M</td>\n",
              "      <td>1</td>\n",
              "      <td>Kochi University of Technology\\r\\n(KUT) Kochi,...</td>\n",
              "      <td>Repcon Service Co.,Ltd. Bangkok, Thailand Tech...</td>\n",
              "      <td>สถาบันเทคโนโลยีนานาชาติสิริธร</td>\n",
              "      <td>2019-09-30T09:11:47.631Z</td>\n",
              "      <td>multi-binder concrete\\r\\n Mix proportion des...</td>\n",
              "      <td></td>\n",
              "      <td>Chalermchai Wanichlamlert</td>\n",
              "      <td></td>\n",
              "      <td>7</td>\n",
              "      <td></td>\n",
              "      <td>27</td>\n",
              "      <td>Email Address: \\r\\nchalermchai_w@siit.tu.ac.th</td>\n",
              "    </tr>\n",
              "    <tr>\n",
              "      <th>3</th>\n",
              "      <td>adct</td>\n",
              "      <td>adct</td>\n",
              "      <td>HJdwgW0BVag6oCykoU5b</td>\n",
              "      <td>1</td>\n",
              "      <td>Ph.D. The University of Texas at Arlington, Au...</td>\n",
              "      <td>2013 International Conference on Engineering, ...</td>\n",
              "      <td>สถาบันเทคโนโลยีนานาชาติสิริธร</td>\n",
              "      <td>2019-09-30T09:11:45.144Z</td>\n",
              "      <td>2003-present The Academy of International Busi...</td>\n",
              "      <td></td>\n",
              "      <td>Nattharika Rittippant, Ph.D.</td>\n",
              "      <td>Tel: (662)501-3505 Ext.2103 Fax: (662)501-3505...</td>\n",
              "      <td>7</td>\n",
              "      <td></td>\n",
              "      <td>5</td>\n",
              "      <td>E-mails: Natthari@siit.tu.ac.th</td>\n",
              "    </tr>\n",
              "    <tr>\n",
              "      <th>4</th>\n",
              "      <td>adct</td>\n",
              "      <td>adct</td>\n",
              "      <td>GpdwgW0BVag6oCykoE5g</td>\n",
              "      <td>1</td>\n",
              "      <td>1992-1998\\r\\n- Ph.D. (Management), Ritsumeikan...</td>\n",
              "      <td></td>\n",
              "      <td>สถาบันเทคโนโลยีนานาชาติสิริธร</td>\n",
              "      <td>2019-09-30T09:11:44.912Z</td>\n",
              "      <td>May 2003 - present, Assistant Professor, Sirin...</td>\n",
              "      <td></td>\n",
              "      <td>ผศ.ดร. พรพิมล จงไพศาล</td>\n",
              "      <td></td>\n",
              "      <td>7</td>\n",
              "      <td></td>\n",
              "      <td>3</td>\n",
              "      <td></td>\n",
              "    </tr>\n",
              "    <tr>\n",
              "      <th>...</th>\n",
              "      <td>...</td>\n",
              "      <td>...</td>\n",
              "      <td>...</td>\n",
              "      <td>...</td>\n",
              "      <td>...</td>\n",
              "      <td>...</td>\n",
              "      <td>...</td>\n",
              "      <td>...</td>\n",
              "      <td>...</td>\n",
              "      <td>...</td>\n",
              "      <td>...</td>\n",
              "      <td>...</td>\n",
              "      <td>...</td>\n",
              "      <td>...</td>\n",
              "      <td>...</td>\n",
              "      <td>...</td>\n",
              "    </tr>\n",
              "    <tr>\n",
              "      <th>700</th>\n",
              "      <td>adct</td>\n",
              "      <td>adct</td>\n",
              "      <td>HJdxgW0BVag6oCykjVCu</td>\n",
              "      <td>1</td>\n",
              "      <td></td>\n",
              "      <td></td>\n",
              "      <td>มหาวิทยาลัยนเรศวร1</td>\n",
              "      <td>2019-09-30T09:12:45.657Z</td>\n",
              "      <td></td>\n",
              "      <td></td>\n",
              "      <td>ดร.สุธนิตย์ พุทธพนม</td>\n",
              "      <td></td>\n",
              "      <td>13</td>\n",
              "      <td>มหาวิทยาลัยนเรศวร วิศวกรรมอุตสาหการ</td>\n",
              "      <td>50</td>\n",
              "      <td>sutanit@hotmail.com</td>\n",
              "    </tr>\n",
              "    <tr>\n",
              "      <th>701</th>\n",
              "      <td>adct</td>\n",
              "      <td>adct</td>\n",
              "      <td>HZdxgW0BVag6oCykjlAa</td>\n",
              "      <td>1</td>\n",
              "      <td></td>\n",
              "      <td></td>\n",
              "      <td>มหาวิทยาลัยนเรศวร1</td>\n",
              "      <td>2019-09-30T09:12:45.764Z</td>\n",
              "      <td></td>\n",
              "      <td></td>\n",
              "      <td>อาจารย์วัฒนชัย เยาวรัตน์</td>\n",
              "      <td></td>\n",
              "      <td>13</td>\n",
              "      <td>มหาวิทยาลัยนเรศวร วิศวกรรมอุตสาหการ</td>\n",
              "      <td>51</td>\n",
              "      <td>Jeab_pb45@hotmail.com</td>\n",
              "    </tr>\n",
              "    <tr>\n",
              "      <th>702</th>\n",
              "      <td>adct</td>\n",
              "      <td>adct</td>\n",
              "      <td>15dxgW0BVag6oCykb080</td>\n",
              "      <td>1</td>\n",
              "      <td></td>\n",
              "      <td></td>\n",
              "      <td>มหาลัยบูรพา</td>\n",
              "      <td>2019-09-30T09:12:37.851Z</td>\n",
              "      <td></td>\n",
              "      <td></td>\n",
              "      <td>ผศ.ดร. ภาวิณี ศักดิ์สุนทรศิริ</td>\n",
              "      <td></td>\n",
              "      <td>12</td>\n",
              "      <td>มหาวิทยาลัยบูรพา ภาควิชาวิศวกรรมเครื่องกล</td>\n",
              "      <td>81</td>\n",
              "      <td></td>\n",
              "    </tr>\n",
              "    <tr>\n",
              "      <th>703</th>\n",
              "      <td>adct</td>\n",
              "      <td>adct</td>\n",
              "      <td>5ZdxgW0BVag6oCykdU8y</td>\n",
              "      <td>1</td>\n",
              "      <td></td>\n",
              "      <td></td>\n",
              "      <td>มหาลัยบูรพา</td>\n",
              "      <td>2019-09-30T09:12:39.388Z</td>\n",
              "      <td></td>\n",
              "      <td></td>\n",
              "      <td>อ. ณัฐพันธ์ ถนอมสัตย์</td>\n",
              "      <td></td>\n",
              "      <td>12</td>\n",
              "      <td>มหาวิทยาลัยบูรพา ภาควิชาวิศวกรรมไฟฟ้า</td>\n",
              "      <td>95</td>\n",
              "      <td></td>\n",
              "    </tr>\n",
              "    <tr>\n",
              "      <th>704</th>\n",
              "      <td>adct</td>\n",
              "      <td>adct</td>\n",
              "      <td>yZdxgW0BVag6oCykaE-p</td>\n",
              "      <td>1</td>\n",
              "      <td></td>\n",
              "      <td></td>\n",
              "      <td>มหาลัยบูรพา</td>\n",
              "      <td>2019-09-30T09:12:36.177Z</td>\n",
              "      <td></td>\n",
              "      <td></td>\n",
              "      <td>อ.ดร. มัณฑนา รังสิโยภาส</td>\n",
              "      <td></td>\n",
              "      <td>12</td>\n",
              "      <td>มหาวิทยาลัยบูรพา ภาควิชาวิศวกรรมโยธา</td>\n",
              "      <td>67</td>\n",
              "      <td></td>\n",
              "    </tr>\n",
              "  </tbody>\n",
              "</table>\n",
              "<p>705 rows × 16 columns</p>\n",
              "</div>"
            ],
            "text/plain": [
              "    _index _type  ... _source.row                                   _source.email\n",
              "0     adct  adct  ...           2                               ssuanma@gmail.com\n",
              "1     adct  adct  ...          25                     Email: chalie@siit.tu.ac.th\n",
              "2     adct  adct  ...          27  Email Address: \\r\\nchalermchai_w@siit.tu.ac.th\n",
              "3     adct  adct  ...           5                 E-mails: Natthari@siit.tu.ac.th\n",
              "4     adct  adct  ...           3                                                \n",
              "..     ...   ...  ...         ...                                             ...\n",
              "700   adct  adct  ...          50                             sutanit@hotmail.com\n",
              "701   adct  adct  ...          51                           Jeab_pb45@hotmail.com\n",
              "702   adct  adct  ...          81                                                \n",
              "703   adct  adct  ...          95                                                \n",
              "704   adct  adct  ...          67                                                \n",
              "\n",
              "[705 rows x 16 columns]"
            ]
          },
          "metadata": {
            "tags": []
          },
          "execution_count": 175
        }
      ]
    },
    {
      "cell_type": "code",
      "metadata": {
        "id": "B_fNYaRY7Vrk"
      },
      "source": [
        "df_new = pd.concat([df_publish])"
      ],
      "execution_count": 176,
      "outputs": []
    },
    {
      "cell_type": "markdown",
      "metadata": {
        "id": "1N3R-rca8H0-"
      },
      "source": [
        "# Create Author Table"
      ]
    },
    {
      "cell_type": "code",
      "metadata": {
        "id": "wpcrs4Gz3S37"
      },
      "source": [
        "uniq_name = df_new['_source.name'].unique()"
      ],
      "execution_count": 177,
      "outputs": []
    },
    {
      "cell_type": "code",
      "metadata": {
        "colab": {
          "base_uri": "https://localhost:8080/"
        },
        "id": "T9h5CrFF3UuL",
        "outputId": "1eda273a-41d5-42c7-dc4f-da138f7aca33"
      },
      "source": [
        "uniq_name"
      ],
      "execution_count": 178,
      "outputs": [
        {
          "output_type": "execute_result",
          "data": {
            "text/plain": [
              "array(['ผศ.ดร. สุธาทิพย์ สวนมะลิ', 'WAREE \\r\\nKONGPRAWECHNON',\n",
              "       'Chalermchai Wanichlamlert', 'Nattharika Rittippant, Ph.D.',\n",
              "       'ผศ.ดร. พรพิมล จงไพศาล', 'Raktipong Sahamitmongkol',\n",
              "       'รศ.ดร. กฤษ เฉยไสย', 'Banlue Srisuchinwong, PhD',\n",
              "       'Dr. Chalie \\r\\nCharoenlarpnopparut', 'รศ.ดร.สุรสิทธิ์ ปิยะศิลป์',\n",
              "       'ดร.ต้นคิด   จันทรัศมี ', 'พันเอก ผศ.ดร.ทวิวัชร  วีระแกล้ว',\n",
              "       'รศ.ดร.สุวัฒน์ กุลธนปรีดา', 'ผศ.ดร.บุญชัย วัจจะตรากุล',\n",
              "       'ผศ.พงษ์ศิริ จรุยนนท์', 'อาจารย์สุรเจษฎ์ สุขไชยพร',\n",
              "       'ผู้ช่วยศาสตราจารย์ ดร. กุลธิดา โรจน์วิบูลย์ชัย',\n",
              "       'อ.ดร. วสุ เชาว์พานนท์', 'อาจารย์พิเชษฐ์ ช่อผกา',\n",
              "       'ผศ.ดร.ทสพล เขตเจนการ', 'ดร.จิรภัทร์  อนันต์ภัทรชัย',\n",
              "       'ดร.ปวัตน์  ชูศิลป์', 'ดร. นิรุทธ์  ชลายนานนท์',\n",
              "       'ดร.นินนาท ราชประดิษฐ์', 'ดร.ศลิษา วีรพันธุ์',\n",
              "       'ดร.ฐนียา เภอบางเข็ม', 'ดร.ภาณุ พุทธวงศ์',\n",
              "       'อาจารย์ชูพงศ์ ช่วยเพ็ญ', 'อาจารย์ปัญญวัณ ลำเพาพงศ์',\n",
              "       'รศ.ดร.ศรินทร์ทิพย์  แทนธานี', 'Dr. Meng Jing',\n",
              "       'อาจารย์ประภาส วันทอง', 'รศ.ดร.อุดมเกียรติ   นนทแก้ว ',\n",
              "       'ผศ.ดร.จักร   จันทลักขณา ', 'Arto Nurmikko\\xa0',\n",
              "       'อาจารย์ พัชรี เทพนิมิตร', 'ผศ.ดร.ปูมยศ วัลลิกุล',\n",
              "       'รศ.ดร.สุชาติ   เซี่ยงฉิน ', 'อาจารย์อรวรรณ โรจน์วิรุฬห์',\n",
              "       'อ.ดร.กิตติศักดิ์ คู่วรัญญู', 'อาจารย์ วิชัย  จันทรักษา',\n",
              "       'ผศ.สุคม ลิปิเลิศ', 'ผศ.ดร. วรรณรัช สันติอมรทัต',\n",
              "       'อาจารย์ จักรพันธ์ สัวบุตร', 'ผศ. สุวัฒน์  เณรโต',\n",
              "       'อาจารย์สุรชัย โกเมนธรรมโสภณ', 'อาจารย์ประชุม คำพุฒ',\n",
              "       'อาจารย์ เกษรินทร์ พูลทรัพย์', 'ดร.สุวิมล วงศ์สกุลเภสัช',\n",
              "       'ผศ.ดร.วีรวัฒน์ ปัตทวีคงคา', 'อาจารย์ เดวิดอาร์เธอร์ซัน',\n",
              "       'อาจารย์ อัมรินทร์ ดีมะการ', 'อาจารย์ วิศรุต จันทระ',\n",
              "       'อาจารย์ กวินธร  สัยเจริญ', 'ผศ.ดร.ธีรสิทธิ์   เกษตรเกษม',\n",
              "       'Josef Mittlemann', 'Ravi Pendse', ' รศ.ณัฐวุฒิ   ขวัญแก้ว',\n",
              "       'ผศ.ศิริวัฒน์  พูนวศิน', 'ผศ.ดร.ศิริโรจน์    ศิริสุขประเสริฐ',\n",
              "       'รศ.สันติ   อัศวศรีพงศ์ธร', 'รศ.ชัยวัฒน์   ชัยกุล',\n",
              "       'รศ.วิชัย  สุระพัฒน์', 'Nitin Padture\\xa0\\xa0', 'Daniel Loveless',\n",
              "       'Xin Liang', 'Tao Liu', 'รศ. มงคล ลี้ประกอบบุญ', 'Mark Abkowitz',\n",
              "       'Do-Joong Lee', 'Joonhee Lee', 'Pradeep Guduru\\xa0\\xa0',\n",
              "       'Christopher\\xa0Bull', 'Kevin Brown', 'Mohammad Hassan Ghaed',\n",
              "       'Martha Gialampouki', 'Vadivelnadar K. Ponnulakshmi', 'Wenwen Wu',\n",
              "       'อ.ดร.เจตวีย์    ภัครัชพันธุ์', 'นางขวัญเรือน\\xa0 ทันประสงค์',\n",
              "       'นางสาวอภิรดี\\xa0 เสนะเปรม', 'ผศ.ดร.อุศนา  ตัณฑุลเวศม์',\n",
              "       'ผศ.ดร.ศิริพงศ์\\xa0 อติพันธ์', 'ผศ.ดร.เวชพงศ์\\xa0 ชุติชูเดช',\n",
              "       'ดร.ปวเรศ\\xa0 ชมเดช', 'รศ.ดร.สุรชัย  รดาการ',\n",
              "       'ผศ.ดร.พิพล   บุญจันต๊ะ', 'นายวินัย\\xa0 เพชร์สุข',\n",
              "       'อ.ยุทธศักดิ์  อุราธรรมกุล', 'อ.เสนีย์   ตั้งสถิตย์',\n",
              "       \"Joseph (Jose') Manuel Calo\", 'ผศ.ดร.ทวีเดช   ศิริธนาพิพัฒน์',\n",
              "       'อ.ดร.ธำรงค์   พุทธาพิทักษ์ผล', 'อ.ดร.อัญชนา  วงษ์โต',\n",
              "       'Jacob Rosenstein', 'Jimmy Xu\\xa0\\xa0', 'Katharina Galor',\n",
              "       'Ilker Ozden', 'Vijay\\xa0Sethuraman', 'Thomas Powers',\n",
              "       'Raymond Roberts', 'Seunghyun Kim', 'อ.ชาญเวช   ศีลพิพัฒน์',\n",
              "       'อ.ดร.ประพจน์   ขุนทอง', 'พล.อ.ต.ปรีชา\\xa0 วรรณภูมิ',\n",
              "       'ผศ.ดร.พิชัย    กฤชไมตรี', 'อ.ดร.คุณยุต   เอี่ยมสอาด',\n",
              "       'นายอรรถพร  วิเศษสินธุ์', 'อ.ดร. ศรีสุดา แซ่อึ้ง',\n",
              "       'ผศ. ธีรวัฒน์ สมสิริกาญจนคุณ', 'อ. เอนก ชมวงษ์',\n",
              "       'อ. สุพจน์ ศิริเสนาพันธ์', 'อ. สมเสียง จันทาสี',\n",
              "       'อ. อดิศักดิ์ นาวเหนียว', 'อ.ดร. เอมม่า อาสนจินดา',\n",
              "       'อ.ดร. กฤษฎาณชลี กาญจนศรี', 'ผศ.ดร. ทวีชัย สำราญวานิช',\n",
              "       'อ.ดร. อาณัติ ดีพัฒนา', 'ผศ.ดร. วิโรจน์ เรืองประเทืองสุข',\n",
              "       'ดร.ชัยวัฒน์ กันหารี', 'อ.ดร. จิตติ พัทธวณิช',\n",
              "       'อ.ดร. ญาณิศา ละอองอุทัย', 'อ.ดร. วรสิทธิ์ กาญจนกิจเกษม',\n",
              "       'อ.ดร. พุทธา จีนครัว', 'อ.ดร.วิรุณศักดิ์  สันติเพ็ชร์',\n",
              "       'อ.กาญจนพันธุ์   สุขวิชชัย', 'ดร. ทรงศักดิ์ สุธาสุประดิษฐ',\n",
              "       'รองศาสตราจารย์ ดร.กวิน สนธิเพิ่มพูน',\n",
              "       'ผู้ช่วยศาสตราจารย์ ดร.สมลักษณ์ วรรณฤมล กีเยลาโรว่า',\n",
              "       'ดร.นิคม กลมเกลี้ยง', 'ผู้ช่วยศาสตราจารย์ ดร.กุลยา กนกจารุวิจิตร',\n",
              "       'ดร.วิลาวัลย์ คณิตชัยเดชา', 'ดร.รัฐภูมิ ปริชาตปรีชา',\n",
              "       'ดร.พงษ์ธร จุฬพันธ์ทอง',\n",
              "       'ผู้ช่วยศาสตราจารย์ ดร.สรัณกร เหมะวิบูลย์',\n",
              "       'ผู้ช่วยศาสตราจารย์ ดร.อุดมฤกษ์ ปานพลอย',\n",
              "       'อาจารย์กานต์ ลี่วัฒนายิ่งยง', 'อาจารย์วิสาข์ เจ่าสกุล',\n",
              "       'ผู้ช่วยศาสตราจารย์ ดร.ดลเดช ตั้งตระการพงษ์',\n",
              "       'ดร.อิศราวุธ ประเสริฐสังข์', 'อ.ดร. ภาณุวัฒน์ ด่านกลาง',\n",
              "       'อ.ดร. อานุภาพ บุญส่งศรีกุล', 'อ.ดร. สัญชัย เอียดปราบ',\n",
              "       'Pisal Yenradee, D.Eng.', 'Prapun Suksompong, Ph.D.',\n",
              "       'ดร.สงบ คำค้อ', 'รศ.ดร.ชาญยุทธ   โกลิตะวงษ์',\n",
              "       'ผศ.ดร.บุญชัย   วัจจะตรากุล', 'ดร.สว่างทิตย์   ศรีกิจสุวรรณ ',\n",
              "       'ดร. บุญญฤทธิ์ อุยยานนวาระ', 'ผศ.ดร.สิริวิชญ์ เตชะเจษฎารังษี',\n",
              "       'PARNTHEP\\r\\n JULNIPITAWONG', 'อ.ดร.นภัสถ์ ไตรโรจน์',\n",
              "       'ผศ.ดร.อัครพันธ์ วงศ์กังแห', 'ดร.สุวิทย์ กิระวิทยา',\n",
              "       'ดร.ต้นคิด จันทรัศมี', 'ดร.อาทิตย์  ฤทธิ์เลื่อน',\n",
              "       'ผศ.ดร.สุภัทรา ปลื้มกมล', 'ดร.กันต์ไชย  ธนาพรรวีกิตติ์',\n",
              "       'ดร.ปฤษทัศว์ ศีตะปันย์', 'ดร.วีทิต  วรรณเลิศลักษณ์',\n",
              "       'นาวาอากาศตรี จิระเดช  เกิดศรี', 'THUNYASETH SETHAPUT, \\r\\nPh.D.',\n",
              "       'BOONTAWEE \\r\\nSUNTISRIVARAPORN', 'อ. ชัยภัทร เครีอหงส์',\n",
              "       'อาจารย์ คมสันต์ กาญจนสิทธิ์', 'CHUNG-HAO (JOHN)\\r\\n HSU, Ph.D.',\n",
              "       'รศ.ดร.วลาดิมิร์ คูปริอานอฟ', 'ดร.ขวัญนิธิ คำเมือง',\n",
              "       'อาจารย์วรนารถ\\xa0แสงฉาย', 'ดร. สุรชัย องกิตติกุล',\n",
              "       'ดร.อุปถัมภ์ นาครักษ์', 'ผู้ช่วยศาสตราจารย์ ดร.อนันต์ชัย อยู่แก้ว',\n",
              "       'รองศาสตราจารย์ ดร.มัทนี สงวนเสริมศรี', 'ผศ.ดร.ธีระศักดิ์ หุดากร',\n",
              "       'อ.มานพ สีเหลือง ', 'ผศ.ดร.วรพล เกียรติกิตติพงษ์',\n",
              "       'ดร.ภาณุ บูรณจารุกร ', 'ดร. ทศพล ตรีรุจิราภาพงศ์',\n",
              "       'ผู้ช่วยศาสตราจารย์ศิษฎา สิมารักษ์', 'Dr.WARODOM WERAPUN',\n",
              "       'อาจารย์ ฉกาจกิจ แท่นชัยกุล', 'ดร.ปณัฐพงศ์ บุญนวล',\n",
              "       'อาจารย์เสาวลักษณ์ ตองกลิ่น', 'ดร.นพวรรณ โม้ทอง',\n",
              "       'ผศ.ประกาศ ทองประไพ', 'Elizabeth Dworska', 'Graham Hemingway',\n",
              "       'ผศ.ดร. ประสงค์ วงศ์วิชา', 'ผศ.ดร.อาทิตย์ เนรมิตตกพงศ์',\n",
              "       'Phil Davis', 'Sue Prendergast', 'รศ.ชินะวัฒน์ มุกตพันธุ์',\n",
              "       'Bill Patterson', 'Jiajue Chai', 'Janet Blume', 'Allan Bower',\n",
              "       'Clyde Briant', 'Axel van de Walle\\xa0\\xa0',\n",
              "       'Petia Vlahovska\\xa0\\xa0', 'Alexander Zaslavsky\\xa0\\xa0',\n",
              "       'Daniel\\xa0Bacher\\xa0', 'Michael\\xa0Jibitsky',\n",
              "       'Arpiar\\xa0Kaloustian', 'Seunghyun\\xa0Kim', 'Abhishek Dubey',\n",
              "       'Hector Garces', 'Wenpeng Zhu', 'Enkeleida Lushi', 'David Koester',\n",
              "       'ผศ.วัชรี  วีรคเชนทร์', 'รศ.ดร.ตฤณ  แสงสุวรรณ',\n",
              "       'Sture K. F. Karlsson', 'อ.เปรื่องบุญ  จักกะพาก',\n",
              "       'อ.ปัญญา เหล่าอนันต์ธนา', 'อ.ดร.จันทนี   รุ่งเรืองพิทยากุล',\n",
              "       'Haneesh Kesari', 'Brian W. Sheldon\\xa0\\xa0', 'ผศ.ธนากร  ฆ้องเดช',\n",
              "       'นางสุจิตรา\\xa0 ดวงพัตรา', 'อ.ดร.พิสุทธิ์   รพีศักดิ์',\n",
              "       'Jeffrey Morgan', 'Shouheng Sun', 'Ljubomir Miljacic\\xa0',\n",
              "       'Ramsharan Rangarajan', 'G. Tayhas R. Palmore\\xa0\\xa0',\n",
              "       'Marc Richman', 'Jerome Weiner', 'Joseph Fontaine',\n",
              "       'นางทิพวัลย์\\xa0 หวั่นอินตา', 'อ.ดร.มิติ  รุจานุรักษ์',\n",
              "       'Edith Mathiowitz', 'Christopher Bull',\n",
              "       'รศ.ดร.ประกอบ  สุรวัฒนาวรรณ', 'รศ.สัจจาทิพย์    ทัศนียพันธุ์',\n",
              "       'อ.กีรติ\\xa0 แสงแจ่ม', 'นายเอกรัฐ \\xa0สุวรรณกูฏ',\n",
              "       'ดร.ไชยวัฒน์\\xa0 กล่ำพล', 'อ.สมสุข   เตชสมบูรณ์สุข',\n",
              "       'อ.ดร.พงศ์ธร   พรหมบุตร', 'ผศ.นงลักษณ์   งามเจริญ',\n",
              "       'ผศ.ดร.ปิยฉัตร วัฒนชัย', 'อ.ดร.เอกไท   วิโรจน์สกุลชัย',\n",
              "       'อ.เฉลิมพล   เปล่งสะอาด', 'รศ.สมพงษ์   พิเชฐภิญโญ',\n",
              "       'ผศ.ดร.สร้อยพัทธา สร้อยสุวรรณ\\xa0', 'ดร. กฤษฎาณชลี\\xa0 กาญจนศรี',\n",
              "       'อ. โรสมารินทร์ สุขเกษม', 'Maurice Glicksman', 'Danny Warshay',\n",
              "       'Marek Wojtowicz', 'Jason Harry', 'David Joseph Odeh',\n",
              "       'David Cooper', 'อ.ดร.อภิชาต    แจ้งบำรุง',\n",
              "       'อ.ดร.จิระชัย   มิ่งบรรเจิดสุข', 'ดร.ภาณุมาศ อรุณเดชาวัฒน์',\n",
              "       'ผู้ช่วยศาสตราจารย์ ดร.ทวีศักดิ์ แตะกระโทก',\n",
              "       'อาจารย์กรกฎ นุสิทธิ์', 'ดร.ศิริชัย ตันรัตนวงศ์',\n",
              "       'ผศ. วิรุฬห์ ศรีบริรักษ์', 'ดร.กำพล ทรัพย์สมบูรณ์',\n",
              "       'ผศ.ดร. บรรหาญ ลิลา', 'ผศ. จันทร์ฑา นาควชิรตระกูล',\n",
              "       'รศ.ดร. เกษม พิพัฒน์ปัญญานุกูล', 'ผศ.ดร. อานนท์ วงษ์แก้ว',\n",
              "       'อ. ปารีชา รัตนศิริ', 'อ.ดร. วัชรินทร์ ดงบัง',\n",
              "       'อ. อนุพนธ์ พิมพ์ช่วย', 'อ. วิศณุ บุญรอด',\n",
              "       'อ.ดร. กฤษดา ประสพชัยชนะ', 'ดร. ชาญยุทธ กาฬกาญจน์',\n",
              "       'อาจารย์บุญพล มีไชโย', 'อ. ธราธร บุญศรี', 'ดร.วิศว์ ศรีพวาทกุล',\n",
              "       'รศ.ดร.นาวี เจี่ยดารง', 'Jirachai Buddhakulsomsiri',\n",
              "       'Chawalit Jeenanunta, Ph.D.', 'Thananchai Leephakpreeda',\n",
              "       'รศ.ดร.สุวัฒน์   กุลธนปรีดา ', 'Dr. Pisit Chanvarasuth',\n",
              "       'อ.ดร.อัญชลี แสงซ้าย', 'อ.ดร.ทินกร คำแสน',\n",
              "       'รศ.ดร.อุดมเกียรติ นนทแก้ว', 'ผศ.ดร.จักร จันทลักขณา',\n",
              "       'ภัควัฒน์ แสนเจริญ', 'ผศ.ดร.สมพร เรืองสินชัยวานิช',\n",
              "       'ผศ.ดร.สุชาติ แย้มแม่น', 'ดร.พลิศวร์  รัตนสวัสดิ์',\n",
              "       'ผศ.ดร.สรัณกร  เหมะวิบูลย์', 'ดร.พิสุทธิ์  อภิชยกุล',\n",
              "       'ดร.สว่างทิตย์ ศรีกิจสุวรรณ', 'ผศ.ดร.ชูวงศ์ ชัยสุข',\n",
              "       'ดร. ทิพย์วารี   หว่างเจริญศักดิ์',\n",
              "       'นาวาอากาศเอก ดร.ชำนาญ  ขุมทรัพย์ ',\n",
              "       'พันเอก ดร. มนต์ชัย  ดวงปัญญา', 'อาจารย์ ยศวีย์ แก้วมณี',\n",
              "       'ดร.อุษณีย์ กิตกาธร', 'ดร.รัตน บริสุทธิกุล',\n",
              "       'ดร.วีรยุทธ เลิศบำรุงสุข', 'อาจารย์อมเรศ บกสุวรรณ',\n",
              "       ' อาจารย์ ธรรมรัฏฐ์ สมิตะลัมพะ', 'อ.ดร.ณัฐ ธัชยะพงษ์',\n",
              "       'ผศ.ดร.ประจวบ กล่อมจิตร', 'อาจารย์ อภิชาต วสุธาพิทักษ์',\n",
              "       'ผศ. วันชัย  ลีลากวีวงศ์', 'อาจารย์ ธรรมวิชช์ ประเสริฐ',\n",
              "       ' อ.ดร.ณัฐพล ศิริสว่าง', 'ดร.บุญชัย ผึ้งไผ่งาม',\n",
              "       'ผศ.ดร.จินดารัตน์ มณีเจริญ', 'ผศ.ดร.ศิริรัตน์ วัชรวิชานันท์',\n",
              "       'ผศ.ดร.โอกร เมฆาสุวรรณดำรง', 'Daniel Balasubramanian',\n",
              "       'David DeLapp', 'Rossane DeLapp', 'ดร.พุทธพล ทองอินทร์ดำ',\n",
              "       'อาจารย์รำพึง ชัยหลีเจริญ', 'อาจารย์ศุภกร ศิรพจนกุล',\n",
              "       'John Kinnebrew', 'Douglas Adams', 'อ. นิยม พินิจการ',\n",
              "       'Karen Haberstroh', 'Bruce Caswell', 'Ankit Srivastava',\n",
              "       'Christian Franck\\xa0\\xa0', 'Tuhina Adit Maark', 'Jennifer Franck',\n",
              "       'Patrick McHugh', 'Brian Burke', 'David Carchedi',\n",
              "       'Gregory Jay, M.D., PhD', 'Chad Jenkins', 'Naba Karan',\n",
              "       'Brian\\xa0Corkum', 'Ann Hanna', 'Martin Maxey', 'Yiyi Yang\\xa0',\n",
              "       'Daegyoum Kim', 'Jin Ho Kim', 'Liang Guo\\xa0', 'R. Iris Bahar',\n",
              "       'Robert Hurt\\xa0\\xa0', 'Kyung-Suk Kim\\xa0\\xa0',\n",
              "       'รศ.ดร. สมใจ ขจรชืพพันธุ์งาม', 'Mark Fuller',\n",
              "       'ผศ.ดร.ศุภสิทธิ์   รอดขวัญ', 'อ.ดร.วิทิต  ฉัตรรัตนกุลชัย',\n",
              "       'Mr.Akram\\xa0 Dallalah', 'รศ.ดร.ปองวิทย์\\xa0 ศิริโพธิ์',\n",
              "       'รศ.ดร.ธัญญะ  เกียรติวัฒน์', 'นายพีรพล  เวชสุวรรณมณี',\n",
              "       'ผศ.ดร.พัชราภรณ์\\xa0 บุณยวานิชกุล', 'ผศ.ดร.พีระยศ   แสนโภชน์',\n",
              "       'ผศ.ดร.ปานจิต  ดำรงกุลกำจร', ' รศ.ดร.ณัฏฐกา  หอมทรัพย์',\n",
              "       'อ.ดร.ดุสิต    ธนเพทาย', 'อ.ณัฐวุฒิ  ชินธเนศ', 'Richard Dobbins',\n",
              "       'L.B. Freund', 'Laurenz Hermann', 'Ted Morse', 'Allan Pearson',\n",
              "       'Donald Stanford', 'ผศ.ดร.วรฐ   คูหิรัญ',\n",
              "       'ผศ.สุวิทย์   เจิมสวัสดิพงษ์', 'ผศ.ดร.ชัชพล   ชังชู',\n",
              "       'ผศ.ดร.เกรียงไกร  อัศวมาศบันลือ', 'นางสาวจินดา\\xa0 คุ้มงาน',\n",
              "       'ดร.ชินภัทร\\xa0 ทิพโยภาส', 'ดร.ญาณิศา ละอองอุทัย',\n",
              "       'อ. บัณฑร จิตต์สุภาพ', 'อ.ดร. นรรัตน์ วัฒนมงคล',\n",
              "       'ผู้ช่วยศาสตราจารย์ ดร.ปาจรีย์ ทองสนิท', 'อ.ดร. เล็ก วันทา',\n",
              "       'รศ.ดร.ปรณัฐ   วิสุวรรณ', 'รศ.สมาน   เจริญกิจพูลผล',\n",
              "       'รศ.มนตรี   พิรุณเกษตร', 'อ. เอกชัย สุธีรศักดิ์',\n",
              "       'ผศ. ดร. ณยศ คุรุกิจโกศล', 'อ.ดร. วีรพร พงศ์ติณบุตร',\n",
              "       'อ.ดร. โชคชัย ชื่นวัฒนาประณิธิ', 'อ.ดร. เฉลิมภัณฑ์ ฟองสมุทร',\n",
              "       'ผศ.ดร. สุรเมศวร์ พิริยะวัฒน์', 'อ.ดร. ปราโมทย์ ลายประดิษฐ์',\n",
              "       'อ.ดร. อภิรัฐ ลิ่มมณี', 'อ.ดร. โกวิท มาศรัตน',\n",
              "       'อ. เสฎฐกรณ์ อุปเสน', 'อ.ดร. สิทธิภัสร์ เอื้ออภิวัชร์',\n",
              "       'ผศ.วัชระ   เครือรัฐติกาล', 'อาจารย์นพรัตน์ สีหะวงษ์',\n",
              "       'ผู้ช่วยศาสตราจารย์ ดร. กุลยศ อุดมวงศ์เส',\n",
              "       'อาจารย์ศิริกาญจน์ ขันสัมฤทธิ์', 'อาจารย์สุชาดา อิศราภรณ์',\n",
              "       'อาจารย์ปิยนันท์ บุญพยัคฆ์', 'ดร.ภมรรัตน์ จันธรรม',\n",
              "       'รองศาสตราจารย์ ดร.ปฐมศก วิไลพล',\n",
              "       'ผู้ช่วยศาสตราจารย์ ดร.ขวัญชัย ไกรทอง', 'ดร.รัตนา การุญบุญญานันท์',\n",
              "       'อ.ศุภชัย วาสนานนท์', 'อ.วิชุดา เมตตานันท', 'ดร.ธนพล เพ็ญรัตน์',\n",
              "       'ดร.จิรภัทร์ อนันต์ภัทรชัย',\n",
              "       'ผู้ช่วยศาสตราจารย์ ดร.อภิชัย ฤตวิรุฬห์', 'ดร.โพธิ์งาม สมกุล',\n",
              "       'อ.ศิวะพงศ์ เพ็ชรสงค์', 'ดร.ฐิติวัฒน์ สืบสุวงศ์',\n",
              "       'Dr. Toshiaki Kondo', 'Somsak Kittipiyakul',\n",
              "       'ผศ.ดร.ปูมยศ   วัลลิกุล', 'Curriculum Vitae',\n",
              "       'ผศ.ดร.นันทกานต์ วงศ์เกษม', 'Warangkana Saengsoy',\n",
              "       'Nirattaya Khamsemanan, Ph.D', 'ผศ.ดร.เพชร เจียรนัยศิลาวงศ์',\n",
              "       'รศ.ดร.ชาญยุทธ โกลิตะวงษ์', 'อ. ดร. ทินกร คำแสน',\n",
              "       'ดร.ทศพล ตรีรุจิราภาพงศ์', 'อ. ณัฏฐวรรธ ธนประดิษฐ์กูล',\n",
              "       'ผศ.พนมกร ขวาของ', 'ดร.สุเมธ เหมะวัฒนะชัย',\n",
              "       'อาจารย์ ดร. กนก วีรวงศ์', 'ผศ.ดร.ธันวา ศรีประโมง',\n",
              "       'ผศ.ดร.ถาวร ธีรเวชญาณ', 'ผู้ช่วยศาสตราจารย์ ศิษฐ์ภัณฑ์ แคนลา',\n",
              "       'ผศ.ดร.กษมา ศิริสมบูรณ์', 'อ.ดร.เดชาพันธ์ รัฐศาสนศาสตร์ ',\n",
              "       'ดร.จตุพล ตั้งปกาศิต', 'ดร.วีระศักดิ์ ละอองจันทร์',\n",
              "       'ดร.ศุภสิทธิ พงศ์ศิวะสถิตย์', 'อาจารย์สมพิศ ตันตวรนาท',\n",
              "       'อาจารย์กำธรเกียรติ มุสิเกต', 'ผศ. สุขุม  โฆษิตชัยมงคล',\n",
              "       'อ.ดร.ธิบดินทร์ แสงสว่าง', 'อ.จันทนา สังวรโยธิน',\n",
              "       'อ.ดร. กัญจนา  ทองสนิท', 'อาจารย์ วรฤทัย ชูเทียร',\n",
              "       'อาจารย์ มนตรี พิพัฒน์ไพบูลย์', 'อ. มัลลิกา ถาบุตร', 'Lisa Bliss',\n",
              "       'อ.ดร. ธนา ราษฎร์ภักดี ', 'ผศ. ปฏิพัทธ์  หงษ์สุวรรณ',\n",
              "       'อ.ดร. สุจินต์  วุฒิชัยวัฒน์', 'ผศ.ดร. ไพฑูรย์ กิติสุนทร',\n",
              "       'ดร.นพพณ เลิศชูวงศา', 'ผศ.ดร.พรวสา วงษ์ปัญญา',\n",
              "       'อ.ดร.สุภกิจ รูปขันธ์', 'ผศ.ดร. อภิชาติ หีดนาคราม',\n",
              "       'ดร. วศิมน พาณิชพัฒนกุล', 'Kenneth Breuer', 'Angus Kingon\\xa0',\n",
              "       'Jonathan Galli', 'Larry Howard', 'Michael James',\n",
              "       'David Paine\\xa0\\xa0', 'Huajian Gao', 'David Henann',\n",
              "       'Anthony\\xa0McCormick', 'Jerry Daniels', 'Sean C. Deoni',\n",
              "       'Pedro F. Felzenszwalb', 'Ronald Dunn', 'Kai Yan', 'Rod Beresford',\n",
              "       'Paul\\xa0Waltz', 'Marcelo Dias', 'Benjamin Lyons',\n",
              "       'J.J. Trey Crisco', 'John Donoghue', 'Caroline Klivans',\n",
              "       'Diane Hoffman-Kim', 'Selim Suner', 'Jay Tang', 'Gang Xiao',\n",
              "       'Gabriel Taubin\\xa0\\xa0', 'Rick Fleeter', 'Andrew Gabor',\n",
              "       'Steven Petteruti', 'Jon Cohen', 'William Curtin', 'Vladan Mlinar',\n",
              "       'Joseph Mundy', 'Sherief Reda\\xa0', 'Peter Damian Richardson\\xa0',\n",
              "       'Andrew Peterson\\xa0', 'Gustavo Fernandes\\xa0', 'Nico Frick',\n",
              "       'Jim Rice', 'Emre Sari', 'John Simeral', 'Indrek Kulaots',\n",
              "       'William Patterson', 'Anita Shukla', 'อ.ดร.วินัย   พฤกษะวัน',\n",
              "       'Rodney Clifton', 'ผศ.ดร. วันเช็ง สิทธิกิจโยธิน',\n",
              "       'อ.วิศว์\\xa0\\xa0 ศรีพวาทกุล', 'รศ.วุฒิชัย    กปิลกาญจน์',\n",
              "       'รศ.ดร.สันติ   ลักษิตานนท์', 'ดร.อารยา\\xa0 ศักดิ์บูรณาเพชร',\n",
              "       'รศ.ดร.เกียรติยุทธ    กวีญาณ', 'นางปาริชาต\\xa0 เชยพิม',\n",
              "       'อ.ลัคน์   จันทนภาพ', 'อ.กุลภวา  จามรมาน',\n",
              "       'ผศ.ดร.ปฐมาภรณ์  ศรีผดุงธรรม', 'อ.ดร.ยศวีร์  วีระกำแหง',\n",
              "       'รศ.วรวรรณ   ศรีฉัตราภิมุข', 'ผศ.ดร.ชูเกียรติ  การะเกตุ',\n",
              "       'ผศ.ดร.สมหญิง   ไทยนิมิต', 'อ.กาญจนพันธุ์ สุขวิชชัย ',\n",
              "       'รศ.ดร.มงคล  รักษาพัชรวงศ์', 'ผศ.ดร.วชิระ   จงบุรี',\n",
              "       'Vivek Shenoy', 'Ian Wong', 'William Wolovich',\n",
              "       'รศ.ดร. ธงชัย ศรีวิริยรัตน์', 'อ. ทนงศักดิ์ เทพสนธิ',\n",
              "       'รศ.ดร.วรางค์รัตน์   จันทสาโร', 'อ.ดร.ธเนศ   อรุณศรีโสภณ',\n",
              "       'อ.ดร. วรัตถา อุทยารัตน์', 'อาจารย์เกตุชนา บุญฤทธิ์',\n",
              "       'ดร.พิสุทธิ์ อภิชยกุล', 'ดร.ชัยธำรง พงศ์พัฒนศิริ',\n",
              "       'ดร.เอมม่า อาสนจินดา \\xa0', 'ผศ.ดร.ไพลิน เงาตระการวิวัฒน์',\n",
              "       'อ.ดร. วรรณวรางค์ รัตนานิคม', 'อ.ดร. จักรวาล คุณะดิลก',\n",
              "       'อ. ชาญชัย พลตรี', 'ผศ.ดร.วันเช็ง สิทธิกิจโยธิน',\n",
              "       'อ. ธนาวดี เพชรยศ', 'อ.ดร. บัญชา อริยะจรรยา',\n",
              "       'อ. ฉวีกาญจน์ สันทัสนะโชค', 'อ. เชิดพงษ์ สีดาว',\n",
              "       'อ.ดร. ชัยวัฒน์ กันหารี', 'อ.ดร. เจริญ ชินวานิชย์เจริญ',\n",
              "       'ผศ.ดร. ปิยฉัตร วัฒนชัย', 'ผศ.ดร. สร้อยพัทธา สร้อยสุวรรณ',\n",
              "       'อาจารย์ชุลีพรย์ ป่าไร่', 'ผศ.ดร. กิตติพงศ์ บุญโล่ง',\n",
              "       'ผศ.ดร. วิทวัส แจ้งเอี่ยม', 'อ.ดร. วชิรา ดาวสุด',\n",
              "       'ผศ. อุทัย ประสพชิงชนะ', 'อ. สุรชาติ เหล็กงาม',\n",
              "       'อ.ดร. เจษฎา สายใจ', 'อาจารย์กฤษณา พูลสวัสดิ์',\n",
              "       'อาจารย์อาภาภรณ์ จันทร์ปิรักษ์', 'อาจารย์ธนวัฒน์ พลพิทักษ์ชัย',\n",
              "       'อ.ดร. ภัคพงศ์ จันทเปรมจิตต์', 'อาจารย์วรางค์ลักษณ์ ซ่อนกลิ่น ',\n",
              "       'อ.ดร. พัชรี ธีระเอก', 'ผศ.ดร. วรเชษฐ์ ภิรมย์ภักดิ์',\n",
              "       'อ. ดร. สมเจต ศุภรังสรรค์', 'อ.ดร. วิศรุดา ศุภรังสรรค์',\n",
              "       'อ.ดร. จันทนา ปัญญาวราภรณ์',\n",
              "       'ผู้ช่วยศาสตราจารย์ ดร.ปิยะนันท์ เจริญสวรรค์',\n",
              "       'ผศ.ดร. วิเชียร ชาลี', 'อ. ไพบูลย์ ลิ้มปิติพานิชย์',\n",
              "       'อ.ดร. ปิยะฉัตร ฉัตรตันใจ', 'รศ.ดร.สุจินต์ บุรีรัตน์',\n",
              "       'รศ.ดร.วิบูลย์   ชื่นแขก ', 'Steven Gordon', 'NGUYEN DUY HUNG',\n",
              "       'ผศ.ดร.เพชร   เจียรนัยศิลาวงศ์',\n",
              "       'นาวาอากาศโท ดร.เพิ่มศักดิ์  ศิริพละ', 'ดร.ภาณุ บูรณจารุกร',\n",
              "       'ไพบูลย์ ศรีอรุโณทัย (Ph. D.)', 'Alice Sharp',\n",
              "       'ผศ.ดร.ยงยุทธ ชนบดีเฉลิมรุ่ง', 'ผศ.ดร. กอปร ศรีนาวิน',\n",
              "       'อ. ชวิศ ศรีจันทร์', 'ดร.วรลักษณ์ คงเด่นฟ้า', 'ดร.พนัส นัถฤทธิ์',\n",
              "       'พันเอก ดร. วีรวัฒน์   ขาวสุข', 'พิเชษฐ์\\xa0สนิทเหลือ',\n",
              "       'ผศ.ดร.นิติพงศ์ โสภณพงศ์พิพัฒน์', 'ผศ.ดร.สาโรช พูลเทพ',\n",
              "       'อาจารย์ปองพันธ์ โอทกานนท์', 'อาจารย์ธณิกานต์ ธงชัย',\n",
              "       'ดร.ประกร รามกุล ', 'อาจารย์สุรัตน์ ปัญญาแก้ว',\n",
              "       'ผศ.จารุตม์ คุณานพดล', 'อ.ปรเมศร์ อารมย์ดี',\n",
              "       'ผศ.ดร.ปิติศานต์ กร้ำมาตร', 'ผศ.นิรชร นกแก้ว', 'ดร.มาโนช รุจิภากร',\n",
              "       'อ.ดร. อธิป เหลืองไพโรจน์', 'ผศ.ดร. สุธาสินี เนรมิตตกพงศ์',\n",
              "       'รศ.ดร.กันยรัตน์ โหละสุต', 'ผศ.ดร. ธเนศ เสถียรนาม',\n",
              "       'อ.ดร.ดลฤดี  หอมดี', 'รศ.ดร. สมใจ ขจรชีพพันธุ์งาม',\n",
              "       'อาจารย์ ธรวิภา พวงเพ็ชร (หัวหน้าภาควิชาฯ)',\n",
              "       'อาจารย์สิทธิโชค ผูกพันธุ์', 'อาจารย์ ดร.นำพล มหายศนันท์',\n",
              "       'พันโท ดร. อำพันธ์  จันทร์เพ็งเพ็ญ', 'ดร.ฐาปนีย์ พัชรวิชญ์',\n",
              "       'ดร.สารัมภ์ บุญมี', 'อาจารย์กุลจรี ตันตยกุล', 'ดร.กุลยา สาริชีวิน',\n",
              "       'อาจารย์สุธี ปิยะพิพัฒน์', 'ดร. วโรดม วีระพันธ์',\n",
              "       'Larry Larson\\xa0\\xa0', 'Junhwan Jeon', 'Larry Larson',\n",
              "       'Hyokyung Sung', 'Zachary Saleeba', 'Charlie\\xa0Vickers\\xa0',\n",
              "       'Mick Howell', 'Ill Ryu', 'Xin Su', 'Leigh Hochberg\\xa0',\n",
              "       'Benjamin Kimia\\xa0\\xa0', 'Sharvan Kumar\\xa0\\xa0',\n",
              "       'อาจารย์ยุทนา ไผทรัตน์', 'อ.ณัฐวุฒิ ธาราวดี', 'Rashid Zia\\xa0\\xa0',\n",
              "       'Harvey Silverman\\xa0\\xa0', 'Eric Suuberg\\xa0\\xa0', 'Julie Marton',\n",
              "       'Sharon Swartz', 'Stefanie Tellex', 'Domenico Pacifici\\xa0\\xa0',\n",
              "       'Nabil Lawandy', 'Kareen Coulombe', 'Eric Chason\\xa0\\xa0',\n",
              "       'Anubhav Tripathi\\xa0\\xa0', 'Barrett Hazeltine',\n",
              "       'Robert Petteruti', 'Ming Yin', 'David Durfee', 'Ian Gonsher',\n",
              "       'George Hradil', 'Joseph Liu\\xa0\\xa0', 'Shreyas Mandre\\xa0\\xa0',\n",
              "       'Hyewon Kim', 'Seokki Kim', 'Jennifer Casasanto', 'Peter Horvath',\n",
              "       'Alan Needleman', 'อ.ดร.ชัยยากร   จันทร์สุวรรณ์',\n",
              "       'อ.ดร.นัยสันต์  อภิวัฒนลังการ',\n",
              "       'ผศ.ดร.ดุลย์พิเชษฐ์   ฤกษ์ปรีดาพงศ์', 'ดร.ฐิติวัฒน์\\xa0 สืบสุวงศ์',\n",
              "       'อ.ธนพัฒน์\\xa0 เกิดสุข', 'รศ.ดร.ชวลิต   กิตติชัยการ',\n",
              "       'รศ.สุรพล    พฤกษพานิช', 'ผศ.ดร.เด่นชัย  วรเศวต',\n",
              "       'อ.ดร.กรรมมันต์   ชูประเสริฐ', 'ผศ.ดร.วิชัย   ศิวะโกศิษฐ',\n",
              "       'ผศ.ธงชัย   หฤทัยสดใส', 'อ.ดร.สุเนตร  พรานนท์สถิตย์',\n",
              "       'อ.ดร.พูนลาภ  ลามศรีจันทร์', 'อ.ดร.เอกชัย  ไพศาลกิตติสกุล',\n",
              "       '\\xa0ดร.มนต์ชัย\\xa0 สุระรัตน์ชัย', 'ดร.นวทัศน์\\xa0 ก้องสมุทร',\n",
              "       'ดร.ชนินทร์\\xa0 ตรงจิตภักดี', 'นางสุรี\\xa0 จิตโสภิณ',\n",
              "       'นายประมุข\\xa0 จันสุริยวงศ์', 'นายศักดาเรศ\\xa0 พรมยะกลาง',\n",
              "       'ผศ.ดร.ศรีจิตรา  เจริญลาภนพรัตน์', 'รศ.ดร.วุฒิพงศ์  อารีกุล',\n",
              "       'Sebastjan Glinsek', 'Michael Francis\\xa0',\n",
              "       'รองศาสตราจารย์ ดร.ศรินทร์ทิพย์ แทนธานี', 'ดร.สมบัติ ชื่นชูกลิ่น ',\n",
              "       'รองศาสตราจารย์ ดร.พวงรัตน์ ขจิตวิชยานุกูล',\n",
              "       'อ.ดร. พัทรพงษ์ อาสนจินดา', 'ผศ.มยุรี   เทศผล',\n",
              "       'อ.ดร. ปิติ โรจน์วรรณสินธุ์', 'อ.ดร. เพชร์รัตน์ ลิ้มสุปรียารัตน์',\n",
              "       'อาจารย์ภัคพงศ์ หอมเนียม', 'ดร.ดุษฎี สถิรเศรษฐทวี',\n",
              "       'ผู้ช่วยศาสตราจารย์ ดร.ภูพงษ์ พงษ์เจริญ',\n",
              "       'ผศ. ศรีสัจจา วิทยศักดิ์', 'อ.ดร. อมรชัย ใจยงค์',\n",
              "       'ผศ.ดร.ณัฐศักดิ์   บุญมี', 'อ. ศุภศิลป์ ทวีศักดิ์',\n",
              "       'รศ.ดร. เอกรัตน์ วงษ์แก้ว', 'อ.ดร. แดง แซ่เบ๊',\n",
              "       'ผู้ช่วยศาสตราจารย์.ดร.สสิกรณณ์ เหลืองวิชชเจริญ ',\n",
              "       'ผศ.ดร. ธรรมนูญ รัศมีมาสเมือง', 'ผศ.ดร. สยาม ยิ้มศิริ',\n",
              "       'อาจารย์อำพล เตโชวาณิชย์', 'อ. ปฏิภาณ บุญรวม',\n",
              "       'ผศ.ดร. ไพลิน เงาตระการวิวัฒน์', 'อ.ดร. ฤภูวัลย์ จันทรสา',\n",
              "       'อ. เที่ยง ชีวะเกตุ', 'อ.ดร. นพคุณ บุญกระพือ',\n",
              "       'รศ.เกียรติไกร  อายุวัฒน์', 'นส.พรรณทิพย์\\xa0 ชั่งทอง',\n",
              "       'ผู้ช่วยศาสตราจารย์ ทิพย์วิมล แตะกระโทก', 'ดร.สุธนิตย์ พุทธพนม',\n",
              "       'อาจารย์วัฒนชัย เยาวรัตน์', 'ผศ.ดร. ภาวิณี ศักดิ์สุนทรศิริ',\n",
              "       'อ. ณัฐพันธ์ ถนอมสัตย์', 'อ.ดร. มัณฑนา รังสิโยภาส'], dtype=object)"
            ]
          },
          "metadata": {
            "tags": []
          },
          "execution_count": 178
        }
      ]
    },
    {
      "cell_type": "code",
      "metadata": {
        "id": "dIgK0LYb3Wnt"
      },
      "source": [
        "df_unique_name = pd.DataFrame(uniq_name,columns=['_source.name'])"
      ],
      "execution_count": 179,
      "outputs": []
    },
    {
      "cell_type": "code",
      "metadata": {
        "colab": {
          "base_uri": "https://localhost:8080/",
          "height": 402
        },
        "id": "5m5y0htK3YP7",
        "outputId": "f2fc60c5-dd77-450e-9717-fe2250c0317f"
      },
      "source": [
        "df_unique_name"
      ],
      "execution_count": 180,
      "outputs": [
        {
          "output_type": "execute_result",
          "data": {
            "text/html": [
              "<div>\n",
              "<style scoped>\n",
              "    .dataframe tbody tr th:only-of-type {\n",
              "        vertical-align: middle;\n",
              "    }\n",
              "\n",
              "    .dataframe tbody tr th {\n",
              "        vertical-align: top;\n",
              "    }\n",
              "\n",
              "    .dataframe thead th {\n",
              "        text-align: right;\n",
              "    }\n",
              "</style>\n",
              "<table border=\"1\" class=\"dataframe\">\n",
              "  <thead>\n",
              "    <tr style=\"text-align: right;\">\n",
              "      <th></th>\n",
              "      <th>_source.name</th>\n",
              "    </tr>\n",
              "  </thead>\n",
              "  <tbody>\n",
              "    <tr>\n",
              "      <th>0</th>\n",
              "      <td>ผศ.ดร. สุธาทิพย์ สวนมะลิ</td>\n",
              "    </tr>\n",
              "    <tr>\n",
              "      <th>1</th>\n",
              "      <td>WAREE \\r\\nKONGPRAWECHNON</td>\n",
              "    </tr>\n",
              "    <tr>\n",
              "      <th>2</th>\n",
              "      <td>Chalermchai Wanichlamlert</td>\n",
              "    </tr>\n",
              "    <tr>\n",
              "      <th>3</th>\n",
              "      <td>Nattharika Rittippant, Ph.D.</td>\n",
              "    </tr>\n",
              "    <tr>\n",
              "      <th>4</th>\n",
              "      <td>ผศ.ดร. พรพิมล จงไพศาล</td>\n",
              "    </tr>\n",
              "    <tr>\n",
              "      <th>...</th>\n",
              "      <td>...</td>\n",
              "    </tr>\n",
              "    <tr>\n",
              "      <th>690</th>\n",
              "      <td>ดร.สุธนิตย์ พุทธพนม</td>\n",
              "    </tr>\n",
              "    <tr>\n",
              "      <th>691</th>\n",
              "      <td>อาจารย์วัฒนชัย เยาวรัตน์</td>\n",
              "    </tr>\n",
              "    <tr>\n",
              "      <th>692</th>\n",
              "      <td>ผศ.ดร. ภาวิณี ศักดิ์สุนทรศิริ</td>\n",
              "    </tr>\n",
              "    <tr>\n",
              "      <th>693</th>\n",
              "      <td>อ. ณัฐพันธ์ ถนอมสัตย์</td>\n",
              "    </tr>\n",
              "    <tr>\n",
              "      <th>694</th>\n",
              "      <td>อ.ดร. มัณฑนา รังสิโยภาส</td>\n",
              "    </tr>\n",
              "  </tbody>\n",
              "</table>\n",
              "<p>695 rows × 1 columns</p>\n",
              "</div>"
            ],
            "text/plain": [
              "                      _source.name\n",
              "0         ผศ.ดร. สุธาทิพย์ สวนมะลิ\n",
              "1         WAREE \\r\\nKONGPRAWECHNON\n",
              "2        Chalermchai Wanichlamlert\n",
              "3     Nattharika Rittippant, Ph.D.\n",
              "4            ผศ.ดร. พรพิมล จงไพศาล\n",
              "..                             ...\n",
              "690            ดร.สุธนิตย์ พุทธพนม\n",
              "691       อาจารย์วัฒนชัย เยาวรัตน์\n",
              "692  ผศ.ดร. ภาวิณี ศักดิ์สุนทรศิริ\n",
              "693          อ. ณัฐพันธ์ ถนอมสัตย์\n",
              "694        อ.ดร. มัณฑนา รังสิโยภาส\n",
              "\n",
              "[695 rows x 1 columns]"
            ]
          },
          "metadata": {
            "tags": []
          },
          "execution_count": 180
        }
      ]
    },
    {
      "cell_type": "code",
      "metadata": {
        "id": "sJ1u9QHg3LaQ"
      },
      "source": [
        "start_id = 547926\n",
        "df_unique_name['id'] = df_unique_name.index + start_id"
      ],
      "execution_count": 181,
      "outputs": []
    },
    {
      "cell_type": "code",
      "metadata": {
        "colab": {
          "base_uri": "https://localhost:8080/",
          "height": 402
        },
        "id": "FJRhQNuQ3aMC",
        "outputId": "2af29945-dc7d-4498-938f-8026cca08c2f"
      },
      "source": [
        "df_unique_name"
      ],
      "execution_count": 182,
      "outputs": [
        {
          "output_type": "execute_result",
          "data": {
            "text/html": [
              "<div>\n",
              "<style scoped>\n",
              "    .dataframe tbody tr th:only-of-type {\n",
              "        vertical-align: middle;\n",
              "    }\n",
              "\n",
              "    .dataframe tbody tr th {\n",
              "        vertical-align: top;\n",
              "    }\n",
              "\n",
              "    .dataframe thead th {\n",
              "        text-align: right;\n",
              "    }\n",
              "</style>\n",
              "<table border=\"1\" class=\"dataframe\">\n",
              "  <thead>\n",
              "    <tr style=\"text-align: right;\">\n",
              "      <th></th>\n",
              "      <th>_source.name</th>\n",
              "      <th>id</th>\n",
              "    </tr>\n",
              "  </thead>\n",
              "  <tbody>\n",
              "    <tr>\n",
              "      <th>0</th>\n",
              "      <td>ผศ.ดร. สุธาทิพย์ สวนมะลิ</td>\n",
              "      <td>547926</td>\n",
              "    </tr>\n",
              "    <tr>\n",
              "      <th>1</th>\n",
              "      <td>WAREE \\r\\nKONGPRAWECHNON</td>\n",
              "      <td>547927</td>\n",
              "    </tr>\n",
              "    <tr>\n",
              "      <th>2</th>\n",
              "      <td>Chalermchai Wanichlamlert</td>\n",
              "      <td>547928</td>\n",
              "    </tr>\n",
              "    <tr>\n",
              "      <th>3</th>\n",
              "      <td>Nattharika Rittippant, Ph.D.</td>\n",
              "      <td>547929</td>\n",
              "    </tr>\n",
              "    <tr>\n",
              "      <th>4</th>\n",
              "      <td>ผศ.ดร. พรพิมล จงไพศาล</td>\n",
              "      <td>547930</td>\n",
              "    </tr>\n",
              "    <tr>\n",
              "      <th>...</th>\n",
              "      <td>...</td>\n",
              "      <td>...</td>\n",
              "    </tr>\n",
              "    <tr>\n",
              "      <th>690</th>\n",
              "      <td>ดร.สุธนิตย์ พุทธพนม</td>\n",
              "      <td>548616</td>\n",
              "    </tr>\n",
              "    <tr>\n",
              "      <th>691</th>\n",
              "      <td>อาจารย์วัฒนชัย เยาวรัตน์</td>\n",
              "      <td>548617</td>\n",
              "    </tr>\n",
              "    <tr>\n",
              "      <th>692</th>\n",
              "      <td>ผศ.ดร. ภาวิณี ศักดิ์สุนทรศิริ</td>\n",
              "      <td>548618</td>\n",
              "    </tr>\n",
              "    <tr>\n",
              "      <th>693</th>\n",
              "      <td>อ. ณัฐพันธ์ ถนอมสัตย์</td>\n",
              "      <td>548619</td>\n",
              "    </tr>\n",
              "    <tr>\n",
              "      <th>694</th>\n",
              "      <td>อ.ดร. มัณฑนา รังสิโยภาส</td>\n",
              "      <td>548620</td>\n",
              "    </tr>\n",
              "  </tbody>\n",
              "</table>\n",
              "<p>695 rows × 2 columns</p>\n",
              "</div>"
            ],
            "text/plain": [
              "                      _source.name      id\n",
              "0         ผศ.ดร. สุธาทิพย์ สวนมะลิ  547926\n",
              "1         WAREE \\r\\nKONGPRAWECHNON  547927\n",
              "2        Chalermchai Wanichlamlert  547928\n",
              "3     Nattharika Rittippant, Ph.D.  547929\n",
              "4            ผศ.ดร. พรพิมล จงไพศาล  547930\n",
              "..                             ...     ...\n",
              "690            ดร.สุธนิตย์ พุทธพนม  548616\n",
              "691       อาจารย์วัฒนชัย เยาวรัตน์  548617\n",
              "692  ผศ.ดร. ภาวิณี ศักดิ์สุนทรศิริ  548618\n",
              "693          อ. ณัฐพันธ์ ถนอมสัตย์  548619\n",
              "694        อ.ดร. มัณฑนา รังสิโยภาส  548620\n",
              "\n",
              "[695 rows x 2 columns]"
            ]
          },
          "metadata": {
            "tags": []
          },
          "execution_count": 182
        }
      ]
    },
    {
      "cell_type": "code",
      "metadata": {
        "id": "9TXy3VgRyzV5"
      },
      "source": [
        ""
      ],
      "execution_count": 182,
      "outputs": []
    },
    {
      "cell_type": "markdown",
      "metadata": {
        "id": "C3pxYJNm3DmF"
      },
      "source": [
        "# df_author"
      ]
    },
    {
      "cell_type": "code",
      "metadata": {
        "id": "ht-D_K5233Fk"
      },
      "source": [
        "def is_english(str):\n",
        "    for i in str:\n",
        "        if i in ('A','B','C','D','E','F','G','H','I','J','K','L','M','N','O','P','Q','R','S','T','U','V','W','X','Y','Z','a','b','c','d','e','f','g','h','i','j','k','l','m','n','o','p','q','r','s','t','u','v','w','x','y','z'):\n",
        "            return True\n",
        "    else:    \n",
        "        return False\n",
        "\n",
        "def is_thai(str):\n",
        "    for i in str:\n",
        "        if i in ('ก','ข','ฃ','ค','ฅ','ฆ','ง','จ','ฉ','ช','ซ','ฌ','ญ','ฎ','ฏ','ฐ','ฑ','ฒ','ณ','ด','ต','ถ','ท','ธ','น','บ','ป','ผ','ฝ','พ','ฟ','ภ','ม','ย','ร','ล','ว','ศ','ษ','ส','ห','ฬ','อ','ฮ'):\n",
        "            return True\n",
        "    else:\n",
        "        return False\n",
        "\n",
        "def language(text):\n",
        "    if is_english(text):\n",
        "      return 'eng'\n",
        "    elif is_thai(text):\n",
        "      return 'th'\n",
        "    else:\n",
        "      return 'other'\n",
        "\n",
        "def strip_row(text):\n",
        "    text = text.strip()\n",
        "    text = ' '.join(text.split())\n",
        "    return text\n",
        "\n",
        "def first_name(list_text):\n",
        "    name = ''\n",
        "    if len(list_text) > 0:\n",
        "      name = strip_row(list_text[0])\n",
        "    return name\n",
        "\n",
        "def check_first_author(row):\n",
        "    if pd.isna(row['first_name']):\n",
        "      return 'no'\n",
        "    elif pd.isna(row['new_name']):\n",
        "      return 'no'\n",
        "    elif row['first_name'] == '':\n",
        "      return 'no'\n",
        "    elif row['first_name'] == row['new_name']:\n",
        "      return 'yes'\n",
        "    else:\n",
        "      return 'no'"
      ],
      "execution_count": 183,
      "outputs": []
    },
    {
      "cell_type": "code",
      "metadata": {
        "id": "FFnKwflVg6mR"
      },
      "source": [
        "df_unique_name = df_unique_name.rename(columns={\"_source.name\": \"authFullName\"})"
      ],
      "execution_count": 184,
      "outputs": []
    },
    {
      "cell_type": "code",
      "metadata": {
        "id": "QpFk-t0Qg-wJ"
      },
      "source": [
        "df_unique_name['language'] = df_unique_name['authFullName'].apply(language)"
      ],
      "execution_count": 185,
      "outputs": []
    },
    {
      "cell_type": "code",
      "metadata": {
        "id": "YJmxlZ-phAHR"
      },
      "source": [
        "result_author_thai = df_unique_name[df_unique_name['language']=='th']\n",
        "\n",
        "result_author_eng = df_unique_name[df_unique_name['language']=='eng']\n",
        "\n",
        "result_author_other = df_unique_name[df_unique_name['language']=='other']"
      ],
      "execution_count": 186,
      "outputs": []
    },
    {
      "cell_type": "code",
      "metadata": {
        "colab": {
          "base_uri": "https://localhost:8080/",
          "height": 402
        },
        "id": "Qkl1oUqKhLLq",
        "outputId": "632ae0c8-bf35-45a8-c88c-56d738fc3e19"
      },
      "source": [
        "result_author_thai"
      ],
      "execution_count": 187,
      "outputs": [
        {
          "output_type": "execute_result",
          "data": {
            "text/html": [
              "<div>\n",
              "<style scoped>\n",
              "    .dataframe tbody tr th:only-of-type {\n",
              "        vertical-align: middle;\n",
              "    }\n",
              "\n",
              "    .dataframe tbody tr th {\n",
              "        vertical-align: top;\n",
              "    }\n",
              "\n",
              "    .dataframe thead th {\n",
              "        text-align: right;\n",
              "    }\n",
              "</style>\n",
              "<table border=\"1\" class=\"dataframe\">\n",
              "  <thead>\n",
              "    <tr style=\"text-align: right;\">\n",
              "      <th></th>\n",
              "      <th>authFullName</th>\n",
              "      <th>id</th>\n",
              "      <th>language</th>\n",
              "    </tr>\n",
              "  </thead>\n",
              "  <tbody>\n",
              "    <tr>\n",
              "      <th>0</th>\n",
              "      <td>ผศ.ดร. สุธาทิพย์ สวนมะลิ</td>\n",
              "      <td>547926</td>\n",
              "      <td>th</td>\n",
              "    </tr>\n",
              "    <tr>\n",
              "      <th>4</th>\n",
              "      <td>ผศ.ดร. พรพิมล จงไพศาล</td>\n",
              "      <td>547930</td>\n",
              "      <td>th</td>\n",
              "    </tr>\n",
              "    <tr>\n",
              "      <th>6</th>\n",
              "      <td>รศ.ดร. กฤษ เฉยไสย</td>\n",
              "      <td>547932</td>\n",
              "      <td>th</td>\n",
              "    </tr>\n",
              "    <tr>\n",
              "      <th>9</th>\n",
              "      <td>รศ.ดร.สุรสิทธิ์ ปิยะศิลป์</td>\n",
              "      <td>547935</td>\n",
              "      <td>th</td>\n",
              "    </tr>\n",
              "    <tr>\n",
              "      <th>10</th>\n",
              "      <td>ดร.ต้นคิด   จันทรัศมี</td>\n",
              "      <td>547936</td>\n",
              "      <td>th</td>\n",
              "    </tr>\n",
              "    <tr>\n",
              "      <th>...</th>\n",
              "      <td>...</td>\n",
              "      <td>...</td>\n",
              "      <td>...</td>\n",
              "    </tr>\n",
              "    <tr>\n",
              "      <th>690</th>\n",
              "      <td>ดร.สุธนิตย์ พุทธพนม</td>\n",
              "      <td>548616</td>\n",
              "      <td>th</td>\n",
              "    </tr>\n",
              "    <tr>\n",
              "      <th>691</th>\n",
              "      <td>อาจารย์วัฒนชัย เยาวรัตน์</td>\n",
              "      <td>548617</td>\n",
              "      <td>th</td>\n",
              "    </tr>\n",
              "    <tr>\n",
              "      <th>692</th>\n",
              "      <td>ผศ.ดร. ภาวิณี ศักดิ์สุนทรศิริ</td>\n",
              "      <td>548618</td>\n",
              "      <td>th</td>\n",
              "    </tr>\n",
              "    <tr>\n",
              "      <th>693</th>\n",
              "      <td>อ. ณัฐพันธ์ ถนอมสัตย์</td>\n",
              "      <td>548619</td>\n",
              "      <td>th</td>\n",
              "    </tr>\n",
              "    <tr>\n",
              "      <th>694</th>\n",
              "      <td>อ.ดร. มัณฑนา รังสิโยภาส</td>\n",
              "      <td>548620</td>\n",
              "      <td>th</td>\n",
              "    </tr>\n",
              "  </tbody>\n",
              "</table>\n",
              "<p>480 rows × 3 columns</p>\n",
              "</div>"
            ],
            "text/plain": [
              "                      authFullName      id language\n",
              "0         ผศ.ดร. สุธาทิพย์ สวนมะลิ  547926       th\n",
              "4            ผศ.ดร. พรพิมล จงไพศาล  547930       th\n",
              "6                รศ.ดร. กฤษ เฉยไสย  547932       th\n",
              "9        รศ.ดร.สุรสิทธิ์ ปิยะศิลป์  547935       th\n",
              "10          ดร.ต้นคิด   จันทรัศมี   547936       th\n",
              "..                             ...     ...      ...\n",
              "690            ดร.สุธนิตย์ พุทธพนม  548616       th\n",
              "691       อาจารย์วัฒนชัย เยาวรัตน์  548617       th\n",
              "692  ผศ.ดร. ภาวิณี ศักดิ์สุนทรศิริ  548618       th\n",
              "693          อ. ณัฐพันธ์ ถนอมสัตย์  548619       th\n",
              "694        อ.ดร. มัณฑนา รังสิโยภาส  548620       th\n",
              "\n",
              "[480 rows x 3 columns]"
            ]
          },
          "metadata": {
            "tags": []
          },
          "execution_count": 187
        }
      ]
    },
    {
      "cell_type": "code",
      "metadata": {
        "colab": {
          "base_uri": "https://localhost:8080/",
          "height": 402
        },
        "id": "Ddy41cUvhMYx",
        "outputId": "b59bc6c8-98c2-4690-ea00-947613691166"
      },
      "source": [
        "result_author_eng"
      ],
      "execution_count": 188,
      "outputs": [
        {
          "output_type": "execute_result",
          "data": {
            "text/html": [
              "<div>\n",
              "<style scoped>\n",
              "    .dataframe tbody tr th:only-of-type {\n",
              "        vertical-align: middle;\n",
              "    }\n",
              "\n",
              "    .dataframe tbody tr th {\n",
              "        vertical-align: top;\n",
              "    }\n",
              "\n",
              "    .dataframe thead th {\n",
              "        text-align: right;\n",
              "    }\n",
              "</style>\n",
              "<table border=\"1\" class=\"dataframe\">\n",
              "  <thead>\n",
              "    <tr style=\"text-align: right;\">\n",
              "      <th></th>\n",
              "      <th>authFullName</th>\n",
              "      <th>id</th>\n",
              "      <th>language</th>\n",
              "    </tr>\n",
              "  </thead>\n",
              "  <tbody>\n",
              "    <tr>\n",
              "      <th>1</th>\n",
              "      <td>WAREE \\r\\nKONGPRAWECHNON</td>\n",
              "      <td>547927</td>\n",
              "      <td>eng</td>\n",
              "    </tr>\n",
              "    <tr>\n",
              "      <th>2</th>\n",
              "      <td>Chalermchai Wanichlamlert</td>\n",
              "      <td>547928</td>\n",
              "      <td>eng</td>\n",
              "    </tr>\n",
              "    <tr>\n",
              "      <th>3</th>\n",
              "      <td>Nattharika Rittippant, Ph.D.</td>\n",
              "      <td>547929</td>\n",
              "      <td>eng</td>\n",
              "    </tr>\n",
              "    <tr>\n",
              "      <th>5</th>\n",
              "      <td>Raktipong Sahamitmongkol</td>\n",
              "      <td>547931</td>\n",
              "      <td>eng</td>\n",
              "    </tr>\n",
              "    <tr>\n",
              "      <th>7</th>\n",
              "      <td>Banlue Srisuchinwong, PhD</td>\n",
              "      <td>547933</td>\n",
              "      <td>eng</td>\n",
              "    </tr>\n",
              "    <tr>\n",
              "      <th>...</th>\n",
              "      <td>...</td>\n",
              "      <td>...</td>\n",
              "      <td>...</td>\n",
              "    </tr>\n",
              "    <tr>\n",
              "      <th>635</th>\n",
              "      <td>Jennifer Casasanto</td>\n",
              "      <td>548561</td>\n",
              "      <td>eng</td>\n",
              "    </tr>\n",
              "    <tr>\n",
              "      <th>636</th>\n",
              "      <td>Peter Horvath</td>\n",
              "      <td>548562</td>\n",
              "      <td>eng</td>\n",
              "    </tr>\n",
              "    <tr>\n",
              "      <th>637</th>\n",
              "      <td>Alan Needleman</td>\n",
              "      <td>548563</td>\n",
              "      <td>eng</td>\n",
              "    </tr>\n",
              "    <tr>\n",
              "      <th>660</th>\n",
              "      <td>Sebastjan Glinsek</td>\n",
              "      <td>548586</td>\n",
              "      <td>eng</td>\n",
              "    </tr>\n",
              "    <tr>\n",
              "      <th>661</th>\n",
              "      <td>Michael Francis</td>\n",
              "      <td>548587</td>\n",
              "      <td>eng</td>\n",
              "    </tr>\n",
              "  </tbody>\n",
              "</table>\n",
              "<p>215 rows × 3 columns</p>\n",
              "</div>"
            ],
            "text/plain": [
              "                     authFullName      id language\n",
              "1        WAREE \\r\\nKONGPRAWECHNON  547927      eng\n",
              "2       Chalermchai Wanichlamlert  547928      eng\n",
              "3    Nattharika Rittippant, Ph.D.  547929      eng\n",
              "5        Raktipong Sahamitmongkol  547931      eng\n",
              "7       Banlue Srisuchinwong, PhD  547933      eng\n",
              "..                            ...     ...      ...\n",
              "635            Jennifer Casasanto  548561      eng\n",
              "636                 Peter Horvath  548562      eng\n",
              "637                Alan Needleman  548563      eng\n",
              "660             Sebastjan Glinsek  548586      eng\n",
              "661              Michael Francis   548587      eng\n",
              "\n",
              "[215 rows x 3 columns]"
            ]
          },
          "metadata": {
            "tags": []
          },
          "execution_count": 188
        }
      ]
    },
    {
      "cell_type": "code",
      "metadata": {
        "colab": {
          "base_uri": "https://localhost:8080/",
          "height": 47
        },
        "id": "FWyXI05HLer6",
        "outputId": "75c97e5c-ba6f-460a-dcf7-bb515a577593"
      },
      "source": [
        "result_author_other"
      ],
      "execution_count": 189,
      "outputs": [
        {
          "output_type": "execute_result",
          "data": {
            "text/html": [
              "<div>\n",
              "<style scoped>\n",
              "    .dataframe tbody tr th:only-of-type {\n",
              "        vertical-align: middle;\n",
              "    }\n",
              "\n",
              "    .dataframe tbody tr th {\n",
              "        vertical-align: top;\n",
              "    }\n",
              "\n",
              "    .dataframe thead th {\n",
              "        text-align: right;\n",
              "    }\n",
              "</style>\n",
              "<table border=\"1\" class=\"dataframe\">\n",
              "  <thead>\n",
              "    <tr style=\"text-align: right;\">\n",
              "      <th></th>\n",
              "      <th>authFullName</th>\n",
              "      <th>id</th>\n",
              "      <th>language</th>\n",
              "    </tr>\n",
              "  </thead>\n",
              "  <tbody>\n",
              "  </tbody>\n",
              "</table>\n",
              "</div>"
            ],
            "text/plain": [
              "Empty DataFrame\n",
              "Columns: [authFullName, id, language]\n",
              "Index: []"
            ]
          },
          "metadata": {
            "tags": []
          },
          "execution_count": 189
        }
      ]
    },
    {
      "cell_type": "markdown",
      "metadata": {
        "id": "pcQy8-UfzXW_"
      },
      "source": [
        "# Create Auth Detail"
      ]
    },
    {
      "cell_type": "code",
      "metadata": {
        "id": "JXBypLeeLu6G"
      },
      "source": [
        "result_all = pd.merge(df_new,\n",
        "                       df_unique_name,\n",
        "                       left_on='_source.name',\n",
        "                       right_on='authFullName',\n",
        "                       how='left')"
      ],
      "execution_count": 190,
      "outputs": []
    },
    {
      "cell_type": "code",
      "metadata": {
        "id": "Brxka9FxJVHg"
      },
      "source": [
        "def fulltitle(str):\n",
        "    c = ['ว่าที่','จอมพลพิเศษหญิง','พลเอกพิเศษหญิง','พลโทพิเศษหญิง','พลตรีพิเศษหญิง','พลจัตวาพิเศษหญิง','พันเอกพิเศษหญิง','พันโทพิเศษหญิง','พันตรีพิเศษหญิง','ร้อยเอกพิเศษหญิง','ร้อยโทพิเศษหญิง','ร้อยตรีพิเศษหญิง','จ่าสิบเอกพิเศษพิเศษหญิง','จ่าสิบเอกพิเศษหญิง','จ่าสิบโทพิเศษหญิง','จ่าสิบตรีพิเศษหญิง','สิบเอกพิเศษหญิง','สิบโทพิเศษหญิง','สิบตรีพิเศษหญิง','จอมพลเรือพิเศษหญิง','พลเรือเอกพิเศษหญิง','พลเรือโทพิเศษหญิง','พลเรือตรีพิเศษหญิง','พลเรือจัตวาพิเศษหญิง','นาวาเอกพิเศษหญิง','นาวาโทพิเศษหญิง','นาวาตรีพิเศษหญิง','เรือเอกพิเศษหญิง','เรือโทพิเศษหญิง','เรือตรีพิเศษหญิง','พันจ่าเอกพิเศษหญิง','พันจ่าโทพิเศษหญิง','พันจ่าตรีพิเศษหญิง','จ่าเอกพิเศษหญิง','จ่าโทพิเศษหญิง','จ่าตรีพิเศษหญิง','จอมพลอากาศพิเศษหญิง','พลอากาศเอกพิเศษหญิง','พลอากาศโทพิเศษหญิง','พลอากาศตรีพิเศษหญิง','พลอากาศจัตวาพิเศษหญิง','นาวาอากาศเอกพิเศษหญิง','นาวาอากาศโทพิเศษหญิง','นาวาอากาศตรีพิเศษหญิง','เรืออากาศเอกพิเศษหญิง','เรืออากาศโทพิเศษหญิง','เรืออากาศตรีพิเศษหญิง','พันจ่าอากาศเอกพิเศษหญิง','พันจ่าอากาศโทพิเศษหญิง','พันจ่าอากาศตรีพิเศษหญิง','จ่าอากาศเอกพิเศษหญิง','จ่าอากาศโทพิเศษหญิง','จ่าอากาศตรีพิเศษหญิง','พลตำรวจเอกพิเศษหญิง','พลตำรวจโทพิเศษหญิง','พลตำรวจตรีพิเศษหญิง','พลตำรวจจัตวาพิเศษหญิง','พันตำรวจเอกพิเศษหญิง','พันตำรวจโทพิเศษหญิง','พันตำรวจตรีพิเศษหญิง','ร้อยตำรวจเอกพิเศษหญิง','ร้อยตำรวจโทพิเศษหญิง','ร้อยตำรวจตรีพิเศษหญิง','ดาบตำรวจพิเศษหญิง','จ่าสิบตำรวจพิเศษหญิง','สิบตำรวจเอกพิเศษหญิง','สิบตำรวจโทพิเศษหญิง','สิบตำรวจตรีพิเศษหญิง','จอมพลพิเศษ','พลเอกพิเศษ','พลโทพิเศษ','พลตรีพิเศษ','พลจัตวาพิเศษ','พันเอกพิเศษ','พันโทพิเศษ','พันตรีพิเศษ','ร้อยเอกพิเศษ','ร้อยโทพิเศษ','ร้อยตรีพิเศษ','จ่าสิบเอกพิเศษพิเศษ','จ่าสิบเอกพิเศษ','จ่าสิบโทพิเศษ','จ่าสิบตรีพิเศษ','สิบเอกพิเศษ','สิบโทพิเศษ','สิบตรีพิเศษ','จอมพลเรือพิเศษ','พลเรือเอกพิเศษ','พลเรือโทพิเศษ','พลเรือตรีพิเศษ','พลเรือจัตวาพิเศษ','นาวาเอกพิเศษ','นาวาโทพิเศษ','นาวาตรีพิเศษ','เรือเอกพิเศษ','เรือโทพิเศษ','เรือตรีพิเศษ','พันจ่าเอกพิเศษ','พันจ่าโทพิเศษ','พันจ่าตรีพิเศษ','จ่าเอกพิเศษ','จ่าโทพิเศษ','จ่าตรีพิเศษ','จอมพลอากาศพิเศษ','พลอากาศเอกพิเศษ','พลอากาศโทพิเศษ','พลอากาศตรีพิเศษ','พลอากาศจัตวาพิเศษ','นาวาอากาศเอกพิเศษ','นาวาอากาศโทพิเศษ','นาวาอากาศตรีพิเศษ','เรืออากาศเอกพิเศษ','เรืออากาศโทพิเศษ','เรืออากาศตรีพิเศษ','พันจ่าอากาศเอกพิเศษ','พันจ่าอากาศโทพิเศษ','พันจ่าอากาศตรีพิเศษ','จ่าอากาศเอกพิเศษ','จ่าอากาศโทพิเศษ','จ่าอากาศตรีพิเศษ','พลตำรวจเอกพิเศษ','พลตำรวจโทพิเศษ','พลตำรวจตรีพิเศษ','พลตำรวจจัตวาพิเศษ','พันตำรวจเอกพิเศษ','พันตำรวจโทพิเศษ','พันตำรวจตรีพิเศษ','ร้อยตำรวจเอกพิเศษ','ร้อยตำรวจโทพิเศษ','ร้อยตำรวจตรีพิเศษ','ดาบตำรวจพิเศษ','จ่าสิบตำรวจพิเศษ','สิบตำรวจเอกพิเศษ','สิบตำรวจโทพิเศษ','สิบตำรวจตรีพิเศษ','จอมพลหญิง','พลเอกหญิง','พลโทหญิง','พลตรีหญิง','พลจัตวาหญิง','พันเอกหญิง','พันโทหญิง','พันตรีหญิง','ร้อยเอกหญิง','ร้อยโทหญิง','ร้อยตรีหญิง','จ่าสิบเอกพิเศษหญิง','จ่าสิบเอกหญิง','จ่าสิบโทหญิง','จ่าสิบตรีหญิง','สิบเอกหญิง','สิบโทหญิง','สิบตรีหญิง','จอมพลเรือหญิง','พลเรือเอกหญิง','พลเรือโทหญิง','พลเรือตรีหญิง','พลเรือจัตวาหญิง','นาวาเอกหญิง','นาวาโทหญิง','นาวาตรีหญิง','เรือเอกหญิง','เรือโทหญิง','เรือตรีหญิง','พันจ่าเอกหญิง','พันจ่าโทหญิง','พันจ่าตรีหญิง','จ่าเอกหญิง','จ่าโทหญิง','จ่าตรีหญิง','จอมพลอากาศหญิง','พลอากาศเอกหญิง','พลอากาศโทหญิง','พลอากาศตรีหญิง','พลอากาศจัตวาหญิง','นาวาอากาศเอกหญิง','นาวาอากาศโทหญิง','นาวาอากาศตรีหญิง','เรืออากาศเอกหญิง','เรืออากาศโทหญิง','เรืออากาศตรีหญิง','พันจ่าอากาศเอกหญิง','พันจ่าอากาศโทหญิง','พันจ่าอากาศตรีหญิง','จ่าอากาศเอกหญิง','จ่าอากาศโทหญิง','จ่าอากาศตรีหญิง','พลตำรวจเอกหญิง','พลตำรวจโทหญิง','พลตำรวจตรีหญิง','พลตำรวจจัตวาหญิง','พันตำรวจเอกหญิง','พันตำรวจโทหญิง','พันตำรวจตรีหญิง','ร้อยตำรวจเอกหญิง','ร้อยตำรวจโทหญิง','ร้อยตำรวจตรีหญิง','ดาบตำรวจหญิง','จ่าสิบตำรวจหญิง','สิบตำรวจเอกหญิง','สิบตำรวจโทหญิง','สิบตำรวจตรีหญิง','จอมพล','พลเอก','พลโท','พลตรี','พลจัตวา','พันเอก','พันโท','พันตรี','ร้อยเอก','ร้อยโท','ร้อยตรี','จ่าสิบเอกพิเศษ','จ่าสิบเอก','จ่าสิบโท','จ่าสิบตรี','สิบเอก','สิบโท','สิบตรี','จอมพลเรือ','พลเรือเอก','พลเรือโท','พลเรือตรี','พลเรือจัตวา','นาวาเอก','นาวาโท','นาวาตรี','เรือเอก','เรือโท','เรือตรี','พันจ่าเอก','พันจ่าโท','พันจ่าตรี','จ่าเอก','จ่าโท','จ่าตรี','จอมพลอากาศ','พลอากาศเอก','พลอากาศโท','พลอากาศตรี','พลอากาศจัตวา','นาวาอากาศเอก','นาวาอากาศโท','นาวาอากาศตรี','เรืออากาศเอก','เรืออากาศโท','เรืออากาศตรี','พันจ่าอากาศเอก','พันจ่าอากาศโท','พันจ่าอากาศตรี','จ่าอากาศเอก','จ่าอากาศโท','จ่าอากาศตรี','พลตำรวจเอก','พลตำรวจโท','พลตำรวจตรี','พลตำรวจจัตวา','พันตำรวจเอก','พันตำรวจโท','พันตำรวจตรี','ร้อยตำรวจเอก','ร้อยตำรวจโท','ร้อยตำรวจตรี','ดาบตำรวจ','จ่าสิบตำรวจ','สิบตำรวจเอก','สิบตำรวจโท','สิบตำรวจตรี','หม่อมหลวง','ผู้ช่วยศาสตราจารย์พิเศษ','รองศาสตราจารย์พิเศษ','ศาสตราจารย์พิเศษ','อาจารย์พิเศษ','ผู้ช่วยศาสตราจารย์','รองศาสตราจารย์','ศาสตราจารย์กิตติคุณ','ศาสตราจารย์เกียรติยศ','ศาสตราจารย์','อาจารย์','ทันตแพทย์หญิง','ทันตแพทย์','แพทย์หญิง','นายแพทย์','นางสาว','นาง','นาย','คุณหญิง','ท่านหญิง','ท่านผู้หญิง','หม่อมราชวงศ์หญิง','หม่อมราชวงศ์','หม่อมเจ้าหญิง','หม่อมเจ้า','ฯพณฯ']\n",
        "    d = ['ผู้ช่วยศาสตรจารย์','รองศาตราจารย์','รมว.กระทรวงพาณิชย์']\n",
        "    for i in c:\n",
        "        if str.endswith(i) == True or str in d:\n",
        "            return True\n",
        "    else:\n",
        "        return False\n",
        "def shorttitle(str):\n",
        "    c  = ['พล.อ.','พล.ท.','พล.ต','พล.จ.','พ.อ.','พ.ท.','พ.ต.','ร.อ.','ร.ท.','ร.ต.','จ.ส.อ.','จ.ส.ท.','จ.ส.ต.','ส.อ.','ส.ท.','ส.ต.','พล.ร.อ.','พล.ร.ท.','พล.ร.ต.','พล.ร.จ.','น.อ.','น.ท.','น.ต.','พ.จ.อ.','พ.จ.ท.','พ.จ.ต.','จ.อ.','จ.ท.','จ.ต.','พล.อ.อ.','พล.อ.ท.','พล.อ.ต.','พล.อ.จ.','พ.อ.อ.','พ.อ.ท.','พ.อ.ต.','พล.ต.อ.','พล.ต.ท.','พล.ต.ต.','พล.ต.จ.','พ.ต.อ.','พ.ต.ท.','พ.ต.ต.','ร.ต.อ.','ร.ต.ท.','ร.ต.ต.','ด.ต.','จ.ส.ต.','ส.ต.อ.','ส.ต.ท.','ส.ต.ต.','พญ.','นพ.','ดร.','น.ส.','นส.','ม.ล.','ม.ร.ว.','ม.จ.','ผศ.','รศ.','ศ.','อ.','น.สพ.','สพ.ญ.','ภญ.','ภกญ.']\n",
        "    d = ['พญ','นพ','ดร','ผศ','รศ','ศ','อ','รต.']\n",
        "    for i in c:\n",
        "        if str.endswith(i) == True or str in d or str.endswith('.หญิง') == True or str.endswith('.(หญิง)') == True or str.endswith('.(พิเศษ)') == True or str.endswith('.พิเศษ') == True or str.endswith('ฯพณฯ') == True :\n",
        "            return True\n",
        "    else:\n",
        "        return False       \n",
        "\n",
        "def eng_tt_frontname(str):\n",
        "    c = ('Ph.D.','Associate.','Assoc.','Asso.','Asst.','Assist.','Professor.','Prof.','Dr.','Mr.','Ms.','associate.','assoc.','asso.','asst.','assist.','professor.','prof.','dr.','mr.','ms.','ASSOCIATE.','ASSOC.','ASSO.','ASST.','ASSIST.','PROFESSOR.','PROF.','DR.','MR.','MS.')\n",
        "    for i in c:\n",
        "        if str.find(i)>-1:\n",
        "            return True\n",
        "    else:\n",
        "        return False\n",
        "def engtitle(str):\n",
        "    c = ('Md.','MD.','md.','Mrs.','MRS.','mrs.','Ph.D.','Associate.','Assoc.','Asso.','Asst.','Assist.','Professor.','Prof.','Dr.','Mr.','Ms.','associate.','assoc.','asso.','asst.','assist.','professor.','prof.','dr.','mr.','ms.','ASSOCIATE.','ASSOC.','ASSO.','ASST.','ASSIST.','PROFESSOR.','PROF.','DR.','MR.','MS.')\n",
        "    d = ('Md','MD','md','Mrs','MRS','mrs','Ph.D','PhD','miss','Miss','Associate','Assoc','Asso','Asst','Assist','Professor','Prof','Dr','Mr','Ms','associate','assoc','asso','asst','assist','professor','prof','dr','mr','ms','ASSOCIATE','ASSOC','ASSO','ASST','ASSIST','PROFESSOR','PROF','DR','MR','MS')\n",
        "    for i in c:\n",
        "        if str.endswith(i) == True or str in d:\n",
        "             return True\n",
        "    else:\n",
        "        return False"
      ],
      "execution_count": 191,
      "outputs": []
    },
    {
      "cell_type": "code",
      "metadata": {
        "colab": {
          "base_uri": "https://localhost:8080/"
        },
        "id": "M86z9aowB6S3",
        "outputId": "26b9679f-16fd-43ec-9ebc-98c0235fa22c"
      },
      "source": [
        "result_all.columns"
      ],
      "execution_count": 192,
      "outputs": [
        {
          "output_type": "execute_result",
          "data": {
            "text/plain": [
              "Index(['_index', '_type', '_id', '_score', '_source.education', '_source.work',\n",
              "       '_source.university', '_source.pullDate', '_source.expertise',\n",
              "       '_source.etc', '_source.name', '_source.tel', '_source.sheet',\n",
              "       '_source.position', '_source.row', '_source.email', 'authFullName',\n",
              "       'id', 'language'],\n",
              "      dtype='object')"
            ]
          },
          "metadata": {
            "tags": []
          },
          "execution_count": 192
        }
      ]
    },
    {
      "cell_type": "code",
      "metadata": {
        "id": "8TFhHV4f_ynX"
      },
      "source": [
        "auth_detail = result_all"
      ],
      "execution_count": 193,
      "outputs": []
    },
    {
      "cell_type": "code",
      "metadata": {
        "id": "RcdAdis48PaX"
      },
      "source": [
        "auth_detail = auth_detail.rename(columns={\"id\": \"auth_ID\",\"language\":\"author_lang\", \"_source.tel\":\"tel\", \"_source.email\":\"email\"})"
      ],
      "execution_count": 194,
      "outputs": []
    },
    {
      "cell_type": "code",
      "metadata": {
        "colab": {
          "base_uri": "https://localhost:8080/"
        },
        "id": "hxkgmxYpL8E1",
        "outputId": "61609546-6006-4440-fc91-9253bc8a020e"
      },
      "source": [
        "auth_detail.columns"
      ],
      "execution_count": 195,
      "outputs": [
        {
          "output_type": "execute_result",
          "data": {
            "text/plain": [
              "Index(['_index', '_type', '_id', '_score', '_source.education', '_source.work',\n",
              "       '_source.university', '_source.pullDate', '_source.expertise',\n",
              "       '_source.etc', '_source.name', 'tel', '_source.sheet',\n",
              "       '_source.position', '_source.row', 'email', 'authFullName', 'auth_ID',\n",
              "       'author_lang'],\n",
              "      dtype='object')"
            ]
          },
          "metadata": {
            "tags": []
          },
          "execution_count": 195
        }
      ]
    },
    {
      "cell_type": "code",
      "metadata": {
        "id": "eYLchpsP8UJi"
      },
      "source": [
        "auth_detail = auth_detail.drop(['_index', '_type','_id', '_score','_source.education',\n",
        "       '_source.work','_source.university','_source.pullDate','_source.expertise','_source.etc',\n",
        "       '_source.name','_source.sheet','_source.position','_source.row','authFullName'],axis=1)"
      ],
      "execution_count": 196,
      "outputs": []
    },
    {
      "cell_type": "code",
      "metadata": {
        "id": "SWNjdz_18Wv7"
      },
      "source": [
        "## auth_detail['id'] = ''\n",
        "# auth_detail['auth_ID'] = ''\n",
        "# auth_detail['author_lang'] = ''\n",
        "auth_detail['titleName'] = ''\n",
        "# auth_detail['tel'] = ''\n",
        "# auth_detail['email'] = ''\n",
        "auth_detail['subject'] = ''\n",
        "auth_detail['department'] = ''"
      ],
      "execution_count": 197,
      "outputs": []
    },
    {
      "cell_type": "code",
      "metadata": {
        "colab": {
          "base_uri": "https://localhost:8080/"
        },
        "id": "5Pn6l1ft8ZJO",
        "outputId": "c22fc1aa-07c8-4c59-d40a-8c348d76ed97"
      },
      "source": [
        "all_column =  [\"auth_ID\",\"author_lang\",\"titleName\",\"tel\",\"email\",\"subject\",\"department\"]\n",
        "len(all_column)"
      ],
      "execution_count": 198,
      "outputs": [
        {
          "output_type": "execute_result",
          "data": {
            "text/plain": [
              "7"
            ]
          },
          "metadata": {
            "tags": []
          },
          "execution_count": 198
        }
      ]
    },
    {
      "cell_type": "code",
      "metadata": {
        "colab": {
          "base_uri": "https://localhost:8080/"
        },
        "id": "YyLeVN_A8bhJ",
        "outputId": "6b749911-0c9b-4207-beba-cc5bd9eeb643"
      },
      "source": [
        "len(auth_detail.columns)"
      ],
      "execution_count": 199,
      "outputs": [
        {
          "output_type": "execute_result",
          "data": {
            "text/plain": [
              "7"
            ]
          },
          "metadata": {
            "tags": []
          },
          "execution_count": 199
        }
      ]
    },
    {
      "cell_type": "code",
      "metadata": {
        "colab": {
          "base_uri": "https://localhost:8080/"
        },
        "id": "Rs8BUD_8OEkg",
        "outputId": "4648d594-cf68-49ee-fc8b-fa8d7860e296"
      },
      "source": [
        "auth_detail.columns"
      ],
      "execution_count": 200,
      "outputs": [
        {
          "output_type": "execute_result",
          "data": {
            "text/plain": [
              "Index(['tel', 'email', 'auth_ID', 'author_lang', 'titleName', 'subject',\n",
              "       'department'],\n",
              "      dtype='object')"
            ]
          },
          "metadata": {
            "tags": []
          },
          "execution_count": 200
        }
      ]
    },
    {
      "cell_type": "code",
      "metadata": {
        "id": "TCY9ySgG8d3y"
      },
      "source": [
        "auth_detail = auth_detail[all_column]"
      ],
      "execution_count": 201,
      "outputs": []
    },
    {
      "cell_type": "code",
      "metadata": {
        "colab": {
          "base_uri": "https://localhost:8080/",
          "height": 402
        },
        "id": "2tyQMbt98ede",
        "outputId": "96f9079f-1c9b-427c-b92d-88a69ad60b56"
      },
      "source": [
        "auth_detail"
      ],
      "execution_count": 202,
      "outputs": [
        {
          "output_type": "execute_result",
          "data": {
            "text/html": [
              "<div>\n",
              "<style scoped>\n",
              "    .dataframe tbody tr th:only-of-type {\n",
              "        vertical-align: middle;\n",
              "    }\n",
              "\n",
              "    .dataframe tbody tr th {\n",
              "        vertical-align: top;\n",
              "    }\n",
              "\n",
              "    .dataframe thead th {\n",
              "        text-align: right;\n",
              "    }\n",
              "</style>\n",
              "<table border=\"1\" class=\"dataframe\">\n",
              "  <thead>\n",
              "    <tr style=\"text-align: right;\">\n",
              "      <th></th>\n",
              "      <th>auth_ID</th>\n",
              "      <th>author_lang</th>\n",
              "      <th>titleName</th>\n",
              "      <th>tel</th>\n",
              "      <th>email</th>\n",
              "      <th>subject</th>\n",
              "      <th>department</th>\n",
              "    </tr>\n",
              "  </thead>\n",
              "  <tbody>\n",
              "    <tr>\n",
              "      <th>0</th>\n",
              "      <td>547926</td>\n",
              "      <td>th</td>\n",
              "      <td></td>\n",
              "      <td>T 02 501-3507 EXT 6006\\r\\nF 02 501-3507 EXT 6014</td>\n",
              "      <td>ssuanma@gmail.com</td>\n",
              "      <td></td>\n",
              "      <td></td>\n",
              "    </tr>\n",
              "    <tr>\n",
              "      <th>1</th>\n",
              "      <td>547927</td>\n",
              "      <td>eng</td>\n",
              "      <td></td>\n",
              "      <td>Telephone: (+662) 501-3505 Ext. 1808 Fax: (+66...</td>\n",
              "      <td>Email: chalie@siit.tu.ac.th</td>\n",
              "      <td></td>\n",
              "      <td></td>\n",
              "    </tr>\n",
              "    <tr>\n",
              "      <th>2</th>\n",
              "      <td>547928</td>\n",
              "      <td>eng</td>\n",
              "      <td></td>\n",
              "      <td></td>\n",
              "      <td>Email Address: \\r\\nchalermchai_w@siit.tu.ac.th</td>\n",
              "      <td></td>\n",
              "      <td></td>\n",
              "    </tr>\n",
              "    <tr>\n",
              "      <th>3</th>\n",
              "      <td>547929</td>\n",
              "      <td>eng</td>\n",
              "      <td></td>\n",
              "      <td>Tel: (662)501-3505 Ext.2103 Fax: (662)501-3505...</td>\n",
              "      <td>E-mails: Natthari@siit.tu.ac.th</td>\n",
              "      <td></td>\n",
              "      <td></td>\n",
              "    </tr>\n",
              "    <tr>\n",
              "      <th>4</th>\n",
              "      <td>547930</td>\n",
              "      <td>th</td>\n",
              "      <td></td>\n",
              "      <td></td>\n",
              "      <td></td>\n",
              "      <td></td>\n",
              "      <td></td>\n",
              "    </tr>\n",
              "    <tr>\n",
              "      <th>...</th>\n",
              "      <td>...</td>\n",
              "      <td>...</td>\n",
              "      <td>...</td>\n",
              "      <td>...</td>\n",
              "      <td>...</td>\n",
              "      <td>...</td>\n",
              "      <td>...</td>\n",
              "    </tr>\n",
              "    <tr>\n",
              "      <th>700</th>\n",
              "      <td>548616</td>\n",
              "      <td>th</td>\n",
              "      <td></td>\n",
              "      <td></td>\n",
              "      <td>sutanit@hotmail.com</td>\n",
              "      <td></td>\n",
              "      <td></td>\n",
              "    </tr>\n",
              "    <tr>\n",
              "      <th>701</th>\n",
              "      <td>548617</td>\n",
              "      <td>th</td>\n",
              "      <td></td>\n",
              "      <td></td>\n",
              "      <td>Jeab_pb45@hotmail.com</td>\n",
              "      <td></td>\n",
              "      <td></td>\n",
              "    </tr>\n",
              "    <tr>\n",
              "      <th>702</th>\n",
              "      <td>548618</td>\n",
              "      <td>th</td>\n",
              "      <td></td>\n",
              "      <td></td>\n",
              "      <td></td>\n",
              "      <td></td>\n",
              "      <td></td>\n",
              "    </tr>\n",
              "    <tr>\n",
              "      <th>703</th>\n",
              "      <td>548619</td>\n",
              "      <td>th</td>\n",
              "      <td></td>\n",
              "      <td></td>\n",
              "      <td></td>\n",
              "      <td></td>\n",
              "      <td></td>\n",
              "    </tr>\n",
              "    <tr>\n",
              "      <th>704</th>\n",
              "      <td>548620</td>\n",
              "      <td>th</td>\n",
              "      <td></td>\n",
              "      <td></td>\n",
              "      <td></td>\n",
              "      <td></td>\n",
              "      <td></td>\n",
              "    </tr>\n",
              "  </tbody>\n",
              "</table>\n",
              "<p>705 rows × 7 columns</p>\n",
              "</div>"
            ],
            "text/plain": [
              "     auth_ID author_lang  ... subject department\n",
              "0     547926          th  ...                   \n",
              "1     547927         eng  ...                   \n",
              "2     547928         eng  ...                   \n",
              "3     547929         eng  ...                   \n",
              "4     547930          th  ...                   \n",
              "..       ...         ...  ...     ...        ...\n",
              "700   548616          th  ...                   \n",
              "701   548617          th  ...                   \n",
              "702   548618          th  ...                   \n",
              "703   548619          th  ...                   \n",
              "704   548620          th  ...                   \n",
              "\n",
              "[705 rows x 7 columns]"
            ]
          },
          "metadata": {
            "tags": []
          },
          "execution_count": 202
        }
      ]
    },
    {
      "cell_type": "markdown",
      "metadata": {
        "id": "wNlJdxH3zo5p"
      },
      "source": [
        "# Create Auth Education"
      ]
    },
    {
      "cell_type": "code",
      "metadata": {
        "id": "rxwjUY7eOesQ"
      },
      "source": [
        "auth_education = result_all"
      ],
      "execution_count": 203,
      "outputs": []
    },
    {
      "cell_type": "code",
      "metadata": {
        "colab": {
          "base_uri": "https://localhost:8080/"
        },
        "id": "gLARfhFdO6iZ",
        "outputId": "75d31ee0-8b59-4525-95a0-0cc960539505"
      },
      "source": [
        "auth_education.columns"
      ],
      "execution_count": 204,
      "outputs": [
        {
          "output_type": "execute_result",
          "data": {
            "text/plain": [
              "Index(['_index', '_type', '_id', '_score', '_source.education', '_source.work',\n",
              "       '_source.university', '_source.pullDate', '_source.expertise',\n",
              "       '_source.etc', '_source.name', '_source.tel', '_source.sheet',\n",
              "       '_source.position', '_source.row', '_source.email', 'authFullName',\n",
              "       'id', 'language'],\n",
              "      dtype='object')"
            ]
          },
          "metadata": {
            "tags": []
          },
          "execution_count": 204
        }
      ]
    },
    {
      "cell_type": "code",
      "metadata": {
        "id": "3jCx-5DsOesU"
      },
      "source": [
        "auth_education = auth_education.rename(columns={\"id\": \"auth_ID\",\"language\":\"author_lang\", \"_source.education\":\"education_detail\" })"
      ],
      "execution_count": 205,
      "outputs": []
    },
    {
      "cell_type": "code",
      "metadata": {
        "colab": {
          "base_uri": "https://localhost:8080/"
        },
        "id": "M1RNlAhpOesU",
        "outputId": "57807384-42c8-47ee-e03b-238fb04e0e5f"
      },
      "source": [
        "auth_education.columns"
      ],
      "execution_count": 206,
      "outputs": [
        {
          "output_type": "execute_result",
          "data": {
            "text/plain": [
              "Index(['_index', '_type', '_id', '_score', 'education_detail', '_source.work',\n",
              "       '_source.university', '_source.pullDate', '_source.expertise',\n",
              "       '_source.etc', '_source.name', '_source.tel', '_source.sheet',\n",
              "       '_source.position', '_source.row', '_source.email', 'authFullName',\n",
              "       'auth_ID', 'author_lang'],\n",
              "      dtype='object')"
            ]
          },
          "metadata": {
            "tags": []
          },
          "execution_count": 206
        }
      ]
    },
    {
      "cell_type": "code",
      "metadata": {
        "id": "nV1_33CTOesU"
      },
      "source": [
        "auth_education = auth_education.drop(['_index', '_type','_id', '_score',\n",
        "       '_source.work','_source.university','_source.pullDate','_source.expertise','_source.etc',\n",
        "       '_source.name','_source.tel','_source.sheet','_source.position','_source.row','_source.email','authFullName'],axis=1)"
      ],
      "execution_count": 207,
      "outputs": []
    },
    {
      "cell_type": "code",
      "metadata": {
        "id": "WRFYyZrHOesV"
      },
      "source": [
        "## auth_education['id'] = ''\n",
        "# auth_education['auth_ID'] = ''\n",
        "# auth_education['author_lang'] = ''\n",
        "# auth_education['education_detail'] = ''"
      ],
      "execution_count": 208,
      "outputs": []
    },
    {
      "cell_type": "code",
      "metadata": {
        "colab": {
          "base_uri": "https://localhost:8080/"
        },
        "id": "MVy_4NKEOesV",
        "outputId": "fdb58cc0-bbc9-43fc-e2e3-eb6c50192755"
      },
      "source": [
        "all_column =  [\"auth_ID\",\"author_lang\",\"education_detail\"]\n",
        "len(all_column)"
      ],
      "execution_count": 209,
      "outputs": [
        {
          "output_type": "execute_result",
          "data": {
            "text/plain": [
              "3"
            ]
          },
          "metadata": {
            "tags": []
          },
          "execution_count": 209
        }
      ]
    },
    {
      "cell_type": "code",
      "metadata": {
        "colab": {
          "base_uri": "https://localhost:8080/"
        },
        "id": "48SNNkDXOesV",
        "outputId": "a61e811a-2763-423b-f181-9029d824bdae"
      },
      "source": [
        "len(auth_education.columns)"
      ],
      "execution_count": 210,
      "outputs": [
        {
          "output_type": "execute_result",
          "data": {
            "text/plain": [
              "3"
            ]
          },
          "metadata": {
            "tags": []
          },
          "execution_count": 210
        }
      ]
    },
    {
      "cell_type": "code",
      "metadata": {
        "colab": {
          "base_uri": "https://localhost:8080/"
        },
        "id": "Jjk-YiByOesW",
        "outputId": "fe20c928-a4e3-4b6a-cb93-8a2e66765889"
      },
      "source": [
        "auth_education.columns"
      ],
      "execution_count": 211,
      "outputs": [
        {
          "output_type": "execute_result",
          "data": {
            "text/plain": [
              "Index(['education_detail', 'auth_ID', 'author_lang'], dtype='object')"
            ]
          },
          "metadata": {
            "tags": []
          },
          "execution_count": 211
        }
      ]
    },
    {
      "cell_type": "code",
      "metadata": {
        "id": "A8NOhOGsOesW"
      },
      "source": [
        "auth_education = auth_education[all_column]"
      ],
      "execution_count": 212,
      "outputs": []
    },
    {
      "cell_type": "code",
      "metadata": {
        "colab": {
          "base_uri": "https://localhost:8080/",
          "height": 402
        },
        "id": "VHdTlgEPOesW",
        "outputId": "4b9affd7-6954-499d-fe7a-830c402eb928"
      },
      "source": [
        "auth_education"
      ],
      "execution_count": 213,
      "outputs": [
        {
          "output_type": "execute_result",
          "data": {
            "text/html": [
              "<div>\n",
              "<style scoped>\n",
              "    .dataframe tbody tr th:only-of-type {\n",
              "        vertical-align: middle;\n",
              "    }\n",
              "\n",
              "    .dataframe tbody tr th {\n",
              "        vertical-align: top;\n",
              "    }\n",
              "\n",
              "    .dataframe thead th {\n",
              "        text-align: right;\n",
              "    }\n",
              "</style>\n",
              "<table border=\"1\" class=\"dataframe\">\n",
              "  <thead>\n",
              "    <tr style=\"text-align: right;\">\n",
              "      <th></th>\n",
              "      <th>auth_ID</th>\n",
              "      <th>author_lang</th>\n",
              "      <th>education_detail</th>\n",
              "    </tr>\n",
              "  </thead>\n",
              "  <tbody>\n",
              "    <tr>\n",
              "      <th>0</th>\n",
              "      <td>547926</td>\n",
              "      <td>th</td>\n",
              "      <td>North Carolina State University (NCSU), Raleig...</td>\n",
              "    </tr>\n",
              "    <tr>\n",
              "      <th>1</th>\n",
              "      <td>547927</td>\n",
              "      <td>eng</td>\n",
              "      <td>GRADUATE SCHOOL OF THE UNIVERSITY OF TOKYO, To...</td>\n",
              "    </tr>\n",
              "    <tr>\n",
              "      <th>2</th>\n",
              "      <td>547928</td>\n",
              "      <td>eng</td>\n",
              "      <td>Kochi University of Technology\\r\\n(KUT) Kochi,...</td>\n",
              "    </tr>\n",
              "    <tr>\n",
              "      <th>3</th>\n",
              "      <td>547929</td>\n",
              "      <td>eng</td>\n",
              "      <td>Ph.D. The University of Texas at Arlington, Au...</td>\n",
              "    </tr>\n",
              "    <tr>\n",
              "      <th>4</th>\n",
              "      <td>547930</td>\n",
              "      <td>th</td>\n",
              "      <td>1992-1998\\r\\n- Ph.D. (Management), Ritsumeikan...</td>\n",
              "    </tr>\n",
              "    <tr>\n",
              "      <th>...</th>\n",
              "      <td>...</td>\n",
              "      <td>...</td>\n",
              "      <td>...</td>\n",
              "    </tr>\n",
              "    <tr>\n",
              "      <th>700</th>\n",
              "      <td>548616</td>\n",
              "      <td>th</td>\n",
              "      <td></td>\n",
              "    </tr>\n",
              "    <tr>\n",
              "      <th>701</th>\n",
              "      <td>548617</td>\n",
              "      <td>th</td>\n",
              "      <td></td>\n",
              "    </tr>\n",
              "    <tr>\n",
              "      <th>702</th>\n",
              "      <td>548618</td>\n",
              "      <td>th</td>\n",
              "      <td></td>\n",
              "    </tr>\n",
              "    <tr>\n",
              "      <th>703</th>\n",
              "      <td>548619</td>\n",
              "      <td>th</td>\n",
              "      <td></td>\n",
              "    </tr>\n",
              "    <tr>\n",
              "      <th>704</th>\n",
              "      <td>548620</td>\n",
              "      <td>th</td>\n",
              "      <td></td>\n",
              "    </tr>\n",
              "  </tbody>\n",
              "</table>\n",
              "<p>705 rows × 3 columns</p>\n",
              "</div>"
            ],
            "text/plain": [
              "     auth_ID author_lang                                   education_detail\n",
              "0     547926          th  North Carolina State University (NCSU), Raleig...\n",
              "1     547927         eng  GRADUATE SCHOOL OF THE UNIVERSITY OF TOKYO, To...\n",
              "2     547928         eng  Kochi University of Technology\\r\\n(KUT) Kochi,...\n",
              "3     547929         eng  Ph.D. The University of Texas at Arlington, Au...\n",
              "4     547930          th  1992-1998\\r\\n- Ph.D. (Management), Ritsumeikan...\n",
              "..       ...         ...                                                ...\n",
              "700   548616          th                                                   \n",
              "701   548617          th                                                   \n",
              "702   548618          th                                                   \n",
              "703   548619          th                                                   \n",
              "704   548620          th                                                   \n",
              "\n",
              "[705 rows x 3 columns]"
            ]
          },
          "metadata": {
            "tags": []
          },
          "execution_count": 213
        }
      ]
    },
    {
      "cell_type": "code",
      "metadata": {
        "id": "iX9usl0dz9Pf"
      },
      "source": [
        ""
      ],
      "execution_count": 213,
      "outputs": []
    },
    {
      "cell_type": "markdown",
      "metadata": {
        "id": "xFGWGpPsLHx2"
      },
      "source": [
        "# Author Expert"
      ]
    },
    {
      "cell_type": "code",
      "metadata": {
        "id": "hmZEtFDFP4td"
      },
      "source": [
        "auth_expert = result_all"
      ],
      "execution_count": 214,
      "outputs": []
    },
    {
      "cell_type": "code",
      "metadata": {
        "colab": {
          "base_uri": "https://localhost:8080/"
        },
        "id": "c_d42cDiP4tf",
        "outputId": "81032ec4-26a2-42d0-b54e-9b4f5618ede1"
      },
      "source": [
        "auth_expert.columns"
      ],
      "execution_count": 215,
      "outputs": [
        {
          "output_type": "execute_result",
          "data": {
            "text/plain": [
              "Index(['_index', '_type', '_id', '_score', '_source.education', '_source.work',\n",
              "       '_source.university', '_source.pullDate', '_source.expertise',\n",
              "       '_source.etc', '_source.name', '_source.tel', '_source.sheet',\n",
              "       '_source.position', '_source.row', '_source.email', 'authFullName',\n",
              "       'id', 'language'],\n",
              "      dtype='object')"
            ]
          },
          "metadata": {
            "tags": []
          },
          "execution_count": 215
        }
      ]
    },
    {
      "cell_type": "code",
      "metadata": {
        "id": "ZTlKimc7P4tg"
      },
      "source": [
        "auth_expert = auth_expert.rename(columns={\"id\": \"auth_ID\",\"language\":\"author_lang\", \"_source.expertise\":\"expertise\" })"
      ],
      "execution_count": 216,
      "outputs": []
    },
    {
      "cell_type": "code",
      "metadata": {
        "colab": {
          "base_uri": "https://localhost:8080/"
        },
        "id": "Z8EQ_QZMP4tg",
        "outputId": "23626f07-867c-45aa-ebaf-507df9537bfb"
      },
      "source": [
        "auth_expert.columns"
      ],
      "execution_count": 217,
      "outputs": [
        {
          "output_type": "execute_result",
          "data": {
            "text/plain": [
              "Index(['_index', '_type', '_id', '_score', '_source.education', '_source.work',\n",
              "       '_source.university', '_source.pullDate', 'expertise', '_source.etc',\n",
              "       '_source.name', '_source.tel', '_source.sheet', '_source.position',\n",
              "       '_source.row', '_source.email', 'authFullName', 'auth_ID',\n",
              "       'author_lang'],\n",
              "      dtype='object')"
            ]
          },
          "metadata": {
            "tags": []
          },
          "execution_count": 217
        }
      ]
    },
    {
      "cell_type": "code",
      "metadata": {
        "id": "I4ehZFqqP4tg"
      },
      "source": [
        "auth_expert = auth_expert.drop(['_index', '_type','_id', '_score', '_source.education',\n",
        "       '_source.work','_source.university','_source.pullDate','_source.etc',\n",
        "       '_source.name','_source.tel','_source.sheet','_source.position','_source.row','_source.email','authFullName'],axis=1)"
      ],
      "execution_count": 218,
      "outputs": []
    },
    {
      "cell_type": "code",
      "metadata": {
        "id": "m9xM4EWsP4th"
      },
      "source": [
        "## auth_expert['id'] = ''\n",
        "# auth_expert['auth_ID'] = ''\n",
        "# auth_expert['author_lang'] = ''\n",
        "auth_expert['subject'] = ''\n",
        "# auth_expert['expertise'] = ''"
      ],
      "execution_count": 219,
      "outputs": []
    },
    {
      "cell_type": "code",
      "metadata": {
        "colab": {
          "base_uri": "https://localhost:8080/"
        },
        "id": "K55IRkSRP4th",
        "outputId": "a784f9fd-24d7-4785-9331-88faacd38e39"
      },
      "source": [
        "all_column =  [\"auth_ID\",\"author_lang\",\"subject\",\"expertise\"]\n",
        "len(all_column)"
      ],
      "execution_count": 220,
      "outputs": [
        {
          "output_type": "execute_result",
          "data": {
            "text/plain": [
              "4"
            ]
          },
          "metadata": {
            "tags": []
          },
          "execution_count": 220
        }
      ]
    },
    {
      "cell_type": "code",
      "metadata": {
        "colab": {
          "base_uri": "https://localhost:8080/"
        },
        "id": "Spzf1EimP4th",
        "outputId": "2b060269-96cc-40e5-c527-39a87820218d"
      },
      "source": [
        "len(auth_expert.columns)"
      ],
      "execution_count": 221,
      "outputs": [
        {
          "output_type": "execute_result",
          "data": {
            "text/plain": [
              "4"
            ]
          },
          "metadata": {
            "tags": []
          },
          "execution_count": 221
        }
      ]
    },
    {
      "cell_type": "code",
      "metadata": {
        "colab": {
          "base_uri": "https://localhost:8080/"
        },
        "id": "eVXG624xP4ti",
        "outputId": "7b20e2ca-b910-478d-9a9e-7974e7fca770"
      },
      "source": [
        "auth_expert.columns"
      ],
      "execution_count": 222,
      "outputs": [
        {
          "output_type": "execute_result",
          "data": {
            "text/plain": [
              "Index(['expertise', 'auth_ID', 'author_lang', 'subject'], dtype='object')"
            ]
          },
          "metadata": {
            "tags": []
          },
          "execution_count": 222
        }
      ]
    },
    {
      "cell_type": "code",
      "metadata": {
        "id": "-sxvteU8P4tj"
      },
      "source": [
        "auth_expert = auth_expert[all_column]"
      ],
      "execution_count": 223,
      "outputs": []
    },
    {
      "cell_type": "code",
      "metadata": {
        "colab": {
          "base_uri": "https://localhost:8080/",
          "height": 402
        },
        "id": "e15Ab6OFP4tj",
        "outputId": "5179b9c5-6f64-460f-e211-c6f7338e21b9"
      },
      "source": [
        "auth_expert"
      ],
      "execution_count": 224,
      "outputs": [
        {
          "output_type": "execute_result",
          "data": {
            "text/html": [
              "<div>\n",
              "<style scoped>\n",
              "    .dataframe tbody tr th:only-of-type {\n",
              "        vertical-align: middle;\n",
              "    }\n",
              "\n",
              "    .dataframe tbody tr th {\n",
              "        vertical-align: top;\n",
              "    }\n",
              "\n",
              "    .dataframe thead th {\n",
              "        text-align: right;\n",
              "    }\n",
              "</style>\n",
              "<table border=\"1\" class=\"dataframe\">\n",
              "  <thead>\n",
              "    <tr style=\"text-align: right;\">\n",
              "      <th></th>\n",
              "      <th>auth_ID</th>\n",
              "      <th>author_lang</th>\n",
              "      <th>subject</th>\n",
              "      <th>expertise</th>\n",
              "    </tr>\n",
              "  </thead>\n",
              "  <tbody>\n",
              "    <tr>\n",
              "      <th>0</th>\n",
              "      <td>547926</td>\n",
              "      <td>th</td>\n",
              "      <td></td>\n",
              "      <td>Applied Linear Algebras; Highway Assets Mainte...</td>\n",
              "    </tr>\n",
              "    <tr>\n",
              "      <th>1</th>\n",
              "      <td>547927</td>\n",
              "      <td>eng</td>\n",
              "      <td></td>\n",
              "      <td></td>\n",
              "    </tr>\n",
              "    <tr>\n",
              "      <th>2</th>\n",
              "      <td>547928</td>\n",
              "      <td>eng</td>\n",
              "      <td></td>\n",
              "      <td>multi-binder concrete\\r\\n Mix proportion des...</td>\n",
              "    </tr>\n",
              "    <tr>\n",
              "      <th>3</th>\n",
              "      <td>547929</td>\n",
              "      <td>eng</td>\n",
              "      <td></td>\n",
              "      <td>2003-present The Academy of International Busi...</td>\n",
              "    </tr>\n",
              "    <tr>\n",
              "      <th>4</th>\n",
              "      <td>547930</td>\n",
              "      <td>th</td>\n",
              "      <td></td>\n",
              "      <td>May 2003 - present, Assistant Professor, Sirin...</td>\n",
              "    </tr>\n",
              "    <tr>\n",
              "      <th>...</th>\n",
              "      <td>...</td>\n",
              "      <td>...</td>\n",
              "      <td>...</td>\n",
              "      <td>...</td>\n",
              "    </tr>\n",
              "    <tr>\n",
              "      <th>700</th>\n",
              "      <td>548616</td>\n",
              "      <td>th</td>\n",
              "      <td></td>\n",
              "      <td></td>\n",
              "    </tr>\n",
              "    <tr>\n",
              "      <th>701</th>\n",
              "      <td>548617</td>\n",
              "      <td>th</td>\n",
              "      <td></td>\n",
              "      <td></td>\n",
              "    </tr>\n",
              "    <tr>\n",
              "      <th>702</th>\n",
              "      <td>548618</td>\n",
              "      <td>th</td>\n",
              "      <td></td>\n",
              "      <td></td>\n",
              "    </tr>\n",
              "    <tr>\n",
              "      <th>703</th>\n",
              "      <td>548619</td>\n",
              "      <td>th</td>\n",
              "      <td></td>\n",
              "      <td></td>\n",
              "    </tr>\n",
              "    <tr>\n",
              "      <th>704</th>\n",
              "      <td>548620</td>\n",
              "      <td>th</td>\n",
              "      <td></td>\n",
              "      <td></td>\n",
              "    </tr>\n",
              "  </tbody>\n",
              "</table>\n",
              "<p>705 rows × 4 columns</p>\n",
              "</div>"
            ],
            "text/plain": [
              "     auth_ID  ...                                          expertise\n",
              "0     547926  ...  Applied Linear Algebras; Highway Assets Mainte...\n",
              "1     547927  ...                                                   \n",
              "2     547928  ...   multi-binder concrete\\r\\n Mix proportion des...\n",
              "3     547929  ...  2003-present The Academy of International Busi...\n",
              "4     547930  ...  May 2003 - present, Assistant Professor, Sirin...\n",
              "..       ...  ...                                                ...\n",
              "700   548616  ...                                                   \n",
              "701   548617  ...                                                   \n",
              "702   548618  ...                                                   \n",
              "703   548619  ...                                                   \n",
              "704   548620  ...                                                   \n",
              "\n",
              "[705 rows x 4 columns]"
            ]
          },
          "metadata": {
            "tags": []
          },
          "execution_count": 224
        }
      ]
    },
    {
      "cell_type": "markdown",
      "metadata": {
        "id": "744S4twePpj1"
      },
      "source": [
        "# Export"
      ]
    },
    {
      "cell_type": "code",
      "metadata": {
        "id": "HkP4DpJEhPrR"
      },
      "source": [
        "# author\n",
        "\n",
        "result_author_thai[['id','authFullName']].to_csv('adct_author_thai.csv')\n",
        "result_author_eng[['id','authFullName']].to_csv('adct_author_eng.csv')\n",
        "result_author_other[['id','authFullName']].to_csv('adct_author_other.csv')"
      ],
      "execution_count": 225,
      "outputs": []
    },
    {
      "cell_type": "code",
      "metadata": {
        "id": "B8hX15d_8zim"
      },
      "source": [
        "# author detail\n",
        "auth_detail.index.name = 'id'\n",
        "auth_education.index.name = 'id'\n",
        "auth_expert.index.name = 'id'\n",
        "\n",
        "auth_detail.to_csv('adct_author_detail.csv')\n",
        "auth_education.to_csv('adct_author_education.csv')\n",
        "auth_expert.to_csv('adct_author_expert.csv')"
      ],
      "execution_count": 226,
      "outputs": []
    },
    {
      "cell_type": "code",
      "metadata": {
        "id": "-imHGJqsajPT"
      },
      "source": [
        ""
      ],
      "execution_count": 226,
      "outputs": []
    }
  ]
}