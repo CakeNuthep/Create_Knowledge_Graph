{
  "nbformat": 4,
  "nbformat_minor": 0,
  "metadata": {
    "colab": {
      "name": "egat Extraction.ipynb",
      "provenance": [],
      "authorship_tag": "ABX9TyPzJdCSuGwCf5Zs1DQVCcpz",
      "include_colab_link": true
    },
    "kernelspec": {
      "name": "python3",
      "display_name": "Python 3"
    },
    "language_info": {
      "name": "python"
    }
  },
  "cells": [
    {
      "cell_type": "markdown",
      "metadata": {
        "id": "view-in-github",
        "colab_type": "text"
      },
      "source": [
        "<a href=\"https://colab.research.google.com/github/CakeNuthep/Create_Knowledge_Graph/blob/main/egat_Extraction.ipynb\" target=\"_parent\"><img src=\"https://colab.research.google.com/assets/colab-badge.svg\" alt=\"Open In Colab\"/></a>"
      ]
    },
    {
      "cell_type": "code",
      "metadata": {
        "colab": {
          "base_uri": "https://localhost:8080/"
        },
        "id": "MYu96eT1auqL",
        "outputId": "88025d47-448f-4846-94de-9f6c486b1003"
      },
      "source": [
        "from google.colab import drive\n",
        "drive.mount('/content/drive')"
      ],
      "execution_count": 1,
      "outputs": [
        {
          "output_type": "stream",
          "text": [
            "Mounted at /content/drive\n"
          ],
          "name": "stdout"
        }
      ]
    },
    {
      "cell_type": "code",
      "metadata": {
        "id": "-EU-IrgRawye"
      },
      "source": [
        "import pandas as pd"
      ],
      "execution_count": 2,
      "outputs": []
    },
    {
      "cell_type": "markdown",
      "metadata": {
        "id": "1lDnj2jEa47F"
      },
      "source": [
        "# Convert Strinig to JSON"
      ]
    },
    {
      "cell_type": "code",
      "metadata": {
        "id": "jX83fUsza4Yd"
      },
      "source": [
        "path_file = '/content/drive/MyDrive/KnowledgeGraph/Json_researcher/egat.json'"
      ],
      "execution_count": 3,
      "outputs": []
    },
    {
      "cell_type": "code",
      "metadata": {
        "colab": {
          "base_uri": "https://localhost:8080/"
        },
        "id": "7LgtjEbZbFRm",
        "outputId": "38c4374f-0dd3-41b7-dadd-43b4802cf4a3"
      },
      "source": [
        "f = open(path_file, \"r\",encoding=\"utf8\")\n",
        "count = 0\n",
        "content = []\n",
        "string_json = ''\n",
        "begin = '['\n",
        "end = ']'\n",
        "split = ','\n",
        "\n",
        "string_json += begin\n",
        "while(True):\n",
        "    # Read a line.\n",
        "    line = f.readline()\n",
        "    # When readline returns an empty string, the file is fully read.\n",
        "    if line == \"\":\n",
        "        print(\"::DONE::\")\n",
        "        break\n",
        "    if count != 0:\n",
        "      string_json += split\n",
        "    string_json += line\n",
        "    content.append(line)\n",
        "    count +=1\n",
        "\n",
        "string_json += end"
      ],
      "execution_count": 4,
      "outputs": [
        {
          "output_type": "stream",
          "text": [
            "::DONE::\n"
          ],
          "name": "stdout"
        }
      ]
    },
    {
      "cell_type": "code",
      "metadata": {
        "id": "BHHEQcNrbHn-"
      },
      "source": [
        "import json\n",
        "data = json.loads(string_json)"
      ],
      "execution_count": 5,
      "outputs": []
    },
    {
      "cell_type": "code",
      "metadata": {
        "id": "LUV3gL8jbJVl"
      },
      "source": [
        "data"
      ],
      "execution_count": 6,
      "outputs": []
    },
    {
      "cell_type": "code",
      "metadata": {
        "id": "5yQ1ih69bKZq"
      },
      "source": [
        "df = pd.json_normalize(data)"
      ],
      "execution_count": 7,
      "outputs": []
    },
    {
      "cell_type": "code",
      "metadata": {
        "colab": {
          "base_uri": "https://localhost:8080/",
          "height": 402
        },
        "id": "GgnyS1gVbMoR",
        "outputId": "b6d93a42-05bc-4a98-f624-f379fb1fa358"
      },
      "source": [
        "df"
      ],
      "execution_count": 8,
      "outputs": [
        {
          "output_type": "execute_result",
          "data": {
            "text/html": [
              "<div>\n",
              "<style scoped>\n",
              "    .dataframe tbody tr th:only-of-type {\n",
              "        vertical-align: middle;\n",
              "    }\n",
              "\n",
              "    .dataframe tbody tr th {\n",
              "        vertical-align: top;\n",
              "    }\n",
              "\n",
              "    .dataframe thead th {\n",
              "        text-align: right;\n",
              "    }\n",
              "</style>\n",
              "<table border=\"1\" class=\"dataframe\">\n",
              "  <thead>\n",
              "    <tr style=\"text-align: right;\">\n",
              "      <th></th>\n",
              "      <th>_index</th>\n",
              "      <th>_type</th>\n",
              "      <th>_id</th>\n",
              "      <th>_score</th>\n",
              "      <th>_source.title</th>\n",
              "      <th>_source.docment</th>\n",
              "      <th>_source.content</th>\n",
              "      <th>_source.pullDate</th>\n",
              "    </tr>\n",
              "  </thead>\n",
              "  <tbody>\n",
              "    <tr>\n",
              "      <th>0</th>\n",
              "      <td>egat</td>\n",
              "      <td>egat</td>\n",
              "      <td>105</td>\n",
              "      <td>1</td>\n",
              "      <td>105</td>\n",
              "      <td>105.txt</td>\n",
              "      <td>1\\nแบบฟอร์มนำเสนอขอรับทำการวิจัยและพัฒนา กฟผ.\\...</td>\n",
              "      <td>2019-09-23T02:11:58.126Z</td>\n",
              "    </tr>\n",
              "    <tr>\n",
              "      <th>1</th>\n",
              "      <td>egat</td>\n",
              "      <td>egat</td>\n",
              "      <td>108</td>\n",
              "      <td>1</td>\n",
              "      <td>108</td>\n",
              "      <td>108.txt</td>\n",
              "      <td>อจ.\\nผค - .\\n3 0 00T 777\\n๑๑๑ะอองโั\\nงงะมษายน\\...</td>\n",
              "      <td>2019-09-23T02:11:59.066Z</td>\n",
              "    </tr>\n",
              "    <tr>\n",
              "      <th>2</th>\n",
              "      <td>egat</td>\n",
              "      <td>egat</td>\n",
              "      <td>129</td>\n",
              "      <td>1</td>\n",
              "      <td>129</td>\n",
              "      <td>129.txt</td>\n",
              "      <td>01/02\\n2\\nRA สะงศใ”\\nฝ่ายบริหารงานวิจัยและพัฒน...</td>\n",
              "      <td>2019-09-23T02:12:06.256Z</td>\n",
              "    </tr>\n",
              "    <tr>\n",
              "      <th>3</th>\n",
              "      <td>egat</td>\n",
              "      <td>egat</td>\n",
              "      <td>110</td>\n",
              "      <td>1</td>\n",
              "      <td>110</td>\n",
              "      <td>110.txt</td>\n",
              "      <td>ผศ - ผ.\\nรับที่ 159 -7 Nov 2007 -\\nส่งที่........</td>\n",
              "      <td>2019-09-23T02:12:00.009Z</td>\n",
              "    </tr>\n",
              "    <tr>\n",
              "      <th>4</th>\n",
              "      <td>egat</td>\n",
              "      <td>egat</td>\n",
              "      <td>120</td>\n",
              "      <td>1</td>\n",
              "      <td>120</td>\n",
              "      <td>120.txt</td>\n",
              "      <td>01/01\\nฝ่ายบริหารงานวิจัยและพัฒนา การไฟฟ้าฝ่าย...</td>\n",
              "      <td>2019-09-23T02:12:03.455Z</td>\n",
              "    </tr>\n",
              "    <tr>\n",
              "      <th>...</th>\n",
              "      <td>...</td>\n",
              "      <td>...</td>\n",
              "      <td>...</td>\n",
              "      <td>...</td>\n",
              "      <td>...</td>\n",
              "      <td>...</td>\n",
              "      <td>...</td>\n",
              "      <td>...</td>\n",
              "    </tr>\n",
              "    <tr>\n",
              "      <th>360</th>\n",
              "      <td>egat</td>\n",
              "      <td>egat</td>\n",
              "      <td>74</td>\n",
              "      <td>1</td>\n",
              "      <td>74</td>\n",
              "      <td>74.txt</td>\n",
              "      <td>ฝ่ายบริหารงานวิจัยและพัฒนา การไฟฟ้าฝ่ายผลิตแห่...</td>\n",
              "      <td>2019-09-23T02:13:42.851Z</td>\n",
              "    </tr>\n",
              "    <tr>\n",
              "      <th>361</th>\n",
              "      <td>egat</td>\n",
              "      <td>egat</td>\n",
              "      <td>76</td>\n",
              "      <td>1</td>\n",
              "      <td>76</td>\n",
              "      <td>76.txt</td>\n",
              "      <td>ฝ่ายบริหารงานวิจัยและพัฒนา การไฟฟ้าฝ่ายผลิตแห่...</td>\n",
              "      <td>2019-09-23T02:13:43.161Z</td>\n",
              "    </tr>\n",
              "    <tr>\n",
              "      <th>362</th>\n",
              "      <td>egat</td>\n",
              "      <td>egat</td>\n",
              "      <td>83</td>\n",
              "      <td>1</td>\n",
              "      <td>83</td>\n",
              "      <td>83.txt</td>\n",
              "      <td>สิ่งแนบ กฟผ. รับที่ 15508 ลงวันที่\\n3 พ.ศ. 250...</td>\n",
              "      <td>2019-09-23T02:13:45.683Z</td>\n",
              "    </tr>\n",
              "    <tr>\n",
              "      <th>363</th>\n",
              "      <td>egat</td>\n",
              "      <td>egat</td>\n",
              "      <td>90</td>\n",
              "      <td>1</td>\n",
              "      <td>90</td>\n",
              "      <td>90.txt</td>\n",
              "      <td>ฝ่ายบริหารงานวิจัยและพัฒนา การไฟฟ้าฝ่ายผลิตแห่...</td>\n",
              "      <td>2019-09-23T02:13:48.147Z</td>\n",
              "    </tr>\n",
              "    <tr>\n",
              "      <th>364</th>\n",
              "      <td>egat</td>\n",
              "      <td>egat</td>\n",
              "      <td>91</td>\n",
              "      <td>1</td>\n",
              "      <td>91</td>\n",
              "      <td>91.txt</td>\n",
              "      <td>อิจพอ\\nรับที่ 88t 3tH. 2550\\nMarch\\nส่งที่ 40M...</td>\n",
              "      <td>2019-09-23T02:13:48.455Z</td>\n",
              "    </tr>\n",
              "  </tbody>\n",
              "</table>\n",
              "<p>365 rows × 8 columns</p>\n",
              "</div>"
            ],
            "text/plain": [
              "    _index  ...          _source.pullDate\n",
              "0     egat  ...  2019-09-23T02:11:58.126Z\n",
              "1     egat  ...  2019-09-23T02:11:59.066Z\n",
              "2     egat  ...  2019-09-23T02:12:06.256Z\n",
              "3     egat  ...  2019-09-23T02:12:00.009Z\n",
              "4     egat  ...  2019-09-23T02:12:03.455Z\n",
              "..     ...  ...                       ...\n",
              "360   egat  ...  2019-09-23T02:13:42.851Z\n",
              "361   egat  ...  2019-09-23T02:13:43.161Z\n",
              "362   egat  ...  2019-09-23T02:13:45.683Z\n",
              "363   egat  ...  2019-09-23T02:13:48.147Z\n",
              "364   egat  ...  2019-09-23T02:13:48.455Z\n",
              "\n",
              "[365 rows x 8 columns]"
            ]
          },
          "metadata": {
            "tags": []
          },
          "execution_count": 8
        }
      ]
    },
    {
      "cell_type": "markdown",
      "metadata": {
        "id": "w2bgluNIeT7Y"
      },
      "source": [
        "# Create Publish"
      ]
    },
    {
      "cell_type": "code",
      "metadata": {
        "colab": {
          "base_uri": "https://localhost:8080/"
        },
        "id": "EDuVCmAXdtmk",
        "outputId": "68b12113-05e8-4305-dbd9-13f8d5fe1299"
      },
      "source": [
        "result = df\n",
        "result.columns"
      ],
      "execution_count": 13,
      "outputs": [
        {
          "output_type": "execute_result",
          "data": {
            "text/plain": [
              "Index(['_index', '_type', '_id', '_score', '_source.title', '_source.docment',\n",
              "       '_source.content', '_source.pullDate'],\n",
              "      dtype='object')"
            ]
          },
          "metadata": {
            "tags": []
          },
          "execution_count": 13
        }
      ]
    },
    {
      "cell_type": "code",
      "metadata": {
        "id": "6D7wN_lOeb3U"
      },
      "source": [
        "result = result.rename(columns={\"_id\":\"source_ID\",\"_source.title\":\"paperTitle\",\"_source.content\":\"paperAbtract_th\"})"
      ],
      "execution_count": 14,
      "outputs": []
    },
    {
      "cell_type": "code",
      "metadata": {
        "colab": {
          "base_uri": "https://localhost:8080/",
          "height": 791
        },
        "id": "th6IqqVqeuTJ",
        "outputId": "34cf1c7c-b9d3-4914-c91f-a97fe20cf16b"
      },
      "source": [
        "result"
      ],
      "execution_count": 15,
      "outputs": [
        {
          "output_type": "execute_result",
          "data": {
            "text/html": [
              "<div>\n",
              "<style scoped>\n",
              "    .dataframe tbody tr th:only-of-type {\n",
              "        vertical-align: middle;\n",
              "    }\n",
              "\n",
              "    .dataframe tbody tr th {\n",
              "        vertical-align: top;\n",
              "    }\n",
              "\n",
              "    .dataframe thead th {\n",
              "        text-align: right;\n",
              "    }\n",
              "</style>\n",
              "<table border=\"1\" class=\"dataframe\">\n",
              "  <thead>\n",
              "    <tr style=\"text-align: right;\">\n",
              "      <th></th>\n",
              "      <th>_index</th>\n",
              "      <th>_type</th>\n",
              "      <th>source_ID</th>\n",
              "      <th>_score</th>\n",
              "      <th>paperTitle</th>\n",
              "      <th>_source.docment</th>\n",
              "      <th>paperAbtract_th</th>\n",
              "      <th>_source.pullDate</th>\n",
              "    </tr>\n",
              "  </thead>\n",
              "  <tbody>\n",
              "    <tr>\n",
              "      <th>0</th>\n",
              "      <td>egat</td>\n",
              "      <td>egat</td>\n",
              "      <td>105</td>\n",
              "      <td>1</td>\n",
              "      <td>105</td>\n",
              "      <td>105.txt</td>\n",
              "      <td>1\\nแบบฟอร์มนำเสนอขอรับทำการวิจัยและพัฒนา กฟผ.\\...</td>\n",
              "      <td>2019-09-23T02:11:58.126Z</td>\n",
              "    </tr>\n",
              "    <tr>\n",
              "      <th>1</th>\n",
              "      <td>egat</td>\n",
              "      <td>egat</td>\n",
              "      <td>108</td>\n",
              "      <td>1</td>\n",
              "      <td>108</td>\n",
              "      <td>108.txt</td>\n",
              "      <td>อจ.\\nผค - .\\n3 0 00T 777\\n๑๑๑ะอองโั\\nงงะมษายน\\...</td>\n",
              "      <td>2019-09-23T02:11:59.066Z</td>\n",
              "    </tr>\n",
              "    <tr>\n",
              "      <th>2</th>\n",
              "      <td>egat</td>\n",
              "      <td>egat</td>\n",
              "      <td>129</td>\n",
              "      <td>1</td>\n",
              "      <td>129</td>\n",
              "      <td>129.txt</td>\n",
              "      <td>01/02\\n2\\nRA สะงศใ”\\nฝ่ายบริหารงานวิจัยและพัฒน...</td>\n",
              "      <td>2019-09-23T02:12:06.256Z</td>\n",
              "    </tr>\n",
              "    <tr>\n",
              "      <th>3</th>\n",
              "      <td>egat</td>\n",
              "      <td>egat</td>\n",
              "      <td>110</td>\n",
              "      <td>1</td>\n",
              "      <td>110</td>\n",
              "      <td>110.txt</td>\n",
              "      <td>ผศ - ผ.\\nรับที่ 159 -7 Nov 2007 -\\nส่งที่........</td>\n",
              "      <td>2019-09-23T02:12:00.009Z</td>\n",
              "    </tr>\n",
              "    <tr>\n",
              "      <th>4</th>\n",
              "      <td>egat</td>\n",
              "      <td>egat</td>\n",
              "      <td>120</td>\n",
              "      <td>1</td>\n",
              "      <td>120</td>\n",
              "      <td>120.txt</td>\n",
              "      <td>01/01\\nฝ่ายบริหารงานวิจัยและพัฒนา การไฟฟ้าฝ่าย...</td>\n",
              "      <td>2019-09-23T02:12:03.455Z</td>\n",
              "    </tr>\n",
              "    <tr>\n",
              "      <th>...</th>\n",
              "      <td>...</td>\n",
              "      <td>...</td>\n",
              "      <td>...</td>\n",
              "      <td>...</td>\n",
              "      <td>...</td>\n",
              "      <td>...</td>\n",
              "      <td>...</td>\n",
              "      <td>...</td>\n",
              "    </tr>\n",
              "    <tr>\n",
              "      <th>360</th>\n",
              "      <td>egat</td>\n",
              "      <td>egat</td>\n",
              "      <td>74</td>\n",
              "      <td>1</td>\n",
              "      <td>74</td>\n",
              "      <td>74.txt</td>\n",
              "      <td>ฝ่ายบริหารงานวิจัยและพัฒนา การไฟฟ้าฝ่ายผลิตแห่...</td>\n",
              "      <td>2019-09-23T02:13:42.851Z</td>\n",
              "    </tr>\n",
              "    <tr>\n",
              "      <th>361</th>\n",
              "      <td>egat</td>\n",
              "      <td>egat</td>\n",
              "      <td>76</td>\n",
              "      <td>1</td>\n",
              "      <td>76</td>\n",
              "      <td>76.txt</td>\n",
              "      <td>ฝ่ายบริหารงานวิจัยและพัฒนา การไฟฟ้าฝ่ายผลิตแห่...</td>\n",
              "      <td>2019-09-23T02:13:43.161Z</td>\n",
              "    </tr>\n",
              "    <tr>\n",
              "      <th>362</th>\n",
              "      <td>egat</td>\n",
              "      <td>egat</td>\n",
              "      <td>83</td>\n",
              "      <td>1</td>\n",
              "      <td>83</td>\n",
              "      <td>83.txt</td>\n",
              "      <td>สิ่งแนบ กฟผ. รับที่ 15508 ลงวันที่\\n3 พ.ศ. 250...</td>\n",
              "      <td>2019-09-23T02:13:45.683Z</td>\n",
              "    </tr>\n",
              "    <tr>\n",
              "      <th>363</th>\n",
              "      <td>egat</td>\n",
              "      <td>egat</td>\n",
              "      <td>90</td>\n",
              "      <td>1</td>\n",
              "      <td>90</td>\n",
              "      <td>90.txt</td>\n",
              "      <td>ฝ่ายบริหารงานวิจัยและพัฒนา การไฟฟ้าฝ่ายผลิตแห่...</td>\n",
              "      <td>2019-09-23T02:13:48.147Z</td>\n",
              "    </tr>\n",
              "    <tr>\n",
              "      <th>364</th>\n",
              "      <td>egat</td>\n",
              "      <td>egat</td>\n",
              "      <td>91</td>\n",
              "      <td>1</td>\n",
              "      <td>91</td>\n",
              "      <td>91.txt</td>\n",
              "      <td>อิจพอ\\nรับที่ 88t 3tH. 2550\\nMarch\\nส่งที่ 40M...</td>\n",
              "      <td>2019-09-23T02:13:48.455Z</td>\n",
              "    </tr>\n",
              "  </tbody>\n",
              "</table>\n",
              "<p>365 rows × 8 columns</p>\n",
              "</div>"
            ],
            "text/plain": [
              "    _index  ...          _source.pullDate\n",
              "0     egat  ...  2019-09-23T02:11:58.126Z\n",
              "1     egat  ...  2019-09-23T02:11:59.066Z\n",
              "2     egat  ...  2019-09-23T02:12:06.256Z\n",
              "3     egat  ...  2019-09-23T02:12:00.009Z\n",
              "4     egat  ...  2019-09-23T02:12:03.455Z\n",
              "..     ...  ...                       ...\n",
              "360   egat  ...  2019-09-23T02:13:42.851Z\n",
              "361   egat  ...  2019-09-23T02:13:43.161Z\n",
              "362   egat  ...  2019-09-23T02:13:45.683Z\n",
              "363   egat  ...  2019-09-23T02:13:48.147Z\n",
              "364   egat  ...  2019-09-23T02:13:48.455Z\n",
              "\n",
              "[365 rows x 8 columns]"
            ]
          },
          "metadata": {
            "tags": []
          },
          "execution_count": 15
        }
      ]
    },
    {
      "cell_type": "code",
      "metadata": {
        "colab": {
          "base_uri": "https://localhost:8080/"
        },
        "id": "k0ssvTKyezCr",
        "outputId": "cbdea9c8-5809-4ddf-a594-dd30638996a3"
      },
      "source": [
        "result.columns"
      ],
      "execution_count": 16,
      "outputs": [
        {
          "output_type": "execute_result",
          "data": {
            "text/plain": [
              "Index(['_index', '_type', 'source_ID', '_score', 'paperTitle',\n",
              "       '_source.docment', 'paperAbtract_th', '_source.pullDate'],\n",
              "      dtype='object')"
            ]
          },
          "metadata": {
            "tags": []
          },
          "execution_count": 16
        }
      ]
    },
    {
      "cell_type": "code",
      "metadata": {
        "id": "5XAVpY5xe0um"
      },
      "source": [
        "result = result.drop(['_index', '_type', '_score','_source.docment',\n",
        "                      '_source.pullDate'],axis=1)"
      ],
      "execution_count": 17,
      "outputs": []
    },
    {
      "cell_type": "code",
      "metadata": {
        "colab": {
          "base_uri": "https://localhost:8080/",
          "height": 402
        },
        "id": "E3TMUQdFflPb",
        "outputId": "62b8cc14-90b9-40c6-e749-2c021ed42a38"
      },
      "source": [
        "result"
      ],
      "execution_count": 18,
      "outputs": [
        {
          "output_type": "execute_result",
          "data": {
            "text/html": [
              "<div>\n",
              "<style scoped>\n",
              "    .dataframe tbody tr th:only-of-type {\n",
              "        vertical-align: middle;\n",
              "    }\n",
              "\n",
              "    .dataframe tbody tr th {\n",
              "        vertical-align: top;\n",
              "    }\n",
              "\n",
              "    .dataframe thead th {\n",
              "        text-align: right;\n",
              "    }\n",
              "</style>\n",
              "<table border=\"1\" class=\"dataframe\">\n",
              "  <thead>\n",
              "    <tr style=\"text-align: right;\">\n",
              "      <th></th>\n",
              "      <th>source_ID</th>\n",
              "      <th>paperTitle</th>\n",
              "      <th>paperAbtract_th</th>\n",
              "    </tr>\n",
              "  </thead>\n",
              "  <tbody>\n",
              "    <tr>\n",
              "      <th>0</th>\n",
              "      <td>105</td>\n",
              "      <td>105</td>\n",
              "      <td>1\\nแบบฟอร์มนำเสนอขอรับทำการวิจัยและพัฒนา กฟผ.\\...</td>\n",
              "    </tr>\n",
              "    <tr>\n",
              "      <th>1</th>\n",
              "      <td>108</td>\n",
              "      <td>108</td>\n",
              "      <td>อจ.\\nผค - .\\n3 0 00T 777\\n๑๑๑ะอองโั\\nงงะมษายน\\...</td>\n",
              "    </tr>\n",
              "    <tr>\n",
              "      <th>2</th>\n",
              "      <td>129</td>\n",
              "      <td>129</td>\n",
              "      <td>01/02\\n2\\nRA สะงศใ”\\nฝ่ายบริหารงานวิจัยและพัฒน...</td>\n",
              "    </tr>\n",
              "    <tr>\n",
              "      <th>3</th>\n",
              "      <td>110</td>\n",
              "      <td>110</td>\n",
              "      <td>ผศ - ผ.\\nรับที่ 159 -7 Nov 2007 -\\nส่งที่........</td>\n",
              "    </tr>\n",
              "    <tr>\n",
              "      <th>4</th>\n",
              "      <td>120</td>\n",
              "      <td>120</td>\n",
              "      <td>01/01\\nฝ่ายบริหารงานวิจัยและพัฒนา การไฟฟ้าฝ่าย...</td>\n",
              "    </tr>\n",
              "    <tr>\n",
              "      <th>...</th>\n",
              "      <td>...</td>\n",
              "      <td>...</td>\n",
              "      <td>...</td>\n",
              "    </tr>\n",
              "    <tr>\n",
              "      <th>360</th>\n",
              "      <td>74</td>\n",
              "      <td>74</td>\n",
              "      <td>ฝ่ายบริหารงานวิจัยและพัฒนา การไฟฟ้าฝ่ายผลิตแห่...</td>\n",
              "    </tr>\n",
              "    <tr>\n",
              "      <th>361</th>\n",
              "      <td>76</td>\n",
              "      <td>76</td>\n",
              "      <td>ฝ่ายบริหารงานวิจัยและพัฒนา การไฟฟ้าฝ่ายผลิตแห่...</td>\n",
              "    </tr>\n",
              "    <tr>\n",
              "      <th>362</th>\n",
              "      <td>83</td>\n",
              "      <td>83</td>\n",
              "      <td>สิ่งแนบ กฟผ. รับที่ 15508 ลงวันที่\\n3 พ.ศ. 250...</td>\n",
              "    </tr>\n",
              "    <tr>\n",
              "      <th>363</th>\n",
              "      <td>90</td>\n",
              "      <td>90</td>\n",
              "      <td>ฝ่ายบริหารงานวิจัยและพัฒนา การไฟฟ้าฝ่ายผลิตแห่...</td>\n",
              "    </tr>\n",
              "    <tr>\n",
              "      <th>364</th>\n",
              "      <td>91</td>\n",
              "      <td>91</td>\n",
              "      <td>อิจพอ\\nรับที่ 88t 3tH. 2550\\nMarch\\nส่งที่ 40M...</td>\n",
              "    </tr>\n",
              "  </tbody>\n",
              "</table>\n",
              "<p>365 rows × 3 columns</p>\n",
              "</div>"
            ],
            "text/plain": [
              "    source_ID paperTitle                                    paperAbtract_th\n",
              "0         105        105  1\\nแบบฟอร์มนำเสนอขอรับทำการวิจัยและพัฒนา กฟผ.\\...\n",
              "1         108        108  อจ.\\nผค - .\\n3 0 00T 777\\n๑๑๑ะอองโั\\nงงะมษายน\\...\n",
              "2         129        129  01/02\\n2\\nRA สะงศใ”\\nฝ่ายบริหารงานวิจัยและพัฒน...\n",
              "3         110        110  ผศ - ผ.\\nรับที่ 159 -7 Nov 2007 -\\nส่งที่........\n",
              "4         120        120  01/01\\nฝ่ายบริหารงานวิจัยและพัฒนา การไฟฟ้าฝ่าย...\n",
              "..        ...        ...                                                ...\n",
              "360        74         74  ฝ่ายบริหารงานวิจัยและพัฒนา การไฟฟ้าฝ่ายผลิตแห่...\n",
              "361        76         76  ฝ่ายบริหารงานวิจัยและพัฒนา การไฟฟ้าฝ่ายผลิตแห่...\n",
              "362        83         83  สิ่งแนบ กฟผ. รับที่ 15508 ลงวันที่\\n3 พ.ศ. 250...\n",
              "363        90         90  ฝ่ายบริหารงานวิจัยและพัฒนา การไฟฟ้าฝ่ายผลิตแห่...\n",
              "364        91         91  อิจพอ\\nรับที่ 88t 3tH. 2550\\nMarch\\nส่งที่ 40M...\n",
              "\n",
              "[365 rows x 3 columns]"
            ]
          },
          "metadata": {
            "tags": []
          },
          "execution_count": 18
        }
      ]
    },
    {
      "cell_type": "code",
      "metadata": {
        "id": "4dNnPkN-fnZV"
      },
      "source": [
        "result['auth_ID'] = ''\n",
        "result[\"firstAuthor\"] = ''\n",
        "result['sourceName'] = 'egat'\n",
        "result['paperType'] = 'project'\n",
        "\n",
        "result['paper_ID']=''\n",
        "# result['paperTitle']=''\n",
        "# result['paperAbtract_th'] = ''\n",
        "result['paperAbtract_en'] = ''\n",
        "result['paperKeywords'] = ''\n",
        "result['paperPage'] = ''\n",
        "result['publishedDate'] = ''\n",
        "result['publishedYear'] = ''\n",
        "result['publisherName'] = ''\n",
        "result['bookName'] = ''\n",
        "result['bookNo'] = ''\n",
        "result['bookVolume'] = ''\n",
        "\n",
        "result['bookEditor'] = ''\n",
        "result['bookSeries'] = ''\n",
        "result['Fund'] = ''\n",
        "result['DOI'] = ''\n",
        "result['ISSN'] = ''\n",
        "result['citation'] = ''\n",
        "result['refURL']=''\n",
        "result['crossRef'] = ''"
      ],
      "execution_count": 29,
      "outputs": []
    },
    {
      "cell_type": "code",
      "metadata": {
        "colab": {
          "base_uri": "https://localhost:8080/"
        },
        "id": "JRBCcFzvhPKf",
        "outputId": "2db5bf23-533b-4dbe-d0de-1e2eba087b92"
      },
      "source": [
        "all_column =  [\"auth_ID\",\"firstAuthor\",\"sourceName\",\"source_ID\",\"paper_ID\",\"paperTitle\",\"paperType\",\"paperAbtract_th\",\"paperAbtract_en\",\"paperKeywords\",\"paperPage\",\"publishedDate\",\"publishedYear\",\"publisherName\",\"bookName\",\"bookNo\",\"bookVolume\",\"bookEditor\",\"bookSeries\",\"Fund\",\"DOI\",\"ISSN\",\"citation\",\"refURL\",\"crossRef\"]\n",
        "len(all_column)"
      ],
      "execution_count": 30,
      "outputs": [
        {
          "output_type": "execute_result",
          "data": {
            "text/plain": [
              "25"
            ]
          },
          "metadata": {
            "tags": []
          },
          "execution_count": 30
        }
      ]
    },
    {
      "cell_type": "code",
      "metadata": {
        "colab": {
          "base_uri": "https://localhost:8080/"
        },
        "id": "NdJRKLDQhgvo",
        "outputId": "cd8e17b9-7231-4217-8209-d0e403cd49f7"
      },
      "source": [
        "len(result.columns)"
      ],
      "execution_count": 31,
      "outputs": [
        {
          "output_type": "execute_result",
          "data": {
            "text/plain": [
              "25"
            ]
          },
          "metadata": {
            "tags": []
          },
          "execution_count": 31
        }
      ]
    },
    {
      "cell_type": "code",
      "metadata": {
        "id": "MB9Fuz6chio4"
      },
      "source": [
        "result = result[all_column]"
      ],
      "execution_count": 32,
      "outputs": []
    },
    {
      "cell_type": "code",
      "metadata": {
        "colab": {
          "base_uri": "https://localhost:8080/",
          "height": 400
        },
        "id": "6J-My7YShlVw",
        "outputId": "b980a0b2-14d2-489c-a62c-3db87463b864"
      },
      "source": [
        "result.head()"
      ],
      "execution_count": 33,
      "outputs": [
        {
          "output_type": "execute_result",
          "data": {
            "text/html": [
              "<div>\n",
              "<style scoped>\n",
              "    .dataframe tbody tr th:only-of-type {\n",
              "        vertical-align: middle;\n",
              "    }\n",
              "\n",
              "    .dataframe tbody tr th {\n",
              "        vertical-align: top;\n",
              "    }\n",
              "\n",
              "    .dataframe thead th {\n",
              "        text-align: right;\n",
              "    }\n",
              "</style>\n",
              "<table border=\"1\" class=\"dataframe\">\n",
              "  <thead>\n",
              "    <tr style=\"text-align: right;\">\n",
              "      <th></th>\n",
              "      <th>auth_ID</th>\n",
              "      <th>firstAuthor</th>\n",
              "      <th>sourceName</th>\n",
              "      <th>source_ID</th>\n",
              "      <th>paper_ID</th>\n",
              "      <th>paperTitle</th>\n",
              "      <th>paperType</th>\n",
              "      <th>paperAbtract_th</th>\n",
              "      <th>paperAbtract_en</th>\n",
              "      <th>paperKeywords</th>\n",
              "      <th>paperPage</th>\n",
              "      <th>publishedDate</th>\n",
              "      <th>publishedYear</th>\n",
              "      <th>publisherName</th>\n",
              "      <th>bookName</th>\n",
              "      <th>bookNo</th>\n",
              "      <th>bookVolume</th>\n",
              "      <th>bookEditor</th>\n",
              "      <th>bookSeries</th>\n",
              "      <th>Fund</th>\n",
              "      <th>DOI</th>\n",
              "      <th>ISSN</th>\n",
              "      <th>citation</th>\n",
              "      <th>refURL</th>\n",
              "      <th>crossRef</th>\n",
              "    </tr>\n",
              "  </thead>\n",
              "  <tbody>\n",
              "    <tr>\n",
              "      <th>0</th>\n",
              "      <td></td>\n",
              "      <td></td>\n",
              "      <td>egat</td>\n",
              "      <td>105</td>\n",
              "      <td></td>\n",
              "      <td>105</td>\n",
              "      <td>project</td>\n",
              "      <td>1\\nแบบฟอร์มนำเสนอขอรับทำการวิจัยและพัฒนา กฟผ.\\...</td>\n",
              "      <td></td>\n",
              "      <td></td>\n",
              "      <td></td>\n",
              "      <td></td>\n",
              "      <td></td>\n",
              "      <td></td>\n",
              "      <td></td>\n",
              "      <td></td>\n",
              "      <td></td>\n",
              "      <td></td>\n",
              "      <td></td>\n",
              "      <td></td>\n",
              "      <td></td>\n",
              "      <td></td>\n",
              "      <td></td>\n",
              "      <td></td>\n",
              "      <td></td>\n",
              "    </tr>\n",
              "    <tr>\n",
              "      <th>1</th>\n",
              "      <td></td>\n",
              "      <td></td>\n",
              "      <td>egat</td>\n",
              "      <td>108</td>\n",
              "      <td></td>\n",
              "      <td>108</td>\n",
              "      <td>project</td>\n",
              "      <td>อจ.\\nผค - .\\n3 0 00T 777\\n๑๑๑ะอองโั\\nงงะมษายน\\...</td>\n",
              "      <td></td>\n",
              "      <td></td>\n",
              "      <td></td>\n",
              "      <td></td>\n",
              "      <td></td>\n",
              "      <td></td>\n",
              "      <td></td>\n",
              "      <td></td>\n",
              "      <td></td>\n",
              "      <td></td>\n",
              "      <td></td>\n",
              "      <td></td>\n",
              "      <td></td>\n",
              "      <td></td>\n",
              "      <td></td>\n",
              "      <td></td>\n",
              "      <td></td>\n",
              "    </tr>\n",
              "    <tr>\n",
              "      <th>2</th>\n",
              "      <td></td>\n",
              "      <td></td>\n",
              "      <td>egat</td>\n",
              "      <td>129</td>\n",
              "      <td></td>\n",
              "      <td>129</td>\n",
              "      <td>project</td>\n",
              "      <td>01/02\\n2\\nRA สะงศใ”\\nฝ่ายบริหารงานวิจัยและพัฒน...</td>\n",
              "      <td></td>\n",
              "      <td></td>\n",
              "      <td></td>\n",
              "      <td></td>\n",
              "      <td></td>\n",
              "      <td></td>\n",
              "      <td></td>\n",
              "      <td></td>\n",
              "      <td></td>\n",
              "      <td></td>\n",
              "      <td></td>\n",
              "      <td></td>\n",
              "      <td></td>\n",
              "      <td></td>\n",
              "      <td></td>\n",
              "      <td></td>\n",
              "      <td></td>\n",
              "    </tr>\n",
              "    <tr>\n",
              "      <th>3</th>\n",
              "      <td></td>\n",
              "      <td></td>\n",
              "      <td>egat</td>\n",
              "      <td>110</td>\n",
              "      <td></td>\n",
              "      <td>110</td>\n",
              "      <td>project</td>\n",
              "      <td>ผศ - ผ.\\nรับที่ 159 -7 Nov 2007 -\\nส่งที่........</td>\n",
              "      <td></td>\n",
              "      <td></td>\n",
              "      <td></td>\n",
              "      <td></td>\n",
              "      <td></td>\n",
              "      <td></td>\n",
              "      <td></td>\n",
              "      <td></td>\n",
              "      <td></td>\n",
              "      <td></td>\n",
              "      <td></td>\n",
              "      <td></td>\n",
              "      <td></td>\n",
              "      <td></td>\n",
              "      <td></td>\n",
              "      <td></td>\n",
              "      <td></td>\n",
              "    </tr>\n",
              "    <tr>\n",
              "      <th>4</th>\n",
              "      <td></td>\n",
              "      <td></td>\n",
              "      <td>egat</td>\n",
              "      <td>120</td>\n",
              "      <td></td>\n",
              "      <td>120</td>\n",
              "      <td>project</td>\n",
              "      <td>01/01\\nฝ่ายบริหารงานวิจัยและพัฒนา การไฟฟ้าฝ่าย...</td>\n",
              "      <td></td>\n",
              "      <td></td>\n",
              "      <td></td>\n",
              "      <td></td>\n",
              "      <td></td>\n",
              "      <td></td>\n",
              "      <td></td>\n",
              "      <td></td>\n",
              "      <td></td>\n",
              "      <td></td>\n",
              "      <td></td>\n",
              "      <td></td>\n",
              "      <td></td>\n",
              "      <td></td>\n",
              "      <td></td>\n",
              "      <td></td>\n",
              "      <td></td>\n",
              "    </tr>\n",
              "  </tbody>\n",
              "</table>\n",
              "</div>"
            ],
            "text/plain": [
              "  auth_ID firstAuthor sourceName source_ID  ... ISSN citation refURL crossRef\n",
              "0                           egat       105  ...                              \n",
              "1                           egat       108  ...                              \n",
              "2                           egat       129  ...                              \n",
              "3                           egat       110  ...                              \n",
              "4                           egat       120  ...                              \n",
              "\n",
              "[5 rows x 25 columns]"
            ]
          },
          "metadata": {
            "tags": []
          },
          "execution_count": 33
        }
      ]
    },
    {
      "cell_type": "code",
      "metadata": {
        "id": "-y-D9XALh2Es"
      },
      "source": [
        "result.index.name = 'id'\n",
        "\n",
        "result.to_csv('egat_publish_thai.csv')"
      ],
      "execution_count": 34,
      "outputs": []
    },
    {
      "cell_type": "code",
      "metadata": {
        "id": "lY-Dy3rGiVkU"
      },
      "source": [
        ""
      ],
      "execution_count": null,
      "outputs": []
    }
  ]
}